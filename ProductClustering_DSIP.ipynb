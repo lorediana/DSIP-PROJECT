{
  "nbformat": 4,
  "nbformat_minor": 0,
  "metadata": {
    "colab": {
      "name": "Data_science_industry_project_e_commer_WORD_ANALYSIS.ipynb",
      "provenance": [],
      "collapsed_sections": []
    },
    "kernelspec": {
      "name": "python3",
      "display_name": "Python 3"
    },
    "language_info": {
      "name": "python"
    }
  },
  "cells": [
    {
      "cell_type": "markdown",
      "source": [
        "# CLUSTERING PRODDUCTS\n",
        "## Using NPL and K-Means clustering"
      ],
      "metadata": {
        "id": "zKoqKn4gA2RL"
      }
    },
    {
      "cell_type": "markdown",
      "source": [
        "\n",
        "\n",
        "---\n",
        "\n"
      ],
      "metadata": {
        "id": "h9vrY5QTA5Ey"
      }
    },
    {
      "cell_type": "markdown",
      "source": [
        "### Load libraries"
      ],
      "metadata": {
        "id": "ionDtpVwgHxM"
      }
    },
    {
      "cell_type": "code",
      "source": [
        "'''\n",
        "!pip install fuzzywuzzy\n",
        "!pip install plotly\n",
        "!pip install gensim\n",
        "!pip install webcolors\n",
        "'''"
      ],
      "metadata": {
        "colab": {
          "base_uri": "https://localhost:8080/",
          "height": 35
        },
        "id": "g_Xx4gQGzmDY",
        "outputId": "89fdc5c8-e6c9-4cac-f888-cf66183798dd"
      },
      "execution_count": 1,
      "outputs": [
        {
          "output_type": "execute_result",
          "data": {
            "application/vnd.google.colaboratory.intrinsic+json": {
              "type": "string"
            },
            "text/plain": [
              "'\\n!pip install fuzzywuzzy\\n!pip install plotly\\n!pip install gensim\\n!pip install webcolors\\n'"
            ]
          },
          "metadata": {},
          "execution_count": 1
        }
      ]
    },
    {
      "cell_type": "code",
      "execution_count": 2,
      "metadata": {
        "id": "zF4IFtIkxKD8"
      },
      "outputs": [],
      "source": [
        "import numpy as np\n",
        "import pandas as pd\n",
        "from scipy import stats\n",
        "import matplotlib as mpl\n",
        "import matplotlib.pyplot as plt"
      ]
    },
    {
      "cell_type": "code",
      "source": [
        "%matplotlib inline\n",
        "import plotly.express as px\n",
        "\n",
        "#Libraries for preprocessing\n",
        "from gensim.parsing.preprocessing import remove_stopwords\n",
        "import string\n",
        "from nltk.stem import PorterStemmer\n",
        "from nltk.tokenize import word_tokenize\n",
        "import webcolors\n",
        "\n",
        "#Download once if using NLTK for preprocessing\n",
        "import nltk\n",
        "nltk.download('punkt')\n",
        "\n",
        "#Libraries for vectorisation\n",
        "from sklearn.feature_extraction.text import CountVectorizer, TfidfVectorizer\n",
        "from sklearn.decomposition import LatentDirichletAllocation\n",
        "from sklearn.model_selection import GridSearchCV\n",
        "from fuzzywuzzy import fuzz\n",
        "\n",
        "#Libraries for clustering\n",
        "from sklearn.cluster import KMeans\n",
        "from sklearn.model_selection import train_test_split\n",
        "\n",
        "from collections import Counter"
      ],
      "metadata": {
        "colab": {
          "base_uri": "https://localhost:8080/"
        },
        "id": "O93dR8kizaFS",
        "outputId": "efff7d8a-28cf-45c2-f1dc-df7ced991e1b"
      },
      "execution_count": 3,
      "outputs": [
        {
          "output_type": "stream",
          "name": "stdout",
          "text": [
            "[nltk_data] Downloading package punkt to /root/nltk_data...\n",
            "[nltk_data]   Package punkt is already up-to-date!\n"
          ]
        },
        {
          "output_type": "stream",
          "name": "stderr",
          "text": [
            "/usr/local/lib/python3.7/dist-packages/fuzzywuzzy/fuzz.py:11: UserWarning:\n",
            "\n",
            "Using slow pure-python SequenceMatcher. Install python-Levenshtein to remove this warning\n",
            "\n"
          ]
        }
      ]
    },
    {
      "cell_type": "markdown",
      "source": [
        "### Data load"
      ],
      "metadata": {
        "id": "roFoTYA5gNGq"
      }
    },
    {
      "cell_type": "code",
      "source": [
        "from google.colab import drive\n",
        "drive.mount('/content/drive')\n"
      ],
      "metadata": {
        "colab": {
          "base_uri": "https://localhost:8080/"
        },
        "id": "cRa5yUF0xjnT",
        "outputId": "4db47909-7d7a-4755-e5f8-c68553076d0b"
      },
      "execution_count": 4,
      "outputs": [
        {
          "output_type": "stream",
          "name": "stdout",
          "text": [
            "Drive already mounted at /content/drive; to attempt to forcibly remount, call drive.mount(\"/content/drive\", force_remount=True).\n"
          ]
        }
      ]
    },
    {
      "cell_type": "code",
      "source": [
        "df = pd.read_csv('/content/drive/MyDrive/DataScienceProjectTeam/data.csv', encoding=\"ISO-8859-2\", dtype={'CustomerID': str,'InvoiceNo': str}, engine='python')\n",
        "df.head()"
      ],
      "metadata": {
        "id": "o4XJidL_x0bL",
        "colab": {
          "base_uri": "https://localhost:8080/",
          "height": 206
        },
        "outputId": "bc4ebceb-cdb7-4927-f935-5458c83597c8"
      },
      "execution_count": 5,
      "outputs": [
        {
          "output_type": "execute_result",
          "data": {
            "text/html": [
              "<div>\n",
              "<style scoped>\n",
              "    .dataframe tbody tr th:only-of-type {\n",
              "        vertical-align: middle;\n",
              "    }\n",
              "\n",
              "    .dataframe tbody tr th {\n",
              "        vertical-align: top;\n",
              "    }\n",
              "\n",
              "    .dataframe thead th {\n",
              "        text-align: right;\n",
              "    }\n",
              "</style>\n",
              "<table border=\"1\" class=\"dataframe\">\n",
              "  <thead>\n",
              "    <tr style=\"text-align: right;\">\n",
              "      <th></th>\n",
              "      <th>InvoiceNo</th>\n",
              "      <th>StockCode</th>\n",
              "      <th>Description</th>\n",
              "      <th>Quantity</th>\n",
              "      <th>InvoiceDate</th>\n",
              "      <th>UnitPrice</th>\n",
              "      <th>CustomerID</th>\n",
              "      <th>Country</th>\n",
              "    </tr>\n",
              "  </thead>\n",
              "  <tbody>\n",
              "    <tr>\n",
              "      <th>0</th>\n",
              "      <td>536365</td>\n",
              "      <td>85123A</td>\n",
              "      <td>WHITE HANGING HEART T-LIGHT HOLDER</td>\n",
              "      <td>6</td>\n",
              "      <td>12/1/2010 8:26</td>\n",
              "      <td>2.55</td>\n",
              "      <td>17850</td>\n",
              "      <td>United Kingdom</td>\n",
              "    </tr>\n",
              "    <tr>\n",
              "      <th>1</th>\n",
              "      <td>536365</td>\n",
              "      <td>71053</td>\n",
              "      <td>WHITE METAL LANTERN</td>\n",
              "      <td>6</td>\n",
              "      <td>12/1/2010 8:26</td>\n",
              "      <td>3.39</td>\n",
              "      <td>17850</td>\n",
              "      <td>United Kingdom</td>\n",
              "    </tr>\n",
              "    <tr>\n",
              "      <th>2</th>\n",
              "      <td>536365</td>\n",
              "      <td>84406B</td>\n",
              "      <td>CREAM CUPID HEARTS COAT HANGER</td>\n",
              "      <td>8</td>\n",
              "      <td>12/1/2010 8:26</td>\n",
              "      <td>2.75</td>\n",
              "      <td>17850</td>\n",
              "      <td>United Kingdom</td>\n",
              "    </tr>\n",
              "    <tr>\n",
              "      <th>3</th>\n",
              "      <td>536365</td>\n",
              "      <td>84029G</td>\n",
              "      <td>KNITTED UNION FLAG HOT WATER BOTTLE</td>\n",
              "      <td>6</td>\n",
              "      <td>12/1/2010 8:26</td>\n",
              "      <td>3.39</td>\n",
              "      <td>17850</td>\n",
              "      <td>United Kingdom</td>\n",
              "    </tr>\n",
              "    <tr>\n",
              "      <th>4</th>\n",
              "      <td>536365</td>\n",
              "      <td>84029E</td>\n",
              "      <td>RED WOOLLY HOTTIE WHITE HEART.</td>\n",
              "      <td>6</td>\n",
              "      <td>12/1/2010 8:26</td>\n",
              "      <td>3.39</td>\n",
              "      <td>17850</td>\n",
              "      <td>United Kingdom</td>\n",
              "    </tr>\n",
              "  </tbody>\n",
              "</table>\n",
              "</div>"
            ],
            "text/plain": [
              "  InvoiceNo StockCode  ... CustomerID         Country\n",
              "0    536365    85123A  ...      17850  United Kingdom\n",
              "1    536365     71053  ...      17850  United Kingdom\n",
              "2    536365    84406B  ...      17850  United Kingdom\n",
              "3    536365    84029G  ...      17850  United Kingdom\n",
              "4    536365    84029E  ...      17850  United Kingdom\n",
              "\n",
              "[5 rows x 8 columns]"
            ]
          },
          "metadata": {},
          "execution_count": 5
        }
      ]
    },
    {
      "cell_type": "markdown",
      "source": [
        "### Data preprocessing"
      ],
      "metadata": {
        "id": "NzH29x-8gTBB"
      }
    },
    {
      "cell_type": "markdown",
      "source": [
        "Only the **Description** column is needed for this analysis.\n",
        "\n",
        "Removing stopwords, punctuation and numbers that are the common words in language like ‘the’, ‘a’, ‘is’, ‘and’ using Gensim library and Python string library"
      ],
      "metadata": {
        "id": "Ib3xv0SKgYYC"
      }
    },
    {
      "cell_type": "markdown",
      "source": [
        ""
      ],
      "metadata": {
        "id": "Px6gS0MiBUV3"
      }
    },
    {
      "cell_type": "code",
      "source": [
        "df = df.dropna()\n",
        "df = df.drop_duplicates()\n",
        "text1_df = df[['Description']]\n",
        "text1 = df['Description']\n",
        "\n",
        "\n",
        "#text1_rest_df, text1_small_df = train_test_split(text1_df, test_size=0.9, random_state=25)\n",
        "#text1_rest, text1_small = train_test_split(text1, test_size=0.9, random_state=25)\n",
        "\n",
        "\n",
        "text1_small_df = text1_df.drop_duplicates()\n",
        "text1_small = text1.drop_duplicates()\n",
        "\n",
        "text2 = [remove_stopwords(x)\\\n",
        "        .translate(str.maketrans('','',string.punctuation))\\\n",
        "        .translate(str.maketrans('','',string.digits))\\\n",
        "        for x in text1_small]"
      ],
      "metadata": {
        "id": "sc2KKjuU0JrO"
      },
      "execution_count": 6,
      "outputs": []
    },
    {
      "cell_type": "markdown",
      "source": [
        "Shortenning words (Stemming) which trasnforms words to their root form. Eg. ‘apple’ and ‘apples’ both become ‘appl.\n",
        "The Stemming is done using NLTK library."
      ],
      "metadata": {
        "id": "n7otzahCBsOW"
      }
    },
    {
      "cell_type": "code",
      "source": [
        "def stemSentence(sentence):\n",
        "    porter = PorterStemmer()\n",
        "    token_words = word_tokenize(sentence)\n",
        "    stem_sentence = [porter.stem(word) for word in token_words]\n",
        "    return ' '.join(stem_sentence)"
      ],
      "metadata": {
        "id": "IrpgwF0c42lW"
      },
      "execution_count": 7,
      "outputs": []
    },
    {
      "cell_type": "code",
      "source": [
        "text3 = pd.Series([stemSentence(x) for x in text2])"
      ],
      "metadata": {
        "id": "4Dm9vGpC48y-"
      },
      "execution_count": 8,
      "outputs": []
    },
    {
      "cell_type": "code",
      "source": [
        "text3"
      ],
      "metadata": {
        "colab": {
          "base_uri": "https://localhost:8080/"
        },
        "id": "3f4Vvcfp5YTX",
        "outputId": "69965b12-5cc4-4750-d80e-c25b89eb8fe0"
      },
      "execution_count": 9,
      "outputs": [
        {
          "output_type": "execute_result",
          "data": {
            "text/plain": [
              "0        white hang heart tlight holder\n",
              "1                   white metal lantern\n",
              "2         cream cupid heart coat hanger\n",
              "3       knit union flag hot water bottl\n",
              "4          red woolli hotti white heart\n",
              "                     ...               \n",
              "3891            letter W bling key ring\n",
              "3892            letter Z bling key ring\n",
              "3893     pink crystal skull phone charm\n",
              "3894     cream hang heart tlight holder\n",
              "3895            paper craft littl birdi\n",
              "Length: 3896, dtype: object"
            ]
          },
          "metadata": {},
          "execution_count": 9
        }
      ]
    },
    {
      "cell_type": "markdown",
      "source": [
        "Removing false clustering words.\n",
        "Words like colours, materials, number, adverbs, adjectives and brand names could make many clusters that falsely describe the content of a cluster."
      ],
      "metadata": {
        "id": "VQeh6Q6ICH5G"
      }
    },
    {
      "cell_type": "code",
      "source": [
        "colors = list(webcolors.CSS3_NAMES_TO_HEX)\n",
        "colors = [stemSentence(x) for x in colors if x not in ('chocolate','honeydew','lime','olive','orange','plum','salmon','tomato','wheat')]\n",
        "not_ok_words = ['set', 'glass' , 'silver' , 'pack' , 'box' , 'chocolate' , 'set\\\\' , 'piece' , 'big' , 'small' , 'large' , 'a' , 'and', 'the'  ,\n",
        "                \"regency\" , 'from' , 'no' , 'pack/12' , 'set/5' , '12', 'wooden' , 'in', 'home',  'one' ,'two' , 'three' , 'four' , 'five' , 'six' , 'seven' , 'eight' , 'nine' , 'ten' , ',' , '\"j\"' , 'yellow/pink' ,  'silver/crystal' , 'my' ,  \"can't\" , 'with' , 'IF' , 'L' , 'H' , 'LE' , 'g' , 'NO' , 'your' , 'A' , 'it' , 'No' , 'antique' , 'wooden' , 'wood', 'retrospot' , 'vintage' , 'vintag' , 'new', 'clear' , 'fresh' , 'IS' ,  'CM' , 'retro' , 'S' , 'polkadot', 'round' , 'OF' , 'london' , 'french' , 'english' , 'scandinavian' , 'kit' , \n",
        "                'I' ,  '0' , '1' , '2' , '3' , '4' , '5' , '6' , '7' , '8' , '9' , '16' , '12' , 'danish' , 'pink/white' , 'heart' , 'baroque' , 'set/6' , 'victorian' ,  'ceramic' , 'ivory' , 'crystal+glass' , \n",
        "'on' , 'metal' , 'purple' , 'enamel' , 'for' , 'assorted' , 'garland' ,'bird' , 'bundle' , 'mini' , 'natural' , 'hot' , '+' , '&' , \n",
        "'black+white' , 'babushka' , 'polished' , 'set/6' , 'set/4' , 'skull' , 'skulls' , '+' , '&' , 'assorted' , 'giant' , 'england' , 'zinc' ,\n",
        "'50', 'pieces' , 'acrylic' , 's/4' , 'traditional' , 'do' , 'not' , 'sweet' , 'sweetheart' , 'rose',\n",
        "'s/15' , 'lunch' , 'design' , 'diamante' , 'incense' , 'love' , 'billboard' , 'own' , 'murano' , 'thank' , 'you',\n",
        "'cooper' , 'boudicca' , '60' , '40' , '20' , '200' , 'charlie' , 'lola' , 'style' , '//' , 'paisley'\n",
        "]\n",
        "\n",
        "not_ok_words.extend(colors)\n",
        "not_ok_words_upper =  [each_string.upper() for each_string in not_ok_words]\n",
        "\n",
        "text4 = [' '.join([x for x in string.split() if x not in not_ok_words]) for string in text3]"
      ],
      "metadata": {
        "id": "4pucHLtq7Ebq"
      },
      "execution_count": 10,
      "outputs": []
    },
    {
      "cell_type": "code",
      "source": [
        "# df_l = pd.DataFrame (text4, columns = ['Desc'])\n",
        "# print(df_l)\n",
        "# df_l['Desc'].isnull().values.any()"
      ],
      "metadata": {
        "id": "A35ZTcc1VcnS"
      },
      "execution_count": 11,
      "outputs": []
    },
    {
      "cell_type": "markdown",
      "source": [
        "### Vectorisation\n"
      ],
      "metadata": {
        "id": "3LaykjCZBIzw"
      }
    },
    {
      "cell_type": "markdown",
      "source": [
        "We want to turn our cleaned text into numerical data so that we can perform statistical analysis on it. <br>\n",
        "By creating Bag of words using CountVectorizer from sci-kit learn, a model that counts the occurences of the words in every product. <br>\n",
        "The result is a matrix containing a feature for each distinct word in the text and the count of each word in a row (or vector) as its numerical values."
      ],
      "metadata": {
        "id": "92GJRTT-CvlF"
      }
    },
    {
      "cell_type": "code",
      "source": [
        "#Bag of words\n",
        "vectorizer_cv = CountVectorizer(analyzer='word')\n",
        "X_cv = vectorizer_cv.fit_transform(text4)"
      ],
      "metadata": {
        "id": "GdrvyyhT66id"
      },
      "execution_count": 12,
      "outputs": []
    },
    {
      "cell_type": "code",
      "source": [
        "#show matrix\n",
        "matrix = pd.concat([text1_small,pd.DataFrame(X_cv.toarray(),columns=vectorizer_cv.get_feature_names())], axis = 1)\n",
        "matrix.head()\n",
        "\n",
        "matrix = matrix.dropna()\n",
        "matrix = matrix.drop_duplicates()\n",
        "matrix.head()"
      ],
      "metadata": {
        "id": "3iPAlE0-7PUA",
        "colab": {
          "base_uri": "https://localhost:8080/",
          "height": 603
        },
        "outputId": "3be1fb86-57c4-4aea-b128-13d3fdd39482"
      },
      "execution_count": 13,
      "outputs": [
        {
          "output_type": "stream",
          "name": "stderr",
          "text": [
            "/usr/local/lib/python3.7/dist-packages/sklearn/utils/deprecation.py:87: FutureWarning:\n",
            "\n",
            "Function get_feature_names is deprecated; get_feature_names is deprecated in 1.0 and will be removed in 1.2. Please use get_feature_names_out instead.\n",
            "\n"
          ]
        },
        {
          "output_type": "execute_result",
          "data": {
            "text/html": [
              "<div>\n",
              "<style scoped>\n",
              "    .dataframe tbody tr th:only-of-type {\n",
              "        vertical-align: middle;\n",
              "    }\n",
              "\n",
              "    .dataframe tbody tr th {\n",
              "        vertical-align: top;\n",
              "    }\n",
              "\n",
              "    .dataframe thead th {\n",
              "        text-align: right;\n",
              "    }\n",
              "</style>\n",
              "<table border=\"1\" class=\"dataframe\">\n",
              "  <thead>\n",
              "    <tr style=\"text-align: right;\">\n",
              "      <th></th>\n",
              "      <th>Description</th>\n",
              "      <th>abc</th>\n",
              "      <th>abstract</th>\n",
              "      <th>acapulco</th>\n",
              "      <th>account</th>\n",
              "      <th>acryl</th>\n",
              "      <th>address</th>\n",
              "      <th>ade</th>\n",
              "      <th>adult</th>\n",
              "      <th>advent</th>\n",
              "      <th>afghan</th>\n",
              "      <th>age</th>\n",
              "      <th>ahoy</th>\n",
              "      <th>aid</th>\n",
              "      <th>air</th>\n",
              "      <th>airlin</th>\n",
              "      <th>airmail</th>\n",
              "      <th>alarm</th>\n",
              "      <th>album</th>\n",
              "      <th>all</th>\n",
              "      <th>allium</th>\n",
              "      <th>alphabet</th>\n",
              "      <th>alpin</th>\n",
              "      <th>aluminium</th>\n",
              "      <th>am</th>\n",
              "      <th>amber</th>\n",
              "      <th>ameli</th>\n",
              "      <th>amethyst</th>\n",
              "      <th>anemon</th>\n",
              "      <th>angel</th>\n",
              "      <th>angelpink</th>\n",
              "      <th>anim</th>\n",
              "      <th>ant</th>\n",
              "      <th>antiqu</th>\n",
              "      <th>antoienett</th>\n",
              "      <th>antoinett</th>\n",
              "      <th>aperitif</th>\n",
              "      <th>apothecari</th>\n",
              "      <th>appl</th>\n",
              "      <th>apron</th>\n",
              "      <th>...</th>\n",
              "      <th>whitepink</th>\n",
              "      <th>whiter</th>\n",
              "      <th>wick</th>\n",
              "      <th>wicker</th>\n",
              "      <th>wildflow</th>\n",
              "      <th>willi</th>\n",
              "      <th>windchim</th>\n",
              "      <th>windmil</th>\n",
              "      <th>windsock</th>\n",
              "      <th>wine</th>\n",
              "      <th>winki</th>\n",
              "      <th>wire</th>\n",
              "      <th>wireless</th>\n",
              "      <th>wise</th>\n",
              "      <th>wish</th>\n",
              "      <th>witch</th>\n",
              "      <th>wknif</th>\n",
              "      <th>wobbl</th>\n",
              "      <th>women</th>\n",
              "      <th>woodland</th>\n",
              "      <th>wool</th>\n",
              "      <th>woolli</th>\n",
              "      <th>word</th>\n",
              "      <th>work</th>\n",
              "      <th>world</th>\n",
              "      <th>woven</th>\n",
              "      <th>wrap</th>\n",
              "      <th>wreath</th>\n",
              "      <th>wreck</th>\n",
              "      <th>write</th>\n",
              "      <th>wsuck</th>\n",
              "      <th>wsucker</th>\n",
              "      <th>xcm</th>\n",
              "      <th>xma</th>\n",
              "      <th>xxcm</th>\n",
              "      <th>yellowblu</th>\n",
              "      <th>yelloworang</th>\n",
              "      <th>yellowpink</th>\n",
              "      <th>yuletid</th>\n",
              "      <th>zincglass</th>\n",
              "    </tr>\n",
              "  </thead>\n",
              "  <tbody>\n",
              "    <tr>\n",
              "      <th>0</th>\n",
              "      <td>WHITE HANGING HEART T-LIGHT HOLDER</td>\n",
              "      <td>0.0</td>\n",
              "      <td>0.0</td>\n",
              "      <td>0.0</td>\n",
              "      <td>0.0</td>\n",
              "      <td>0.0</td>\n",
              "      <td>0.0</td>\n",
              "      <td>0.0</td>\n",
              "      <td>0.0</td>\n",
              "      <td>0.0</td>\n",
              "      <td>0.0</td>\n",
              "      <td>0.0</td>\n",
              "      <td>0.0</td>\n",
              "      <td>0.0</td>\n",
              "      <td>0.0</td>\n",
              "      <td>0.0</td>\n",
              "      <td>0.0</td>\n",
              "      <td>0.0</td>\n",
              "      <td>0.0</td>\n",
              "      <td>0.0</td>\n",
              "      <td>0.0</td>\n",
              "      <td>0.0</td>\n",
              "      <td>0.0</td>\n",
              "      <td>0.0</td>\n",
              "      <td>0.0</td>\n",
              "      <td>0.0</td>\n",
              "      <td>0.0</td>\n",
              "      <td>0.0</td>\n",
              "      <td>0.0</td>\n",
              "      <td>0.0</td>\n",
              "      <td>0.0</td>\n",
              "      <td>0.0</td>\n",
              "      <td>0.0</td>\n",
              "      <td>0.0</td>\n",
              "      <td>0.0</td>\n",
              "      <td>0.0</td>\n",
              "      <td>0.0</td>\n",
              "      <td>0.0</td>\n",
              "      <td>0.0</td>\n",
              "      <td>0.0</td>\n",
              "      <td>...</td>\n",
              "      <td>0.0</td>\n",
              "      <td>0.0</td>\n",
              "      <td>0.0</td>\n",
              "      <td>0.0</td>\n",
              "      <td>0.0</td>\n",
              "      <td>0.0</td>\n",
              "      <td>0.0</td>\n",
              "      <td>0.0</td>\n",
              "      <td>0.0</td>\n",
              "      <td>0.0</td>\n",
              "      <td>0.0</td>\n",
              "      <td>0.0</td>\n",
              "      <td>0.0</td>\n",
              "      <td>0.0</td>\n",
              "      <td>0.0</td>\n",
              "      <td>0.0</td>\n",
              "      <td>0.0</td>\n",
              "      <td>0.0</td>\n",
              "      <td>0.0</td>\n",
              "      <td>0.0</td>\n",
              "      <td>0.0</td>\n",
              "      <td>0.0</td>\n",
              "      <td>0.0</td>\n",
              "      <td>0.0</td>\n",
              "      <td>0.0</td>\n",
              "      <td>0.0</td>\n",
              "      <td>0.0</td>\n",
              "      <td>0.0</td>\n",
              "      <td>0.0</td>\n",
              "      <td>0.0</td>\n",
              "      <td>0.0</td>\n",
              "      <td>0.0</td>\n",
              "      <td>0.0</td>\n",
              "      <td>0.0</td>\n",
              "      <td>0.0</td>\n",
              "      <td>0.0</td>\n",
              "      <td>0.0</td>\n",
              "      <td>0.0</td>\n",
              "      <td>0.0</td>\n",
              "      <td>0.0</td>\n",
              "    </tr>\n",
              "    <tr>\n",
              "      <th>1</th>\n",
              "      <td>WHITE METAL LANTERN</td>\n",
              "      <td>0.0</td>\n",
              "      <td>0.0</td>\n",
              "      <td>0.0</td>\n",
              "      <td>0.0</td>\n",
              "      <td>0.0</td>\n",
              "      <td>0.0</td>\n",
              "      <td>0.0</td>\n",
              "      <td>0.0</td>\n",
              "      <td>0.0</td>\n",
              "      <td>0.0</td>\n",
              "      <td>0.0</td>\n",
              "      <td>0.0</td>\n",
              "      <td>0.0</td>\n",
              "      <td>0.0</td>\n",
              "      <td>0.0</td>\n",
              "      <td>0.0</td>\n",
              "      <td>0.0</td>\n",
              "      <td>0.0</td>\n",
              "      <td>0.0</td>\n",
              "      <td>0.0</td>\n",
              "      <td>0.0</td>\n",
              "      <td>0.0</td>\n",
              "      <td>0.0</td>\n",
              "      <td>0.0</td>\n",
              "      <td>0.0</td>\n",
              "      <td>0.0</td>\n",
              "      <td>0.0</td>\n",
              "      <td>0.0</td>\n",
              "      <td>0.0</td>\n",
              "      <td>0.0</td>\n",
              "      <td>0.0</td>\n",
              "      <td>0.0</td>\n",
              "      <td>0.0</td>\n",
              "      <td>0.0</td>\n",
              "      <td>0.0</td>\n",
              "      <td>0.0</td>\n",
              "      <td>0.0</td>\n",
              "      <td>0.0</td>\n",
              "      <td>0.0</td>\n",
              "      <td>...</td>\n",
              "      <td>0.0</td>\n",
              "      <td>0.0</td>\n",
              "      <td>0.0</td>\n",
              "      <td>0.0</td>\n",
              "      <td>0.0</td>\n",
              "      <td>0.0</td>\n",
              "      <td>0.0</td>\n",
              "      <td>0.0</td>\n",
              "      <td>0.0</td>\n",
              "      <td>0.0</td>\n",
              "      <td>0.0</td>\n",
              "      <td>0.0</td>\n",
              "      <td>0.0</td>\n",
              "      <td>0.0</td>\n",
              "      <td>0.0</td>\n",
              "      <td>0.0</td>\n",
              "      <td>0.0</td>\n",
              "      <td>0.0</td>\n",
              "      <td>0.0</td>\n",
              "      <td>0.0</td>\n",
              "      <td>0.0</td>\n",
              "      <td>0.0</td>\n",
              "      <td>0.0</td>\n",
              "      <td>0.0</td>\n",
              "      <td>0.0</td>\n",
              "      <td>0.0</td>\n",
              "      <td>0.0</td>\n",
              "      <td>0.0</td>\n",
              "      <td>0.0</td>\n",
              "      <td>0.0</td>\n",
              "      <td>0.0</td>\n",
              "      <td>0.0</td>\n",
              "      <td>0.0</td>\n",
              "      <td>0.0</td>\n",
              "      <td>0.0</td>\n",
              "      <td>0.0</td>\n",
              "      <td>0.0</td>\n",
              "      <td>0.0</td>\n",
              "      <td>0.0</td>\n",
              "      <td>0.0</td>\n",
              "    </tr>\n",
              "    <tr>\n",
              "      <th>2</th>\n",
              "      <td>CREAM CUPID HEARTS COAT HANGER</td>\n",
              "      <td>0.0</td>\n",
              "      <td>0.0</td>\n",
              "      <td>0.0</td>\n",
              "      <td>0.0</td>\n",
              "      <td>0.0</td>\n",
              "      <td>0.0</td>\n",
              "      <td>0.0</td>\n",
              "      <td>0.0</td>\n",
              "      <td>0.0</td>\n",
              "      <td>0.0</td>\n",
              "      <td>0.0</td>\n",
              "      <td>0.0</td>\n",
              "      <td>0.0</td>\n",
              "      <td>0.0</td>\n",
              "      <td>0.0</td>\n",
              "      <td>0.0</td>\n",
              "      <td>0.0</td>\n",
              "      <td>0.0</td>\n",
              "      <td>0.0</td>\n",
              "      <td>0.0</td>\n",
              "      <td>0.0</td>\n",
              "      <td>0.0</td>\n",
              "      <td>0.0</td>\n",
              "      <td>0.0</td>\n",
              "      <td>0.0</td>\n",
              "      <td>0.0</td>\n",
              "      <td>0.0</td>\n",
              "      <td>0.0</td>\n",
              "      <td>0.0</td>\n",
              "      <td>0.0</td>\n",
              "      <td>0.0</td>\n",
              "      <td>0.0</td>\n",
              "      <td>0.0</td>\n",
              "      <td>0.0</td>\n",
              "      <td>0.0</td>\n",
              "      <td>0.0</td>\n",
              "      <td>0.0</td>\n",
              "      <td>0.0</td>\n",
              "      <td>0.0</td>\n",
              "      <td>...</td>\n",
              "      <td>0.0</td>\n",
              "      <td>0.0</td>\n",
              "      <td>0.0</td>\n",
              "      <td>0.0</td>\n",
              "      <td>0.0</td>\n",
              "      <td>0.0</td>\n",
              "      <td>0.0</td>\n",
              "      <td>0.0</td>\n",
              "      <td>0.0</td>\n",
              "      <td>0.0</td>\n",
              "      <td>0.0</td>\n",
              "      <td>0.0</td>\n",
              "      <td>0.0</td>\n",
              "      <td>0.0</td>\n",
              "      <td>0.0</td>\n",
              "      <td>0.0</td>\n",
              "      <td>0.0</td>\n",
              "      <td>0.0</td>\n",
              "      <td>0.0</td>\n",
              "      <td>0.0</td>\n",
              "      <td>0.0</td>\n",
              "      <td>0.0</td>\n",
              "      <td>0.0</td>\n",
              "      <td>0.0</td>\n",
              "      <td>0.0</td>\n",
              "      <td>0.0</td>\n",
              "      <td>0.0</td>\n",
              "      <td>0.0</td>\n",
              "      <td>0.0</td>\n",
              "      <td>0.0</td>\n",
              "      <td>0.0</td>\n",
              "      <td>0.0</td>\n",
              "      <td>0.0</td>\n",
              "      <td>0.0</td>\n",
              "      <td>0.0</td>\n",
              "      <td>0.0</td>\n",
              "      <td>0.0</td>\n",
              "      <td>0.0</td>\n",
              "      <td>0.0</td>\n",
              "      <td>0.0</td>\n",
              "    </tr>\n",
              "    <tr>\n",
              "      <th>3</th>\n",
              "      <td>KNITTED UNION FLAG HOT WATER BOTTLE</td>\n",
              "      <td>0.0</td>\n",
              "      <td>0.0</td>\n",
              "      <td>0.0</td>\n",
              "      <td>0.0</td>\n",
              "      <td>0.0</td>\n",
              "      <td>0.0</td>\n",
              "      <td>0.0</td>\n",
              "      <td>0.0</td>\n",
              "      <td>0.0</td>\n",
              "      <td>0.0</td>\n",
              "      <td>0.0</td>\n",
              "      <td>0.0</td>\n",
              "      <td>0.0</td>\n",
              "      <td>0.0</td>\n",
              "      <td>0.0</td>\n",
              "      <td>0.0</td>\n",
              "      <td>0.0</td>\n",
              "      <td>0.0</td>\n",
              "      <td>0.0</td>\n",
              "      <td>0.0</td>\n",
              "      <td>0.0</td>\n",
              "      <td>0.0</td>\n",
              "      <td>0.0</td>\n",
              "      <td>0.0</td>\n",
              "      <td>0.0</td>\n",
              "      <td>0.0</td>\n",
              "      <td>0.0</td>\n",
              "      <td>0.0</td>\n",
              "      <td>0.0</td>\n",
              "      <td>0.0</td>\n",
              "      <td>0.0</td>\n",
              "      <td>0.0</td>\n",
              "      <td>0.0</td>\n",
              "      <td>0.0</td>\n",
              "      <td>0.0</td>\n",
              "      <td>0.0</td>\n",
              "      <td>0.0</td>\n",
              "      <td>0.0</td>\n",
              "      <td>0.0</td>\n",
              "      <td>...</td>\n",
              "      <td>0.0</td>\n",
              "      <td>0.0</td>\n",
              "      <td>0.0</td>\n",
              "      <td>0.0</td>\n",
              "      <td>0.0</td>\n",
              "      <td>0.0</td>\n",
              "      <td>0.0</td>\n",
              "      <td>0.0</td>\n",
              "      <td>0.0</td>\n",
              "      <td>0.0</td>\n",
              "      <td>0.0</td>\n",
              "      <td>0.0</td>\n",
              "      <td>0.0</td>\n",
              "      <td>0.0</td>\n",
              "      <td>0.0</td>\n",
              "      <td>0.0</td>\n",
              "      <td>0.0</td>\n",
              "      <td>0.0</td>\n",
              "      <td>0.0</td>\n",
              "      <td>0.0</td>\n",
              "      <td>0.0</td>\n",
              "      <td>0.0</td>\n",
              "      <td>0.0</td>\n",
              "      <td>0.0</td>\n",
              "      <td>0.0</td>\n",
              "      <td>0.0</td>\n",
              "      <td>0.0</td>\n",
              "      <td>0.0</td>\n",
              "      <td>0.0</td>\n",
              "      <td>0.0</td>\n",
              "      <td>0.0</td>\n",
              "      <td>0.0</td>\n",
              "      <td>0.0</td>\n",
              "      <td>0.0</td>\n",
              "      <td>0.0</td>\n",
              "      <td>0.0</td>\n",
              "      <td>0.0</td>\n",
              "      <td>0.0</td>\n",
              "      <td>0.0</td>\n",
              "      <td>0.0</td>\n",
              "    </tr>\n",
              "    <tr>\n",
              "      <th>4</th>\n",
              "      <td>RED WOOLLY HOTTIE WHITE HEART.</td>\n",
              "      <td>0.0</td>\n",
              "      <td>0.0</td>\n",
              "      <td>0.0</td>\n",
              "      <td>0.0</td>\n",
              "      <td>0.0</td>\n",
              "      <td>0.0</td>\n",
              "      <td>0.0</td>\n",
              "      <td>0.0</td>\n",
              "      <td>0.0</td>\n",
              "      <td>0.0</td>\n",
              "      <td>0.0</td>\n",
              "      <td>0.0</td>\n",
              "      <td>0.0</td>\n",
              "      <td>0.0</td>\n",
              "      <td>0.0</td>\n",
              "      <td>0.0</td>\n",
              "      <td>0.0</td>\n",
              "      <td>0.0</td>\n",
              "      <td>0.0</td>\n",
              "      <td>0.0</td>\n",
              "      <td>0.0</td>\n",
              "      <td>0.0</td>\n",
              "      <td>0.0</td>\n",
              "      <td>0.0</td>\n",
              "      <td>0.0</td>\n",
              "      <td>0.0</td>\n",
              "      <td>0.0</td>\n",
              "      <td>0.0</td>\n",
              "      <td>0.0</td>\n",
              "      <td>0.0</td>\n",
              "      <td>0.0</td>\n",
              "      <td>0.0</td>\n",
              "      <td>0.0</td>\n",
              "      <td>0.0</td>\n",
              "      <td>0.0</td>\n",
              "      <td>0.0</td>\n",
              "      <td>0.0</td>\n",
              "      <td>0.0</td>\n",
              "      <td>0.0</td>\n",
              "      <td>...</td>\n",
              "      <td>0.0</td>\n",
              "      <td>0.0</td>\n",
              "      <td>0.0</td>\n",
              "      <td>0.0</td>\n",
              "      <td>0.0</td>\n",
              "      <td>0.0</td>\n",
              "      <td>0.0</td>\n",
              "      <td>0.0</td>\n",
              "      <td>0.0</td>\n",
              "      <td>0.0</td>\n",
              "      <td>0.0</td>\n",
              "      <td>0.0</td>\n",
              "      <td>0.0</td>\n",
              "      <td>0.0</td>\n",
              "      <td>0.0</td>\n",
              "      <td>0.0</td>\n",
              "      <td>0.0</td>\n",
              "      <td>0.0</td>\n",
              "      <td>0.0</td>\n",
              "      <td>0.0</td>\n",
              "      <td>0.0</td>\n",
              "      <td>1.0</td>\n",
              "      <td>0.0</td>\n",
              "      <td>0.0</td>\n",
              "      <td>0.0</td>\n",
              "      <td>0.0</td>\n",
              "      <td>0.0</td>\n",
              "      <td>0.0</td>\n",
              "      <td>0.0</td>\n",
              "      <td>0.0</td>\n",
              "      <td>0.0</td>\n",
              "      <td>0.0</td>\n",
              "      <td>0.0</td>\n",
              "      <td>0.0</td>\n",
              "      <td>0.0</td>\n",
              "      <td>0.0</td>\n",
              "      <td>0.0</td>\n",
              "      <td>0.0</td>\n",
              "      <td>0.0</td>\n",
              "      <td>0.0</td>\n",
              "    </tr>\n",
              "  </tbody>\n",
              "</table>\n",
              "<p>5 rows × 1715 columns</p>\n",
              "</div>"
            ],
            "text/plain": [
              "                           Description  abc  ...  yuletid  zincglass\n",
              "0   WHITE HANGING HEART T-LIGHT HOLDER  0.0  ...      0.0        0.0\n",
              "1                  WHITE METAL LANTERN  0.0  ...      0.0        0.0\n",
              "2       CREAM CUPID HEARTS COAT HANGER  0.0  ...      0.0        0.0\n",
              "3  KNITTED UNION FLAG HOT WATER BOTTLE  0.0  ...      0.0        0.0\n",
              "4       RED WOOLLY HOTTIE WHITE HEART.  0.0  ...      0.0        0.0\n",
              "\n",
              "[5 rows x 1715 columns]"
            ]
          },
          "metadata": {},
          "execution_count": 13
        }
      ]
    },
    {
      "cell_type": "code",
      "source": [
        "# The elbow method\n",
        "# sse={}\n",
        "# for k in np.arange(100,800,100):\n",
        "#     kmeans = KMeans(n_clusters=k, max_iter=1000).fit(X_cv)\n",
        "#     sse[k] = kmeans.inertia_\n",
        "# plt.plot(list(sse.keys()),list(sse.values()))\n",
        "# plt.xlabel('Values for K')\n",
        "# plt.ylabel('SSE')\n",
        "# plt.show();"
      ],
      "metadata": {
        "id": "82fEni407_TR"
      },
      "execution_count": 14,
      "outputs": []
    },
    {
      "cell_type": "markdown",
      "source": [
        ""
      ],
      "metadata": {
        "id": "I8o4IhIQbwHG"
      }
    },
    {
      "cell_type": "markdown",
      "source": [
        "### How manny clusters should be used"
      ],
      "metadata": {
        "id": "79gY8GerelDX"
      }
    },
    {
      "cell_type": "markdown",
      "source": [
        "Elbom method for 3000 clusters\n",
        "\n",
        "![downloadCunvinte3000.png](data:image/png;base64,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)\n",
        "\n",
        "Elbom method for 800 clusters\n",
        "\n",
        "![downloadWordos.png](data:image/png;base64,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)"
      ],
      "metadata": {
        "id": "ulvUuTPZboPW"
      }
    },
    {
      "cell_type": "markdown",
      "source": [
        "From the elbow method plot it looks like we can use 200, 300 or 400 clusters.\n",
        "\n",
        "After manny tries and adjusment to the \"not ok words\", 450 cluster were choosen to be found using KMeans clustering."
      ],
      "metadata": {
        "id": "STScjzbHaPY0"
      }
    },
    {
      "cell_type": "markdown",
      "source": [
        "### Clustering the products"
      ],
      "metadata": {
        "id": "4NgOeZZSf-He"
      }
    },
    {
      "cell_type": "code",
      "source": [
        "kmeans = KMeans(n_clusters=450)\n",
        "kmeans.fit(X_cv)"
      ],
      "metadata": {
        "id": "niOc756oKVvE",
        "colab": {
          "base_uri": "https://localhost:8080/"
        },
        "outputId": "5977dab3-a9eb-48a6-ca5c-1e7f4f43bce0"
      },
      "execution_count": 15,
      "outputs": [
        {
          "output_type": "execute_result",
          "data": {
            "text/plain": [
              "KMeans(n_clusters=450)"
            ]
          },
          "metadata": {},
          "execution_count": 15
        }
      ]
    },
    {
      "cell_type": "code",
      "source": [
        "text1_small_df['cluster'] = kmeans.predict(X_cv)"
      ],
      "metadata": {
        "id": "13UR60XWmM6L",
        "colab": {
          "base_uri": "https://localhost:8080/"
        },
        "outputId": "d8364f81-26eb-45ba-b96f-2f476a41f1f6"
      },
      "execution_count": 16,
      "outputs": [
        {
          "output_type": "stream",
          "name": "stderr",
          "text": [
            "/usr/local/lib/python3.7/dist-packages/ipykernel_launcher.py:1: SettingWithCopyWarning:\n",
            "\n",
            "\n",
            "A value is trying to be set on a copy of a slice from a DataFrame.\n",
            "Try using .loc[row_indexer,col_indexer] = value instead\n",
            "\n",
            "See the caveats in the documentation: https://pandas.pydata.org/pandas-docs/stable/user_guide/indexing.html#returning-a-view-versus-a-copy\n",
            "\n"
          ]
        }
      ]
    },
    {
      "cell_type": "code",
      "source": [
        "text1_small_df"
      ],
      "metadata": {
        "colab": {
          "base_uri": "https://localhost:8080/",
          "height": 424
        },
        "id": "T8H7rFxmoT1Y",
        "outputId": "62b47cf9-79b6-4a01-de59-40081295b1b7"
      },
      "execution_count": 17,
      "outputs": [
        {
          "output_type": "execute_result",
          "data": {
            "text/html": [
              "<div>\n",
              "<style scoped>\n",
              "    .dataframe tbody tr th:only-of-type {\n",
              "        vertical-align: middle;\n",
              "    }\n",
              "\n",
              "    .dataframe tbody tr th {\n",
              "        vertical-align: top;\n",
              "    }\n",
              "\n",
              "    .dataframe thead th {\n",
              "        text-align: right;\n",
              "    }\n",
              "</style>\n",
              "<table border=\"1\" class=\"dataframe\">\n",
              "  <thead>\n",
              "    <tr style=\"text-align: right;\">\n",
              "      <th></th>\n",
              "      <th>Description</th>\n",
              "      <th>cluster</th>\n",
              "    </tr>\n",
              "  </thead>\n",
              "  <tbody>\n",
              "    <tr>\n",
              "      <th>0</th>\n",
              "      <td>WHITE HANGING HEART T-LIGHT HOLDER</td>\n",
              "      <td>256</td>\n",
              "    </tr>\n",
              "    <tr>\n",
              "      <th>1</th>\n",
              "      <td>WHITE METAL LANTERN</td>\n",
              "      <td>195</td>\n",
              "    </tr>\n",
              "    <tr>\n",
              "      <th>2</th>\n",
              "      <td>CREAM CUPID HEARTS COAT HANGER</td>\n",
              "      <td>96</td>\n",
              "    </tr>\n",
              "    <tr>\n",
              "      <th>3</th>\n",
              "      <td>KNITTED UNION FLAG HOT WATER BOTTLE</td>\n",
              "      <td>40</td>\n",
              "    </tr>\n",
              "    <tr>\n",
              "      <th>4</th>\n",
              "      <td>RED WOOLLY HOTTIE WHITE HEART.</td>\n",
              "      <td>5</td>\n",
              "    </tr>\n",
              "    <tr>\n",
              "      <th>...</th>\n",
              "      <td>...</td>\n",
              "      <td>...</td>\n",
              "    </tr>\n",
              "    <tr>\n",
              "      <th>527067</th>\n",
              "      <td>LETTER \"W\" BLING KEY RING</td>\n",
              "      <td>6</td>\n",
              "    </tr>\n",
              "    <tr>\n",
              "      <th>527069</th>\n",
              "      <td>LETTER \"Z\" BLING KEY RING</td>\n",
              "      <td>6</td>\n",
              "    </tr>\n",
              "    <tr>\n",
              "      <th>530382</th>\n",
              "      <td>PINK CRYSTAL SKULL PHONE CHARM</td>\n",
              "      <td>137</td>\n",
              "    </tr>\n",
              "    <tr>\n",
              "      <th>537621</th>\n",
              "      <td>CREAM HANGING HEART T-LIGHT HOLDER</td>\n",
              "      <td>256</td>\n",
              "    </tr>\n",
              "    <tr>\n",
              "      <th>540421</th>\n",
              "      <td>PAPER CRAFT , LITTLE BIRDIE</td>\n",
              "      <td>21</td>\n",
              "    </tr>\n",
              "  </tbody>\n",
              "</table>\n",
              "<p>3896 rows × 2 columns</p>\n",
              "</div>"
            ],
            "text/plain": [
              "                                Description  cluster\n",
              "0        WHITE HANGING HEART T-LIGHT HOLDER      256\n",
              "1                       WHITE METAL LANTERN      195\n",
              "2            CREAM CUPID HEARTS COAT HANGER       96\n",
              "3       KNITTED UNION FLAG HOT WATER BOTTLE       40\n",
              "4            RED WOOLLY HOTTIE WHITE HEART.        5\n",
              "...                                     ...      ...\n",
              "527067            LETTER \"W\" BLING KEY RING        6\n",
              "527069            LETTER \"Z\" BLING KEY RING        6\n",
              "530382       PINK CRYSTAL SKULL PHONE CHARM      137\n",
              "537621   CREAM HANGING HEART T-LIGHT HOLDER      256\n",
              "540421          PAPER CRAFT , LITTLE BIRDIE       21\n",
              "\n",
              "[3896 rows x 2 columns]"
            ]
          },
          "metadata": {},
          "execution_count": 17
        }
      ]
    },
    {
      "cell_type": "markdown",
      "source": [
        "### Cluster naming\n"
      ],
      "metadata": {
        "id": "dixh_YV4ee4B"
      }
    },
    {
      "cell_type": "markdown",
      "source": [
        "In order to add a more comprehensible meaning of the clusters, a label will be computed by using the most frequently used word (at most 3, if most common words are from the \"not ok words\" list) in each cluster."
      ],
      "metadata": {
        "id": "pt1FkCW7duGu"
      }
    },
    {
      "cell_type": "code",
      "source": [
        "\n",
        "\n",
        "def getMostCommonWords(a_df, not_ok_words_upper):\n",
        "  ret_val = ''\n",
        "  tmp_df = a_df\n",
        "  tmp_counter = tmp_df.Description.str.split(expand=True).stack().value_counts()\n",
        "  nb_of_word_added = 0\n",
        "  #print(tmp_counter)\n",
        "\n",
        "  for i in range(tmp_counter.size):\n",
        "    #print(tmp_counter.index[i])\n",
        "    \n",
        "    if tmp_counter.index[i] not in not_ok_words_upper:\n",
        "      ret_val += (tmp_counter.index[i] + ' ')\n",
        "      nb_of_word_added+=1\n",
        "      #print(\"test\")\n",
        "\n",
        "      if nb_of_word_added == 2:\n",
        "        break\n",
        "      \n",
        "      \n",
        "   \n",
        "  return ret_val"
      ],
      "metadata": {
        "id": "z7fdTpnkhgoq"
      },
      "execution_count": 18,
      "outputs": []
    },
    {
      "cell_type": "code",
      "source": [
        "clusters = text1_small_df['cluster'].unique()\n",
        "labels = []\n",
        "for i in range(len(clusters)):\n",
        "    subset = text1_small_df[text1_small_df['cluster'] == clusters[i]]\n",
        "    words = getMostCommonWords(subset[['Description']], not_ok_words_upper)\n",
        "    labels.append(words)\n",
        "labels_table = pd.DataFrame(zip(clusters,labels),columns=['cluster','label'])\n",
        "result_labelled = pd.merge(text1_small_df,labels_table,on='cluster',how='left')"
      ],
      "metadata": {
        "id": "fXYmbyVNXPWQ"
      },
      "execution_count": 19,
      "outputs": []
    },
    {
      "cell_type": "code",
      "source": [
        "result_labelled"
      ],
      "metadata": {
        "colab": {
          "base_uri": "https://localhost:8080/",
          "height": 424
        },
        "id": "vBUsSv9QXrBA",
        "outputId": "e3738bae-33ec-4859-f66b-2b4837f9fbee"
      },
      "execution_count": 20,
      "outputs": [
        {
          "output_type": "execute_result",
          "data": {
            "text/html": [
              "<div>\n",
              "<style scoped>\n",
              "    .dataframe tbody tr th:only-of-type {\n",
              "        vertical-align: middle;\n",
              "    }\n",
              "\n",
              "    .dataframe tbody tr th {\n",
              "        vertical-align: top;\n",
              "    }\n",
              "\n",
              "    .dataframe thead th {\n",
              "        text-align: right;\n",
              "    }\n",
              "</style>\n",
              "<table border=\"1\" class=\"dataframe\">\n",
              "  <thead>\n",
              "    <tr style=\"text-align: right;\">\n",
              "      <th></th>\n",
              "      <th>Description</th>\n",
              "      <th>cluster</th>\n",
              "      <th>label</th>\n",
              "    </tr>\n",
              "  </thead>\n",
              "  <tbody>\n",
              "    <tr>\n",
              "      <th>0</th>\n",
              "      <td>WHITE HANGING HEART T-LIGHT HOLDER</td>\n",
              "      <td>256</td>\n",
              "      <td>HANGING HOLDER</td>\n",
              "    </tr>\n",
              "    <tr>\n",
              "      <th>1</th>\n",
              "      <td>WHITE METAL LANTERN</td>\n",
              "      <td>195</td>\n",
              "      <td>LANTERN HANGING</td>\n",
              "    </tr>\n",
              "    <tr>\n",
              "      <th>2</th>\n",
              "      <td>CREAM CUPID HEARTS COAT HANGER</td>\n",
              "      <td>96</td>\n",
              "      <td>CREAM FOOD</td>\n",
              "    </tr>\n",
              "    <tr>\n",
              "      <th>3</th>\n",
              "      <td>KNITTED UNION FLAG HOT WATER BOTTLE</td>\n",
              "      <td>40</td>\n",
              "      <td>BOTTLE WATER</td>\n",
              "    </tr>\n",
              "    <tr>\n",
              "      <th>4</th>\n",
              "      <td>RED WOOLLY HOTTIE WHITE HEART.</td>\n",
              "      <td>5</td>\n",
              "      <td>BOXES BELLS</td>\n",
              "    </tr>\n",
              "    <tr>\n",
              "      <th>...</th>\n",
              "      <td>...</td>\n",
              "      <td>...</td>\n",
              "      <td>...</td>\n",
              "    </tr>\n",
              "    <tr>\n",
              "      <th>3891</th>\n",
              "      <td>LETTER \"W\" BLING KEY RING</td>\n",
              "      <td>6</td>\n",
              "      <td>RING BLING</td>\n",
              "    </tr>\n",
              "    <tr>\n",
              "      <th>3892</th>\n",
              "      <td>LETTER \"Z\" BLING KEY RING</td>\n",
              "      <td>6</td>\n",
              "      <td>RING BLING</td>\n",
              "    </tr>\n",
              "    <tr>\n",
              "      <th>3893</th>\n",
              "      <td>PINK CRYSTAL SKULL PHONE CHARM</td>\n",
              "      <td>137</td>\n",
              "      <td>PHONE CHARM</td>\n",
              "    </tr>\n",
              "    <tr>\n",
              "      <th>3894</th>\n",
              "      <td>CREAM HANGING HEART T-LIGHT HOLDER</td>\n",
              "      <td>256</td>\n",
              "      <td>HANGING HOLDER</td>\n",
              "    </tr>\n",
              "    <tr>\n",
              "      <th>3895</th>\n",
              "      <td>PAPER CRAFT , LITTLE BIRDIE</td>\n",
              "      <td>21</td>\n",
              "      <td>PAPER NAPKINS</td>\n",
              "    </tr>\n",
              "  </tbody>\n",
              "</table>\n",
              "<p>3896 rows × 3 columns</p>\n",
              "</div>"
            ],
            "text/plain": [
              "                              Description  cluster             label\n",
              "0      WHITE HANGING HEART T-LIGHT HOLDER      256   HANGING HOLDER \n",
              "1                     WHITE METAL LANTERN      195  LANTERN HANGING \n",
              "2          CREAM CUPID HEARTS COAT HANGER       96       CREAM FOOD \n",
              "3     KNITTED UNION FLAG HOT WATER BOTTLE       40     BOTTLE WATER \n",
              "4          RED WOOLLY HOTTIE WHITE HEART.        5      BOXES BELLS \n",
              "...                                   ...      ...               ...\n",
              "3891            LETTER \"W\" BLING KEY RING        6       RING BLING \n",
              "3892            LETTER \"Z\" BLING KEY RING        6       RING BLING \n",
              "3893       PINK CRYSTAL SKULL PHONE CHARM      137      PHONE CHARM \n",
              "3894   CREAM HANGING HEART T-LIGHT HOLDER      256   HANGING HOLDER \n",
              "3895          PAPER CRAFT , LITTLE BIRDIE       21    PAPER NAPKINS \n",
              "\n",
              "[3896 rows x 3 columns]"
            ]
          },
          "metadata": {},
          "execution_count": 20
        }
      ]
    },
    {
      "cell_type": "markdown",
      "source": [
        "### Exporting the results"
      ],
      "metadata": {
        "id": "pxUw6Op2fwIM"
      }
    },
    {
      "cell_type": "markdown",
      "source": [
        "Save the dataframe to an excel file."
      ],
      "metadata": {
        "id": "zUHaIKKhdWSm"
      }
    },
    {
      "cell_type": "code",
      "source": [
        "result_labelled.to_excel(\"output.xlsx\")"
      ],
      "metadata": {
        "id": "ddVryb46t26g"
      },
      "execution_count": 21,
      "outputs": []
    },
    {
      "cell_type": "markdown",
      "source": [
        "### Manual supervised processing of the output"
      ],
      "metadata": {
        "id": "M6f7gVwLexE-"
      }
    },
    {
      "cell_type": "markdown",
      "source": [
        "After all the processing, the label contains a lot of meaning of what type of products can be found in each cluster, but there are still some missclasified products that need to be manualy adjusted in order to be described correctly by a label."
      ],
      "metadata": {
        "id": "sRFEsAURfBeR"
      }
    }
  ]
}