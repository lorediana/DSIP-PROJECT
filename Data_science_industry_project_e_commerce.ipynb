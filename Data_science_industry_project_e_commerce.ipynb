{
  "nbformat": 4,
  "nbformat_minor": 0,
  "metadata": {
    "colab": {
      "name": "Data_science_industry_project_e-commerce.ipynb",
      "provenance": [],
      "collapsed_sections": [],
      "include_colab_link": true
    },
    "kernelspec": {
      "name": "python3",
      "display_name": "Python 3"
    },
    "language_info": {
      "name": "python"
    }
  },
  "cells": [
    {
      "cell_type": "markdown",
      "metadata": {
        "id": "view-in-github",
        "colab_type": "text"
      },
      "source": [
        "<a href=\"https://colab.research.google.com/github/lorediana/DSIP-PROJECT/blob/main/Data_science_industry_project_e_commerce.ipynb\" target=\"_parent\"><img src=\"https://colab.research.google.com/assets/colab-badge.svg\" alt=\"Open In Colab\"/></a>"
      ]
    },
    {
      "cell_type": "markdown",
      "metadata": {
        "id": "JfBfKrIuzdsJ"
      },
      "source": [
        "## E-commerce - Customer Segmentation"
      ]
    },
    {
      "cell_type": "markdown",
      "metadata": {
        "id": "iqOGyf4h5Y0Q"
      },
      "source": [
        "A project made in collaboration by:\n",
        "\n",
        "\n",
        "*   Lavinia Popa\n",
        "*   Lorena Bara\n",
        "*   Lucian Anton\n",
        "*   Mircea Vaman\n",
        "*   Rubén Lozano\n",
        "\n",
        "\n",
        "\n",
        "\n",
        "\n",
        "\n"
      ]
    },
    {
      "cell_type": "markdown",
      "metadata": {
        "id": "EZfeRRu494Ma"
      },
      "source": [
        "# 1. Data Preparation"
      ]
    },
    {
      "cell_type": "markdown",
      "metadata": {
        "id": "HyyXeIMpCSn6"
      },
      "source": [
        "Loading packages"
      ]
    },
    {
      "cell_type": "code",
      "metadata": {
        "id": "C-bnOTyg-a-7"
      },
      "source": [
        "import numpy as np\n",
        "import pandas as pd\n",
        "from scipy import stats\n",
        "import matplotlib as mpl\n",
        "import matplotlib.pyplot as plt\n",
        "from typing import Dict, List"
      ],
      "execution_count": null,
      "outputs": []
    },
    {
      "cell_type": "markdown",
      "metadata": {
        "id": "VXiJpK6qCdJR"
      },
      "source": [
        "Mounting the file path"
      ]
    },
    {
      "cell_type": "code",
      "metadata": {
        "id": "w5X0xSBVmOtg",
        "colab": {
          "base_uri": "https://localhost:8080/"
        },
        "outputId": "b2e125e0-433b-4dbf-99d1-59975fa1d61d"
      },
      "source": [
        "from google.colab import drive\n",
        "drive.mount('/content/drive')"
      ],
      "execution_count": null,
      "outputs": [
        {
          "output_type": "stream",
          "name": "stdout",
          "text": [
            "Drive already mounted at /content/drive; to attempt to forcibly remount, call drive.mount(\"/content/drive\", force_remount=True).\n"
          ]
        }
      ]
    },
    {
      "cell_type": "markdown",
      "metadata": {
        "id": "_WDihz4YCzVt"
      },
      "source": [
        "Testing which are the suitable encodings"
      ]
    },
    {
      "cell_type": "code",
      "metadata": {
        "id": "m-itdi5J_dQu",
        "colab": {
          "base_uri": "https://localhost:8080/"
        },
        "outputId": "03cf867e-bbde-4f72-c80c-1ca9f4f315ad"
      },
      "source": [
        "from encodings.aliases import aliases\n",
        "alias_values = set(aliases.values())\n",
        "\n",
        "for encoding in set(aliases.values()):\n",
        "    try:\n",
        "        df = pd.read_csv('/content/drive/MyDrive/data.csv', encoding=encoding)\n",
        "        print('successful', encoding)\n",
        "    except:\n",
        "        pass"
      ],
      "execution_count": null,
      "outputs": [
        {
          "output_type": "stream",
          "name": "stdout",
          "text": [
            "successful cp862\n",
            "successful iso8859_2\n",
            "successful iso8859_8\n",
            "successful utf_16_be\n",
            "successful cp1256\n",
            "successful utf_16_le\n",
            "successful cp932\n",
            "successful cp1250\n",
            "successful mac_latin2\n",
            "successful shift_jis\n",
            "successful cp855\n",
            "successful iso8859_3\n",
            "successful iso8859_13\n",
            "successful cp858\n",
            "successful cp1251\n",
            "successful iso8859_10\n",
            "successful iso8859_9\n",
            "successful cp1258\n",
            "successful mac_roman\n",
            "successful kz1048\n",
            "successful cp1254\n",
            "successful shift_jis_2004\n",
            "successful cp1255\n",
            "successful cp852\n",
            "successful cp863\n",
            "successful iso8859_7\n",
            "successful cp860\n",
            "successful cp1257\n",
            "successful iso8859_14\n",
            "successful hp_roman8\n",
            "successful iso8859_16\n",
            "successful cp866\n",
            "successful iso8859_5\n",
            "successful cp864\n",
            "successful cp865\n",
            "successful cp437\n",
            "successful koi8_r\n",
            "successful latin_1\n",
            "successful cp1253\n",
            "successful mac_iceland\n",
            "successful cp850\n",
            "successful shift_jisx0213\n",
            "successful cp869\n",
            "successful cp861\n",
            "successful mac_turkish\n",
            "successful mac_greek\n",
            "successful cp1125\n",
            "successful mac_cyrillic\n",
            "successful cp857\n",
            "successful ptcp154\n",
            "successful cp1252\n",
            "successful cp775\n",
            "successful iso8859_15\n",
            "successful iso8859_11\n",
            "successful tis_620\n",
            "successful iso8859_4\n"
          ]
        }
      ]
    },
    {
      "cell_type": "markdown",
      "metadata": {
        "id": "KLuxBDikDH0v"
      },
      "source": [
        "Loading the dataset"
      ]
    },
    {
      "cell_type": "code",
      "metadata": {
        "id": "9mQDc2PAZize",
        "colab": {
          "base_uri": "https://localhost:8080/",
          "height": 417
        },
        "outputId": "4cf68330-78f3-431c-8f70-5d02729a81ec"
      },
      "source": [
        "dfi = pd.read_csv('/content/drive/MyDrive/data.csv', encoding=\"ISO-8859-2\", dtype={'CustomerID': str,'InvoiceNo': str}, engine='python')\n",
        "dfi"
      ],
      "execution_count": null,
      "outputs": [
        {
          "output_type": "execute_result",
          "data": {
            "text/html": [
              "<div>\n",
              "<style scoped>\n",
              "    .dataframe tbody tr th:only-of-type {\n",
              "        vertical-align: middle;\n",
              "    }\n",
              "\n",
              "    .dataframe tbody tr th {\n",
              "        vertical-align: top;\n",
              "    }\n",
              "\n",
              "    .dataframe thead th {\n",
              "        text-align: right;\n",
              "    }\n",
              "</style>\n",
              "<table border=\"1\" class=\"dataframe\">\n",
              "  <thead>\n",
              "    <tr style=\"text-align: right;\">\n",
              "      <th></th>\n",
              "      <th>InvoiceNo</th>\n",
              "      <th>StockCode</th>\n",
              "      <th>Description</th>\n",
              "      <th>Quantity</th>\n",
              "      <th>InvoiceDate</th>\n",
              "      <th>UnitPrice</th>\n",
              "      <th>CustomerID</th>\n",
              "      <th>Country</th>\n",
              "    </tr>\n",
              "  </thead>\n",
              "  <tbody>\n",
              "    <tr>\n",
              "      <th>0</th>\n",
              "      <td>536365</td>\n",
              "      <td>85123A</td>\n",
              "      <td>WHITE HANGING HEART T-LIGHT HOLDER</td>\n",
              "      <td>6</td>\n",
              "      <td>12/1/2010 8:26</td>\n",
              "      <td>2.55</td>\n",
              "      <td>17850</td>\n",
              "      <td>United Kingdom</td>\n",
              "    </tr>\n",
              "    <tr>\n",
              "      <th>1</th>\n",
              "      <td>536365</td>\n",
              "      <td>71053</td>\n",
              "      <td>WHITE METAL LANTERN</td>\n",
              "      <td>6</td>\n",
              "      <td>12/1/2010 8:26</td>\n",
              "      <td>3.39</td>\n",
              "      <td>17850</td>\n",
              "      <td>United Kingdom</td>\n",
              "    </tr>\n",
              "    <tr>\n",
              "      <th>2</th>\n",
              "      <td>536365</td>\n",
              "      <td>84406B</td>\n",
              "      <td>CREAM CUPID HEARTS COAT HANGER</td>\n",
              "      <td>8</td>\n",
              "      <td>12/1/2010 8:26</td>\n",
              "      <td>2.75</td>\n",
              "      <td>17850</td>\n",
              "      <td>United Kingdom</td>\n",
              "    </tr>\n",
              "    <tr>\n",
              "      <th>3</th>\n",
              "      <td>536365</td>\n",
              "      <td>84029G</td>\n",
              "      <td>KNITTED UNION FLAG HOT WATER BOTTLE</td>\n",
              "      <td>6</td>\n",
              "      <td>12/1/2010 8:26</td>\n",
              "      <td>3.39</td>\n",
              "      <td>17850</td>\n",
              "      <td>United Kingdom</td>\n",
              "    </tr>\n",
              "    <tr>\n",
              "      <th>4</th>\n",
              "      <td>536365</td>\n",
              "      <td>84029E</td>\n",
              "      <td>RED WOOLLY HOTTIE WHITE HEART.</td>\n",
              "      <td>6</td>\n",
              "      <td>12/1/2010 8:26</td>\n",
              "      <td>3.39</td>\n",
              "      <td>17850</td>\n",
              "      <td>United Kingdom</td>\n",
              "    </tr>\n",
              "    <tr>\n",
              "      <th>...</th>\n",
              "      <td>...</td>\n",
              "      <td>...</td>\n",
              "      <td>...</td>\n",
              "      <td>...</td>\n",
              "      <td>...</td>\n",
              "      <td>...</td>\n",
              "      <td>...</td>\n",
              "      <td>...</td>\n",
              "    </tr>\n",
              "    <tr>\n",
              "      <th>541904</th>\n",
              "      <td>581587</td>\n",
              "      <td>22613</td>\n",
              "      <td>PACK OF 20 SPACEBOY NAPKINS</td>\n",
              "      <td>12</td>\n",
              "      <td>12/9/2011 12:50</td>\n",
              "      <td>0.85</td>\n",
              "      <td>12680</td>\n",
              "      <td>France</td>\n",
              "    </tr>\n",
              "    <tr>\n",
              "      <th>541905</th>\n",
              "      <td>581587</td>\n",
              "      <td>22899</td>\n",
              "      <td>CHILDREN'S APRON DOLLY GIRL</td>\n",
              "      <td>6</td>\n",
              "      <td>12/9/2011 12:50</td>\n",
              "      <td>2.10</td>\n",
              "      <td>12680</td>\n",
              "      <td>France</td>\n",
              "    </tr>\n",
              "    <tr>\n",
              "      <th>541906</th>\n",
              "      <td>581587</td>\n",
              "      <td>23254</td>\n",
              "      <td>CHILDRENS CUTLERY DOLLY GIRL</td>\n",
              "      <td>4</td>\n",
              "      <td>12/9/2011 12:50</td>\n",
              "      <td>4.15</td>\n",
              "      <td>12680</td>\n",
              "      <td>France</td>\n",
              "    </tr>\n",
              "    <tr>\n",
              "      <th>541907</th>\n",
              "      <td>581587</td>\n",
              "      <td>23255</td>\n",
              "      <td>CHILDRENS CUTLERY CIRCUS PARADE</td>\n",
              "      <td>4</td>\n",
              "      <td>12/9/2011 12:50</td>\n",
              "      <td>4.15</td>\n",
              "      <td>12680</td>\n",
              "      <td>France</td>\n",
              "    </tr>\n",
              "    <tr>\n",
              "      <th>541908</th>\n",
              "      <td>581587</td>\n",
              "      <td>22138</td>\n",
              "      <td>BAKING SET 9 PIECE RETROSPOT</td>\n",
              "      <td>3</td>\n",
              "      <td>12/9/2011 12:50</td>\n",
              "      <td>4.95</td>\n",
              "      <td>12680</td>\n",
              "      <td>France</td>\n",
              "    </tr>\n",
              "  </tbody>\n",
              "</table>\n",
              "<p>541909 rows × 8 columns</p>\n",
              "</div>"
            ],
            "text/plain": [
              "       InvoiceNo StockCode  ... CustomerID         Country\n",
              "0         536365    85123A  ...      17850  United Kingdom\n",
              "1         536365     71053  ...      17850  United Kingdom\n",
              "2         536365    84406B  ...      17850  United Kingdom\n",
              "3         536365    84029G  ...      17850  United Kingdom\n",
              "4         536365    84029E  ...      17850  United Kingdom\n",
              "...          ...       ...  ...        ...             ...\n",
              "541904    581587     22613  ...      12680          France\n",
              "541905    581587     22899  ...      12680          France\n",
              "541906    581587     23254  ...      12680          France\n",
              "541907    581587     23255  ...      12680          France\n",
              "541908    581587     22138  ...      12680          France\n",
              "\n",
              "[541909 rows x 8 columns]"
            ]
          },
          "metadata": {},
          "execution_count": 61
        }
      ]
    },
    {
      "cell_type": "markdown",
      "metadata": {
        "id": "ctF4nJChDrle"
      },
      "source": [
        "Creating a table of summary"
      ]
    },
    {
      "cell_type": "code",
      "metadata": {
        "id": "ApLGIwp2Ekxv",
        "colab": {
          "base_uri": "https://localhost:8080/",
          "height": 346
        },
        "outputId": "5b5a72b2-d59d-495b-f02c-cf4fb3df0e86"
      },
      "source": [
        "def tableSummary(dfi):\n",
        "    print(f\"Dataset Shape: {dfi.shape}\")\n",
        "    summary = pd.DataFrame(dfi.dtypes,columns=['dtypes'])\n",
        "    summary = summary.reset_index()\n",
        "    summary['Name'] = summary['index']\n",
        "    summary = summary[['Name','dtypes']]\n",
        "    summary['Missing %'] = 100* np.round(dfi.isnull().sum().values/len(df),2)  \n",
        "    summary['Uniques'] = dfi.nunique().values\n",
        "    summary['Duplicates'] = dfi.duplicated().values.any()\n",
        "    summary['First Value'] = dfi.loc[0].values\n",
        "    summary['Second Value'] = dfi.loc[1].values\n",
        "    summary['Third Value'] = dfi.loc[2].values\n",
        "    return summary\n",
        "dfi_info = tableSummary(dfi)\n",
        "dfi_info"
      ],
      "execution_count": null,
      "outputs": [
        {
          "output_type": "stream",
          "name": "stdout",
          "text": [
            "Dataset Shape: (541909, 8)\n"
          ]
        },
        {
          "output_type": "execute_result",
          "data": {
            "text/html": [
              "<div>\n",
              "<style scoped>\n",
              "    .dataframe tbody tr th:only-of-type {\n",
              "        vertical-align: middle;\n",
              "    }\n",
              "\n",
              "    .dataframe tbody tr th {\n",
              "        vertical-align: top;\n",
              "    }\n",
              "\n",
              "    .dataframe thead th {\n",
              "        text-align: right;\n",
              "    }\n",
              "</style>\n",
              "<table border=\"1\" class=\"dataframe\">\n",
              "  <thead>\n",
              "    <tr style=\"text-align: right;\">\n",
              "      <th></th>\n",
              "      <th>Name</th>\n",
              "      <th>dtypes</th>\n",
              "      <th>Missing %</th>\n",
              "      <th>Uniques</th>\n",
              "      <th>Duplicates</th>\n",
              "      <th>First Value</th>\n",
              "      <th>Second Value</th>\n",
              "      <th>Third Value</th>\n",
              "    </tr>\n",
              "  </thead>\n",
              "  <tbody>\n",
              "    <tr>\n",
              "      <th>0</th>\n",
              "      <td>InvoiceNo</td>\n",
              "      <td>object</td>\n",
              "      <td>0.0</td>\n",
              "      <td>25900</td>\n",
              "      <td>True</td>\n",
              "      <td>536365</td>\n",
              "      <td>536365</td>\n",
              "      <td>536365</td>\n",
              "    </tr>\n",
              "    <tr>\n",
              "      <th>1</th>\n",
              "      <td>StockCode</td>\n",
              "      <td>object</td>\n",
              "      <td>0.0</td>\n",
              "      <td>4070</td>\n",
              "      <td>True</td>\n",
              "      <td>85123A</td>\n",
              "      <td>71053</td>\n",
              "      <td>84406B</td>\n",
              "    </tr>\n",
              "    <tr>\n",
              "      <th>2</th>\n",
              "      <td>Description</td>\n",
              "      <td>object</td>\n",
              "      <td>0.0</td>\n",
              "      <td>4223</td>\n",
              "      <td>True</td>\n",
              "      <td>WHITE HANGING HEART T-LIGHT HOLDER</td>\n",
              "      <td>WHITE METAL LANTERN</td>\n",
              "      <td>CREAM CUPID HEARTS COAT HANGER</td>\n",
              "    </tr>\n",
              "    <tr>\n",
              "      <th>3</th>\n",
              "      <td>Quantity</td>\n",
              "      <td>int64</td>\n",
              "      <td>0.0</td>\n",
              "      <td>722</td>\n",
              "      <td>True</td>\n",
              "      <td>6</td>\n",
              "      <td>6</td>\n",
              "      <td>8</td>\n",
              "    </tr>\n",
              "    <tr>\n",
              "      <th>4</th>\n",
              "      <td>InvoiceDate</td>\n",
              "      <td>object</td>\n",
              "      <td>0.0</td>\n",
              "      <td>23260</td>\n",
              "      <td>True</td>\n",
              "      <td>12/1/2010 8:26</td>\n",
              "      <td>12/1/2010 8:26</td>\n",
              "      <td>12/1/2010 8:26</td>\n",
              "    </tr>\n",
              "    <tr>\n",
              "      <th>5</th>\n",
              "      <td>UnitPrice</td>\n",
              "      <td>float64</td>\n",
              "      <td>0.0</td>\n",
              "      <td>1630</td>\n",
              "      <td>True</td>\n",
              "      <td>2.55</td>\n",
              "      <td>3.39</td>\n",
              "      <td>2.75</td>\n",
              "    </tr>\n",
              "    <tr>\n",
              "      <th>6</th>\n",
              "      <td>CustomerID</td>\n",
              "      <td>object</td>\n",
              "      <td>25.0</td>\n",
              "      <td>4372</td>\n",
              "      <td>True</td>\n",
              "      <td>17850</td>\n",
              "      <td>17850</td>\n",
              "      <td>17850</td>\n",
              "    </tr>\n",
              "    <tr>\n",
              "      <th>7</th>\n",
              "      <td>Country</td>\n",
              "      <td>object</td>\n",
              "      <td>0.0</td>\n",
              "      <td>38</td>\n",
              "      <td>True</td>\n",
              "      <td>United Kingdom</td>\n",
              "      <td>United Kingdom</td>\n",
              "      <td>United Kingdom</td>\n",
              "    </tr>\n",
              "  </tbody>\n",
              "</table>\n",
              "</div>"
            ],
            "text/plain": [
              "          Name   dtypes  ...         Second Value                     Third Value\n",
              "0    InvoiceNo   object  ...               536365                          536365\n",
              "1    StockCode   object  ...                71053                          84406B\n",
              "2  Description   object  ...  WHITE METAL LANTERN  CREAM CUPID HEARTS COAT HANGER\n",
              "3     Quantity    int64  ...                    6                               8\n",
              "4  InvoiceDate   object  ...       12/1/2010 8:26                  12/1/2010 8:26\n",
              "5    UnitPrice  float64  ...                 3.39                            2.75\n",
              "6   CustomerID   object  ...                17850                           17850\n",
              "7      Country   object  ...       United Kingdom                  United Kingdom\n",
              "\n",
              "[8 rows x 8 columns]"
            ]
          },
          "metadata": {},
          "execution_count": 62
        }
      ]
    },
    {
      "cell_type": "markdown",
      "metadata": {
        "id": "1EL1T3meK3ia"
      },
      "source": [
        "Dropping ```NAs``` and Duplicates"
      ]
    },
    {
      "cell_type": "code",
      "metadata": {
        "id": "aAcSY3cKEuq6",
        "colab": {
          "base_uri": "https://localhost:8080/",
          "height": 346
        },
        "outputId": "298b825f-cab5-4f68-94f7-8513afb38cad"
      },
      "source": [
        "df1 = dfi.dropna()\n",
        "df = df1.drop_duplicates()\n",
        "df_info = tableSummary(df)\n",
        "df_info"
      ],
      "execution_count": null,
      "outputs": [
        {
          "output_type": "stream",
          "name": "stdout",
          "text": [
            "Dataset Shape: (401604, 8)\n"
          ]
        },
        {
          "output_type": "execute_result",
          "data": {
            "text/html": [
              "<div>\n",
              "<style scoped>\n",
              "    .dataframe tbody tr th:only-of-type {\n",
              "        vertical-align: middle;\n",
              "    }\n",
              "\n",
              "    .dataframe tbody tr th {\n",
              "        vertical-align: top;\n",
              "    }\n",
              "\n",
              "    .dataframe thead th {\n",
              "        text-align: right;\n",
              "    }\n",
              "</style>\n",
              "<table border=\"1\" class=\"dataframe\">\n",
              "  <thead>\n",
              "    <tr style=\"text-align: right;\">\n",
              "      <th></th>\n",
              "      <th>Name</th>\n",
              "      <th>dtypes</th>\n",
              "      <th>Missing %</th>\n",
              "      <th>Uniques</th>\n",
              "      <th>Duplicates</th>\n",
              "      <th>First Value</th>\n",
              "      <th>Second Value</th>\n",
              "      <th>Third Value</th>\n",
              "    </tr>\n",
              "  </thead>\n",
              "  <tbody>\n",
              "    <tr>\n",
              "      <th>0</th>\n",
              "      <td>InvoiceNo</td>\n",
              "      <td>object</td>\n",
              "      <td>0.0</td>\n",
              "      <td>22190</td>\n",
              "      <td>False</td>\n",
              "      <td>536365</td>\n",
              "      <td>536365</td>\n",
              "      <td>536365</td>\n",
              "    </tr>\n",
              "    <tr>\n",
              "      <th>1</th>\n",
              "      <td>StockCode</td>\n",
              "      <td>object</td>\n",
              "      <td>0.0</td>\n",
              "      <td>3684</td>\n",
              "      <td>False</td>\n",
              "      <td>85123A</td>\n",
              "      <td>71053</td>\n",
              "      <td>84406B</td>\n",
              "    </tr>\n",
              "    <tr>\n",
              "      <th>2</th>\n",
              "      <td>Description</td>\n",
              "      <td>object</td>\n",
              "      <td>0.0</td>\n",
              "      <td>3896</td>\n",
              "      <td>False</td>\n",
              "      <td>WHITE HANGING HEART T-LIGHT HOLDER</td>\n",
              "      <td>WHITE METAL LANTERN</td>\n",
              "      <td>CREAM CUPID HEARTS COAT HANGER</td>\n",
              "    </tr>\n",
              "    <tr>\n",
              "      <th>3</th>\n",
              "      <td>Quantity</td>\n",
              "      <td>int64</td>\n",
              "      <td>0.0</td>\n",
              "      <td>436</td>\n",
              "      <td>False</td>\n",
              "      <td>6</td>\n",
              "      <td>6</td>\n",
              "      <td>8</td>\n",
              "    </tr>\n",
              "    <tr>\n",
              "      <th>4</th>\n",
              "      <td>InvoiceDate</td>\n",
              "      <td>object</td>\n",
              "      <td>0.0</td>\n",
              "      <td>20460</td>\n",
              "      <td>False</td>\n",
              "      <td>12/1/2010 8:26</td>\n",
              "      <td>12/1/2010 8:26</td>\n",
              "      <td>12/1/2010 8:26</td>\n",
              "    </tr>\n",
              "    <tr>\n",
              "      <th>5</th>\n",
              "      <td>UnitPrice</td>\n",
              "      <td>float64</td>\n",
              "      <td>0.0</td>\n",
              "      <td>620</td>\n",
              "      <td>False</td>\n",
              "      <td>2.55</td>\n",
              "      <td>3.39</td>\n",
              "      <td>2.75</td>\n",
              "    </tr>\n",
              "    <tr>\n",
              "      <th>6</th>\n",
              "      <td>CustomerID</td>\n",
              "      <td>object</td>\n",
              "      <td>0.0</td>\n",
              "      <td>4372</td>\n",
              "      <td>False</td>\n",
              "      <td>17850</td>\n",
              "      <td>17850</td>\n",
              "      <td>17850</td>\n",
              "    </tr>\n",
              "    <tr>\n",
              "      <th>7</th>\n",
              "      <td>Country</td>\n",
              "      <td>object</td>\n",
              "      <td>0.0</td>\n",
              "      <td>37</td>\n",
              "      <td>False</td>\n",
              "      <td>United Kingdom</td>\n",
              "      <td>United Kingdom</td>\n",
              "      <td>United Kingdom</td>\n",
              "    </tr>\n",
              "  </tbody>\n",
              "</table>\n",
              "</div>"
            ],
            "text/plain": [
              "          Name   dtypes  ...         Second Value                     Third Value\n",
              "0    InvoiceNo   object  ...               536365                          536365\n",
              "1    StockCode   object  ...                71053                          84406B\n",
              "2  Description   object  ...  WHITE METAL LANTERN  CREAM CUPID HEARTS COAT HANGER\n",
              "3     Quantity    int64  ...                    6                               8\n",
              "4  InvoiceDate   object  ...       12/1/2010 8:26                  12/1/2010 8:26\n",
              "5    UnitPrice  float64  ...                 3.39                            2.75\n",
              "6   CustomerID   object  ...                17850                           17850\n",
              "7      Country   object  ...       United Kingdom                  United Kingdom\n",
              "\n",
              "[8 rows x 8 columns]"
            ]
          },
          "metadata": {},
          "execution_count": 63
        }
      ]
    },
    {
      "cell_type": "code",
      "metadata": {
        "id": "obCRd-KjYPK0",
        "colab": {
          "base_uri": "https://localhost:8080/"
        },
        "outputId": "ecaa63e0-e059-4c28-8cec-5bd07df4c473"
      },
      "source": [
        "print('% of cleanliness in the initial dataset:', 100*round((df.shape[0]/dfi.shape[0]),ndigits=4))"
      ],
      "execution_count": null,
      "outputs": [
        {
          "output_type": "stream",
          "name": "stdout",
          "text": [
            "% of cleanliness in the initial dataset: 74.11\n"
          ]
        }
      ]
    },
    {
      "cell_type": "markdown",
      "metadata": {
        "id": "JqHLdtOaaQ1U"
      },
      "source": [
        "#2. Exploring the content of the variables"
      ]
    },
    {
      "cell_type": "markdown",
      "metadata": {
        "id": "dfUVpiYPSYjY"
      },
      "source": [
        "**Dataset columns information** (https://archive.ics.uci.edu/ml/datasets/online+retail):\n",
        "\n",
        "InvoiceNo: Invoice number. Nominal, a 6-digit integral number uniquely assigned to each transaction. If this code starts with letter 'c', it indicates a cancellation.\n",
        "\n",
        "StockCode: Product (item) code. Nominal, a 5-digit integral number uniquely assigned to each distinct product.\n",
        "\n",
        "Description: Product (item) name. Nominal.\n",
        "\n",
        "Quantity: The quantities of each product (item) per transaction. Numeric.\n",
        "\n",
        "InvoiceDate: Invice Date and time. Numeric, the day and time when each transaction was generated.\n",
        "\n",
        "UnitPrice: Unit price. Numeric, Product price per unit in sterling.\n",
        "\n",
        "CustomerID: Customer number. Nominal, a 5-digit integral number uniquely assigned to each customer.\n",
        "\n",
        "Country: Country name. Nominal, the name of the country where each customer resides."
      ]
    },
    {
      "cell_type": "markdown",
      "metadata": {
        "id": "PfhPW7tloxEA"
      },
      "source": [
        "Print the columns"
      ]
    },
    {
      "cell_type": "code",
      "metadata": {
        "id": "isyIAhE1cM0B",
        "colab": {
          "base_uri": "https://localhost:8080/"
        },
        "outputId": "ab5edf30-8489-4267-8a7d-a6be008b7fbe"
      },
      "source": [
        "print(df.columns)"
      ],
      "execution_count": 115,
      "outputs": [
        {
          "output_type": "stream",
          "name": "stdout",
          "text": [
            "Index(['InvoiceNo', 'StockCode', 'Description', 'Quantity', 'InvoiceDate',\n",
            "       'UnitPrice', 'CustomerID', 'Country', 'TotalPrice'],\n",
            "      dtype='object')\n"
          ]
        }
      ]
    },
    {
      "cell_type": "code",
      "metadata": {
        "id": "DT533F-YpLOh"
      },
      "source": [
        "country_df = df['Country']"
      ],
      "execution_count": 116,
      "outputs": []
    },
    {
      "cell_type": "code",
      "metadata": {
        "id": "rul7EkmzpWor",
        "colab": {
          "base_uri": "https://localhost:8080/"
        },
        "outputId": "654528bd-a5d1-4f7b-f682-8eb32fa7abe7"
      },
      "source": [
        "print(country_df)"
      ],
      "execution_count": 117,
      "outputs": [
        {
          "output_type": "stream",
          "name": "stdout",
          "text": [
            "299512            Norway\n",
            "224432            France\n",
            "186640           Germany\n",
            "103055            France\n",
            "477044           Belgium\n",
            "               ...      \n",
            "76571             France\n",
            "75792     United Kingdom\n",
            "126025    United Kingdom\n",
            "142354            France\n",
            "30249     United Kingdom\n",
            "Name: Country, Length: 392732, dtype: object\n"
          ]
        }
      ]
    },
    {
      "cell_type": "markdown",
      "metadata": {
        "id": "yrrDD2rFxxUS"
      },
      "source": [
        "Number of customers from each country"
      ]
    },
    {
      "cell_type": "code",
      "metadata": {
        "id": "OpfCXotAqM8T",
        "colab": {
          "base_uri": "https://localhost:8080/"
        },
        "outputId": "059d5aff-e12a-4d6e-9a79-158c3345b3e9"
      },
      "source": [
        "df.groupby('Country')['CustomerID'].nunique()"
      ],
      "execution_count": 118,
      "outputs": [
        {
          "output_type": "execute_result",
          "data": {
            "text/plain": [
              "Country\n",
              "Australia                  9\n",
              "Austria                   11\n",
              "Bahrain                    2\n",
              "Belgium                   25\n",
              "Brazil                     1\n",
              "Canada                     4\n",
              "Channel Islands            9\n",
              "Cyprus                     8\n",
              "Czech Republic             1\n",
              "Denmark                    9\n",
              "EIRE                       3\n",
              "European Community         1\n",
              "Finland                   12\n",
              "France                    87\n",
              "Germany                   94\n",
              "Greece                     4\n",
              "Iceland                    1\n",
              "Israel                     3\n",
              "Italy                     14\n",
              "Japan                      8\n",
              "Lebanon                    1\n",
              "Lithuania                  1\n",
              "Malta                      2\n",
              "Netherlands                9\n",
              "Norway                    10\n",
              "Poland                     6\n",
              "Portugal                  19\n",
              "RSA                        1\n",
              "Saudi Arabia               1\n",
              "Singapore                  1\n",
              "Spain                     30\n",
              "Sweden                     8\n",
              "Switzerland               21\n",
              "USA                        4\n",
              "United Arab Emirates       2\n",
              "United Kingdom          3921\n",
              "Unspecified                4\n",
              "Name: CustomerID, dtype: int64"
            ]
          },
          "metadata": {},
          "execution_count": 118
        }
      ]
    },
    {
      "cell_type": "markdown",
      "metadata": {
        "id": "ky_jNZR1zF1v"
      },
      "source": [
        "Orders for each country"
      ]
    },
    {
      "cell_type": "code",
      "metadata": {
        "id": "11DtB3U_x5qN",
        "colab": {
          "base_uri": "https://localhost:8080/",
          "height": 519
        },
        "outputId": "c328bdbf-bfca-4254-f195-e5c5e765e97d"
      },
      "source": [
        "group_country_orders = df.groupby('Country')['InvoiceNo'].count().sort_values()\n",
        "\n",
        "plt.subplots(figsize=(15,8))\n",
        "group_country_orders.plot(kind='barh', fontsize=12)\n",
        "plt.xlabel('Number of Orders', fontsize=12)\n",
        "plt.ylabel('Country', fontsize=12)\n",
        "plt.title('Number of Orders for different Countries', fontsize=12)\n",
        "plt.show()"
      ],
      "execution_count": 119,
      "outputs": [
        {
          "output_type": "display_data",
          "data": {
            "image/png": "[encoded data removed]",
            "text/plain": [
              "<Figure size 1080x576 with 1 Axes>"
            ]
          },
          "metadata": {
            "needs_background": "light"
          }
        }
      ]
    },
    {
      "cell_type": "markdown",
      "metadata": {
        "id": "DAMgqrJyA4vf"
      },
      "source": [
        "\n",
        "We see that UK stands out above the others so let's exclude it to better appreciate the graph"
      ]
    },
    {
      "cell_type": "code",
      "metadata": {
        "id": "_mf0EqV7BJcY",
        "colab": {
          "base_uri": "https://localhost:8080/",
          "height": 519
        },
        "outputId": "10ed8a53-fd2c-4e53-e874-f1a21f4aa879"
      },
      "source": [
        "group_country_orders = df.groupby('Country')['InvoiceNo'].count().sort_values()\n",
        "del group_country_orders['United Kingdom']\n",
        "\n",
        "plt.subplots(figsize=(15,8))\n",
        "group_country_orders.plot(kind='barh', fontsize=12)\n",
        "plt.xlabel('Number of Orders', fontsize=12)\n",
        "plt.ylabel('Country', fontsize=12)\n",
        "plt.title('Number of Orders for different Countries without UK', fontsize=12)\n",
        "plt.show()"
      ],
      "execution_count": 120,
      "outputs": [
        {
          "output_type": "display_data",
          "data": {
            "image/png": "[encoded data removed]",
            "text/plain": [
              "<Figure size 1080x576 with 1 Axes>"
            ]
          },
          "metadata": {
            "needs_background": "light"
          }
        }
      ]
    },
    {
      "cell_type": "markdown",
      "metadata": {
        "id": "c_GXHs-tzioX"
      },
      "source": [
        "Country unitprice mean"
      ]
    },
    {
      "cell_type": "code",
      "metadata": {
        "id": "E2CMtXURB9Yj",
        "colab": {
          "base_uri": "https://localhost:8080/",
          "height": 519
        },
        "outputId": "f070fbaf-20b6-4963-8385-868d1722964a"
      },
      "source": [
        "group_country_orders = df.groupby('Country')['UnitPrice'].mean().sort_values()\n",
        "\n",
        "plt.subplots(figsize=(15,8))\n",
        "group_country_orders.plot(kind='barh', fontsize=12)\n",
        "plt.xlabel('Unit price mean', fontsize=12)\n",
        "plt.ylabel('Country', fontsize=12)\n",
        "plt.title('Unit price mean for different Countries', fontsize=12)\n",
        "plt.show()"
      ],
      "execution_count": 121,
      "outputs": [
        {
          "output_type": "display_data",
          "data": {
            "image/png": "[encoded data removed]",
            "text/plain": [
              "<Figure size 1080x576 with 1 Axes>"
            ]
          },
          "metadata": {
            "needs_background": "light"
          }
        }
      ]
    },
    {
      "cell_type": "markdown",
      "metadata": {
        "id": "svHP7GgEC5zf"
      },
      "source": [
        "We see that Singapour stands out above the others so let's exclude it to better appreciate the graph"
      ]
    },
    {
      "cell_type": "code",
      "metadata": {
        "id": "fzqy2U38CMYL",
        "colab": {
          "base_uri": "https://localhost:8080/",
          "height": 519
        },
        "outputId": "16880ed1-1a88-45e9-d58e-d2c31070e6cc"
      },
      "source": [
        "group_country_orders = df.groupby('Country')['UnitPrice'].mean().sort_values()\n",
        "del group_country_orders['Singapore']\n",
        "\n",
        "plt.subplots(figsize=(15,8))\n",
        "group_country_orders.plot(kind='barh', fontsize=12)\n",
        "plt.xlabel('Unit price mean', fontsize=12)\n",
        "plt.ylabel('Country', fontsize=12)\n",
        "plt.title('Unit price mean for different Countries whitout Singapore', fontsize=12)\n",
        "plt.show()"
      ],
      "execution_count": 122,
      "outputs": [
        {
          "output_type": "display_data",
          "data": {
            "image/png": "[encoded data removed]",
            "text/plain": [
              "<Figure size 1080x576 with 1 Axes>"
            ]
          },
          "metadata": {
            "needs_background": "light"
          }
        }
      ]
    },
    {
      "cell_type": "markdown",
      "metadata": {
        "id": "nCnpuiNlTp4y"
      },
      "source": [
        "##2.2 Customers and products"
      ]
    },
    {
      "cell_type": "code",
      "metadata": {
        "id": "Tv6vCZMqT2EW",
        "colab": {
          "base_uri": "https://localhost:8080/",
          "height": 80
        },
        "outputId": "8d1dced4-a234-49a8-ef56-ef6aa0b7ef20"
      },
      "source": [
        "pd.DataFrame([{'Products': len(df['StockCode'].value_counts()),    \n",
        "               'Transactions': len(df['InvoiceNo'].value_counts()),\n",
        "               'Customers': len(df['CustomerID'].value_counts()),  \n",
        "              }], columns = ['Products', 'Transactions', 'Customers'], index = ['Quantity'])"
      ],
      "execution_count": null,
      "outputs": [
        {
          "output_type": "execute_result",
          "data": {
            "text/html": [
              "<div>\n",
              "<style scoped>\n",
              "    .dataframe tbody tr th:only-of-type {\n",
              "        vertical-align: middle;\n",
              "    }\n",
              "\n",
              "    .dataframe tbody tr th {\n",
              "        vertical-align: top;\n",
              "    }\n",
              "\n",
              "    .dataframe thead th {\n",
              "        text-align: right;\n",
              "    }\n",
              "</style>\n",
              "<table border=\"1\" class=\"dataframe\">\n",
              "  <thead>\n",
              "    <tr style=\"text-align: right;\">\n",
              "      <th></th>\n",
              "      <th>Products</th>\n",
              "      <th>Transactions</th>\n",
              "      <th>Customers</th>\n",
              "    </tr>\n",
              "  </thead>\n",
              "  <tbody>\n",
              "    <tr>\n",
              "      <th>Quantity</th>\n",
              "      <td>3684</td>\n",
              "      <td>22190</td>\n",
              "      <td>4372</td>\n",
              "    </tr>\n",
              "  </tbody>\n",
              "</table>\n",
              "</div>"
            ],
            "text/plain": [
              "          Products  Transactions  Customers\n",
              "Quantity      3684         22190       4372"
            ]
          },
          "metadata": {},
          "execution_count": 73
        }
      ]
    },
    {
      "cell_type": "markdown",
      "metadata": {
        "id": "w_0DkWR5YpwR"
      },
      "source": [
        "A useful information would now be to find out the number of products purchased in every transaction.\n",
        "We know that the InvoiceDate represents the day and time when each transaction was generated. So if we group by customerID and invoice number we can actually count the InvoiceDate as it gives us the number of different items bought by a client at a specific date.\n"
      ]
    },
    {
      "cell_type": "code",
      "metadata": {
        "id": "LItPJ9AeUmoI",
        "colab": {
          "base_uri": "https://localhost:8080/",
          "height": 511
        },
        "outputId": "7ffddb2b-306a-4a34-f334-d0442b15d491"
      },
      "source": [
        "df1 = df.groupby(by=['CustomerID', 'InvoiceNo'], as_index=False)['InvoiceDate'].count()\n",
        "products_per_basket = df1.rename(columns = {'InvoiceDate':'Number of products'})\n",
        "products_per_basket[:15].sort_values('CustomerID') #first 15 entries"
      ],
      "execution_count": null,
      "outputs": [
        {
          "output_type": "execute_result",
          "data": {
            "text/html": [
              "<div>\n",
              "<style scoped>\n",
              "    .dataframe tbody tr th:only-of-type {\n",
              "        vertical-align: middle;\n",
              "    }\n",
              "\n",
              "    .dataframe tbody tr th {\n",
              "        vertical-align: top;\n",
              "    }\n",
              "\n",
              "    .dataframe thead th {\n",
              "        text-align: right;\n",
              "    }\n",
              "</style>\n",
              "<table border=\"1\" class=\"dataframe\">\n",
              "  <thead>\n",
              "    <tr style=\"text-align: right;\">\n",
              "      <th></th>\n",
              "      <th>CustomerID</th>\n",
              "      <th>InvoiceNo</th>\n",
              "      <th>Number of products</th>\n",
              "    </tr>\n",
              "  </thead>\n",
              "  <tbody>\n",
              "    <tr>\n",
              "      <th>0</th>\n",
              "      <td>12346</td>\n",
              "      <td>541431</td>\n",
              "      <td>1</td>\n",
              "    </tr>\n",
              "    <tr>\n",
              "      <th>1</th>\n",
              "      <td>12346</td>\n",
              "      <td>C541433</td>\n",
              "      <td>1</td>\n",
              "    </tr>\n",
              "    <tr>\n",
              "      <th>2</th>\n",
              "      <td>12347</td>\n",
              "      <td>537626</td>\n",
              "      <td>31</td>\n",
              "    </tr>\n",
              "    <tr>\n",
              "      <th>3</th>\n",
              "      <td>12347</td>\n",
              "      <td>542237</td>\n",
              "      <td>29</td>\n",
              "    </tr>\n",
              "    <tr>\n",
              "      <th>4</th>\n",
              "      <td>12347</td>\n",
              "      <td>549222</td>\n",
              "      <td>24</td>\n",
              "    </tr>\n",
              "    <tr>\n",
              "      <th>5</th>\n",
              "      <td>12347</td>\n",
              "      <td>556201</td>\n",
              "      <td>18</td>\n",
              "    </tr>\n",
              "    <tr>\n",
              "      <th>6</th>\n",
              "      <td>12347</td>\n",
              "      <td>562032</td>\n",
              "      <td>22</td>\n",
              "    </tr>\n",
              "    <tr>\n",
              "      <th>7</th>\n",
              "      <td>12347</td>\n",
              "      <td>573511</td>\n",
              "      <td>47</td>\n",
              "    </tr>\n",
              "    <tr>\n",
              "      <th>8</th>\n",
              "      <td>12347</td>\n",
              "      <td>581180</td>\n",
              "      <td>11</td>\n",
              "    </tr>\n",
              "    <tr>\n",
              "      <th>9</th>\n",
              "      <td>12348</td>\n",
              "      <td>539318</td>\n",
              "      <td>17</td>\n",
              "    </tr>\n",
              "    <tr>\n",
              "      <th>10</th>\n",
              "      <td>12348</td>\n",
              "      <td>541998</td>\n",
              "      <td>6</td>\n",
              "    </tr>\n",
              "    <tr>\n",
              "      <th>11</th>\n",
              "      <td>12348</td>\n",
              "      <td>548955</td>\n",
              "      <td>5</td>\n",
              "    </tr>\n",
              "    <tr>\n",
              "      <th>12</th>\n",
              "      <td>12348</td>\n",
              "      <td>568172</td>\n",
              "      <td>3</td>\n",
              "    </tr>\n",
              "    <tr>\n",
              "      <th>13</th>\n",
              "      <td>12349</td>\n",
              "      <td>577609</td>\n",
              "      <td>73</td>\n",
              "    </tr>\n",
              "    <tr>\n",
              "      <th>14</th>\n",
              "      <td>12350</td>\n",
              "      <td>543037</td>\n",
              "      <td>17</td>\n",
              "    </tr>\n",
              "  </tbody>\n",
              "</table>\n",
              "</div>"
            ],
            "text/plain": [
              "   CustomerID InvoiceNo  Number of products\n",
              "0       12346    541431                   1\n",
              "1       12346   C541433                   1\n",
              "2       12347    537626                  31\n",
              "3       12347    542237                  29\n",
              "4       12347    549222                  24\n",
              "5       12347    556201                  18\n",
              "6       12347    562032                  22\n",
              "7       12347    573511                  47\n",
              "8       12347    581180                  11\n",
              "9       12348    539318                  17\n",
              "10      12348    541998                   6\n",
              "11      12348    548955                   5\n",
              "12      12348    568172                   3\n",
              "13      12349    577609                  73\n",
              "14      12350    543037                  17"
            ]
          },
          "metadata": {},
          "execution_count": 74
        }
      ]
    },
    {
      "cell_type": "markdown",
      "metadata": {
        "id": "S-g7a9lYVBUe"
      },
      "source": [
        "###2.2.1 Cancelling orders"
      ]
    },
    {
      "cell_type": "markdown",
      "metadata": {
        "id": "49Ap0qkwVRpZ"
      },
      "source": [
        "We know that the cancelled orders are signaled by a C in front of the InvoiceNo.\n",
        "\n",
        "e.g: C536391."
      ]
    },
    {
      "cell_type": "code",
      "metadata": {
        "id": "LhBU0BKjVHhK",
        "colab": {
          "base_uri": "https://localhost:8080/",
          "height": 203
        },
        "outputId": "cac44202-61c8-4db0-a523-422242b47ec6"
      },
      "source": [
        "canceled_orders = df[df['InvoiceNo'].apply(lambda x: x[0]=='C')]\n",
        "canceled_orders.head()"
      ],
      "execution_count": null,
      "outputs": [
        {
          "output_type": "execute_result",
          "data": {
            "text/html": [
              "<div>\n",
              "<style scoped>\n",
              "    .dataframe tbody tr th:only-of-type {\n",
              "        vertical-align: middle;\n",
              "    }\n",
              "\n",
              "    .dataframe tbody tr th {\n",
              "        vertical-align: top;\n",
              "    }\n",
              "\n",
              "    .dataframe thead th {\n",
              "        text-align: right;\n",
              "    }\n",
              "</style>\n",
              "<table border=\"1\" class=\"dataframe\">\n",
              "  <thead>\n",
              "    <tr style=\"text-align: right;\">\n",
              "      <th></th>\n",
              "      <th>InvoiceNo</th>\n",
              "      <th>StockCode</th>\n",
              "      <th>Description</th>\n",
              "      <th>Quantity</th>\n",
              "      <th>InvoiceDate</th>\n",
              "      <th>UnitPrice</th>\n",
              "      <th>CustomerID</th>\n",
              "      <th>Country</th>\n",
              "    </tr>\n",
              "  </thead>\n",
              "  <tbody>\n",
              "    <tr>\n",
              "      <th>141</th>\n",
              "      <td>C536379</td>\n",
              "      <td>D</td>\n",
              "      <td>Discount</td>\n",
              "      <td>-1</td>\n",
              "      <td>12/1/2010 9:41</td>\n",
              "      <td>27.50</td>\n",
              "      <td>14527</td>\n",
              "      <td>United Kingdom</td>\n",
              "    </tr>\n",
              "    <tr>\n",
              "      <th>154</th>\n",
              "      <td>C536383</td>\n",
              "      <td>35004C</td>\n",
              "      <td>SET OF 3 COLOURED  FLYING DUCKS</td>\n",
              "      <td>-1</td>\n",
              "      <td>12/1/2010 9:49</td>\n",
              "      <td>4.65</td>\n",
              "      <td>15311</td>\n",
              "      <td>United Kingdom</td>\n",
              "    </tr>\n",
              "    <tr>\n",
              "      <th>235</th>\n",
              "      <td>C536391</td>\n",
              "      <td>22556</td>\n",
              "      <td>PLASTERS IN TIN CIRCUS PARADE</td>\n",
              "      <td>-12</td>\n",
              "      <td>12/1/2010 10:24</td>\n",
              "      <td>1.65</td>\n",
              "      <td>17548</td>\n",
              "      <td>United Kingdom</td>\n",
              "    </tr>\n",
              "    <tr>\n",
              "      <th>236</th>\n",
              "      <td>C536391</td>\n",
              "      <td>21984</td>\n",
              "      <td>PACK OF 12 PINK PAISLEY TISSUES</td>\n",
              "      <td>-24</td>\n",
              "      <td>12/1/2010 10:24</td>\n",
              "      <td>0.29</td>\n",
              "      <td>17548</td>\n",
              "      <td>United Kingdom</td>\n",
              "    </tr>\n",
              "    <tr>\n",
              "      <th>237</th>\n",
              "      <td>C536391</td>\n",
              "      <td>21983</td>\n",
              "      <td>PACK OF 12 BLUE PAISLEY TISSUES</td>\n",
              "      <td>-24</td>\n",
              "      <td>12/1/2010 10:24</td>\n",
              "      <td>0.29</td>\n",
              "      <td>17548</td>\n",
              "      <td>United Kingdom</td>\n",
              "    </tr>\n",
              "  </tbody>\n",
              "</table>\n",
              "</div>"
            ],
            "text/plain": [
              "    InvoiceNo StockCode  ... CustomerID         Country\n",
              "141   C536379         D  ...      14527  United Kingdom\n",
              "154   C536383    35004C  ...      15311  United Kingdom\n",
              "235   C536391     22556  ...      17548  United Kingdom\n",
              "236   C536391     21984  ...      17548  United Kingdom\n",
              "237   C536391     21983  ...      17548  United Kingdom\n",
              "\n",
              "[5 rows x 8 columns]"
            ]
          },
          "metadata": {},
          "execution_count": 75
        }
      ]
    },
    {
      "cell_type": "code",
      "metadata": {
        "id": "mUag12D5WZTU",
        "colab": {
          "base_uri": "https://localhost:8080/"
        },
        "outputId": "9f6ca33a-b741-45ac-d594-82da045b38cf"
      },
      "source": [
        "print('The percentage of canceled orders is: {} %'.format(round(canceled_orders.shape[0]/df.shape[0]*100,2)))"
      ],
      "execution_count": null,
      "outputs": [
        {
          "output_type": "stream",
          "name": "stdout",
          "text": [
            "The percentage of canceled orders is: 2.21 %\n"
          ]
        }
      ]
    },
    {
      "cell_type": "markdown",
      "metadata": {
        "id": "iULn2eaxaYuY"
      },
      "source": [
        "Moreover, it looks like there are some discounts among the canceled orders."
      ]
    },
    {
      "cell_type": "code",
      "metadata": {
        "id": "WMw3cmVqXY83",
        "colab": {
          "base_uri": "https://localhost:8080/",
          "height": 203
        },
        "outputId": "310095b9-35ee-45d5-8a4f-2716e41ef8a8"
      },
      "source": [
        "discounts = df[df['StockCode'].apply(lambda order: order=='D')]\n",
        "discounts.head()"
      ],
      "execution_count": null,
      "outputs": [
        {
          "output_type": "execute_result",
          "data": {
            "text/html": [
              "<div>\n",
              "<style scoped>\n",
              "    .dataframe tbody tr th:only-of-type {\n",
              "        vertical-align: middle;\n",
              "    }\n",
              "\n",
              "    .dataframe tbody tr th {\n",
              "        vertical-align: top;\n",
              "    }\n",
              "\n",
              "    .dataframe thead th {\n",
              "        text-align: right;\n",
              "    }\n",
              "</style>\n",
              "<table border=\"1\" class=\"dataframe\">\n",
              "  <thead>\n",
              "    <tr style=\"text-align: right;\">\n",
              "      <th></th>\n",
              "      <th>InvoiceNo</th>\n",
              "      <th>StockCode</th>\n",
              "      <th>Description</th>\n",
              "      <th>Quantity</th>\n",
              "      <th>InvoiceDate</th>\n",
              "      <th>UnitPrice</th>\n",
              "      <th>CustomerID</th>\n",
              "      <th>Country</th>\n",
              "    </tr>\n",
              "  </thead>\n",
              "  <tbody>\n",
              "    <tr>\n",
              "      <th>141</th>\n",
              "      <td>C536379</td>\n",
              "      <td>D</td>\n",
              "      <td>Discount</td>\n",
              "      <td>-1</td>\n",
              "      <td>12/1/2010 9:41</td>\n",
              "      <td>27.50</td>\n",
              "      <td>14527</td>\n",
              "      <td>United Kingdom</td>\n",
              "    </tr>\n",
              "    <tr>\n",
              "      <th>9038</th>\n",
              "      <td>C537164</td>\n",
              "      <td>D</td>\n",
              "      <td>Discount</td>\n",
              "      <td>-1</td>\n",
              "      <td>12/5/2010 13:21</td>\n",
              "      <td>29.29</td>\n",
              "      <td>14527</td>\n",
              "      <td>United Kingdom</td>\n",
              "    </tr>\n",
              "    <tr>\n",
              "      <th>14498</th>\n",
              "      <td>C537597</td>\n",
              "      <td>D</td>\n",
              "      <td>Discount</td>\n",
              "      <td>-1</td>\n",
              "      <td>12/7/2010 12:34</td>\n",
              "      <td>281.00</td>\n",
              "      <td>15498</td>\n",
              "      <td>United Kingdom</td>\n",
              "    </tr>\n",
              "    <tr>\n",
              "      <th>19392</th>\n",
              "      <td>C537857</td>\n",
              "      <td>D</td>\n",
              "      <td>Discount</td>\n",
              "      <td>-1</td>\n",
              "      <td>12/8/2010 16:00</td>\n",
              "      <td>267.12</td>\n",
              "      <td>17340</td>\n",
              "      <td>United Kingdom</td>\n",
              "    </tr>\n",
              "    <tr>\n",
              "      <th>31134</th>\n",
              "      <td>C538897</td>\n",
              "      <td>D</td>\n",
              "      <td>Discount</td>\n",
              "      <td>-1</td>\n",
              "      <td>12/15/2010 9:14</td>\n",
              "      <td>5.76</td>\n",
              "      <td>16422</td>\n",
              "      <td>United Kingdom</td>\n",
              "    </tr>\n",
              "  </tbody>\n",
              "</table>\n",
              "</div>"
            ],
            "text/plain": [
              "      InvoiceNo StockCode Description  ...  UnitPrice CustomerID         Country\n",
              "141     C536379         D    Discount  ...      27.50      14527  United Kingdom\n",
              "9038    C537164         D    Discount  ...      29.29      14527  United Kingdom\n",
              "14498   C537597         D    Discount  ...     281.00      15498  United Kingdom\n",
              "19392   C537857         D    Discount  ...     267.12      17340  United Kingdom\n",
              "31134   C538897         D    Discount  ...       5.76      16422  United Kingdom\n",
              "\n",
              "[5 rows x 8 columns]"
            ]
          },
          "metadata": {},
          "execution_count": 77
        }
      ]
    },
    {
      "cell_type": "code",
      "metadata": {
        "id": "LFMCuBZvXeWe",
        "colab": {
          "base_uri": "https://localhost:8080/"
        },
        "outputId": "cd744664-b2f9-4979-f9ab-b94bd4d1c023"
      },
      "source": [
        "discounts.shape"
      ],
      "execution_count": null,
      "outputs": [
        {
          "output_type": "execute_result",
          "data": {
            "text/plain": [
              "(77, 8)"
            ]
          },
          "metadata": {},
          "execution_count": 78
        }
      ]
    },
    {
      "cell_type": "markdown",
      "metadata": {
        "id": "cRfBJQSkdZtj"
      },
      "source": [
        "The company issued 77 discounts.\n",
        "We know have to check if there are other discounts in the original dataset."
      ]
    },
    {
      "cell_type": "code",
      "metadata": {
        "id": "hFGcMhTRdcmy",
        "colab": {
          "base_uri": "https://localhost:8080/"
        },
        "outputId": "a576062b-aa9c-4ad3-c1fb-ccb88c9ba72d"
      },
      "source": [
        "df[df['StockCode'].apply(lambda order: order=='D')].shape[0]"
      ],
      "execution_count": null,
      "outputs": [
        {
          "output_type": "execute_result",
          "data": {
            "text/plain": [
              "77"
            ]
          },
          "metadata": {},
          "execution_count": 79
        }
      ]
    },
    {
      "cell_type": "markdown",
      "metadata": {
        "id": "o9IgqGoUdm9U"
      },
      "source": [
        "No, all the discounts are correctly included in the transactions with negative values so we will drop all the canceled orders."
      ]
    },
    {
      "cell_type": "code",
      "metadata": {
        "id": "xfcrAkpEdoEi",
        "colab": {
          "base_uri": "https://localhost:8080/",
          "height": 203
        },
        "outputId": "59625b4e-e967-4fe9-e89b-a9e876f57604"
      },
      "source": [
        "df = df[df['Quantity'] > 0]\n",
        "df.sort_values(by='StockCode', ascending=False, inplace=True)\n",
        "df.head()"
      ],
      "execution_count": null,
      "outputs": [
        {
          "output_type": "execute_result",
          "data": {
            "text/html": [
              "<div>\n",
              "<style scoped>\n",
              "    .dataframe tbody tr th:only-of-type {\n",
              "        vertical-align: middle;\n",
              "    }\n",
              "\n",
              "    .dataframe tbody tr th {\n",
              "        vertical-align: top;\n",
              "    }\n",
              "\n",
              "    .dataframe thead th {\n",
              "        text-align: right;\n",
              "    }\n",
              "</style>\n",
              "<table border=\"1\" class=\"dataframe\">\n",
              "  <thead>\n",
              "    <tr style=\"text-align: right;\">\n",
              "      <th></th>\n",
              "      <th>InvoiceNo</th>\n",
              "      <th>StockCode</th>\n",
              "      <th>Description</th>\n",
              "      <th>Quantity</th>\n",
              "      <th>InvoiceDate</th>\n",
              "      <th>UnitPrice</th>\n",
              "      <th>CustomerID</th>\n",
              "      <th>Country</th>\n",
              "    </tr>\n",
              "  </thead>\n",
              "  <tbody>\n",
              "    <tr>\n",
              "      <th>299512</th>\n",
              "      <td>563100</td>\n",
              "      <td>POST</td>\n",
              "      <td>POSTAGE</td>\n",
              "      <td>6</td>\n",
              "      <td>8/12/2011 9:57</td>\n",
              "      <td>40.0</td>\n",
              "      <td>12381</td>\n",
              "      <td>Norway</td>\n",
              "    </tr>\n",
              "    <tr>\n",
              "      <th>224432</th>\n",
              "      <td>556526</td>\n",
              "      <td>POST</td>\n",
              "      <td>POSTAGE</td>\n",
              "      <td>1</td>\n",
              "      <td>6/13/2011 11:33</td>\n",
              "      <td>18.0</td>\n",
              "      <td>12732</td>\n",
              "      <td>France</td>\n",
              "    </tr>\n",
              "    <tr>\n",
              "      <th>186640</th>\n",
              "      <td>552874</td>\n",
              "      <td>POST</td>\n",
              "      <td>POSTAGE</td>\n",
              "      <td>7</td>\n",
              "      <td>5/12/2011 9:40</td>\n",
              "      <td>18.0</td>\n",
              "      <td>12621</td>\n",
              "      <td>Germany</td>\n",
              "    </tr>\n",
              "    <tr>\n",
              "      <th>103055</th>\n",
              "      <td>545051</td>\n",
              "      <td>POST</td>\n",
              "      <td>POSTAGE</td>\n",
              "      <td>1</td>\n",
              "      <td>2/27/2011 11:58</td>\n",
              "      <td>18.0</td>\n",
              "      <td>12599</td>\n",
              "      <td>France</td>\n",
              "    </tr>\n",
              "    <tr>\n",
              "      <th>477044</th>\n",
              "      <td>577046</td>\n",
              "      <td>POST</td>\n",
              "      <td>POSTAGE</td>\n",
              "      <td>7</td>\n",
              "      <td>11/17/2011 13:46</td>\n",
              "      <td>18.0</td>\n",
              "      <td>12449</td>\n",
              "      <td>Belgium</td>\n",
              "    </tr>\n",
              "  </tbody>\n",
              "</table>\n",
              "</div>"
            ],
            "text/plain": [
              "       InvoiceNo StockCode Description  ...  UnitPrice CustomerID  Country\n",
              "299512    563100      POST     POSTAGE  ...       40.0      12381   Norway\n",
              "224432    556526      POST     POSTAGE  ...       18.0      12732   France\n",
              "186640    552874      POST     POSTAGE  ...       18.0      12621  Germany\n",
              "103055    545051      POST     POSTAGE  ...       18.0      12599   France\n",
              "477044    577046      POST     POSTAGE  ...       18.0      12449  Belgium\n",
              "\n",
              "[5 rows x 8 columns]"
            ]
          },
          "metadata": {},
          "execution_count": 80
        }
      ]
    },
    {
      "cell_type": "markdown",
      "metadata": {
        "id": "nyK-3nMFXgOX"
      },
      "source": [
        "###2.2.2 StockCode"
      ]
    },
    {
      "cell_type": "markdown",
      "metadata": {
        "id": "B9GMxhlveMAz"
      },
      "source": [
        "Above, we have seen that some values of the StockCode variable indicate a particular transaction (i.e. D for Discount). We then check the contents of this variable by looking for the set of codes that would contain only letters (D value is now missing because we saw that discounts were included in transactions with negative values):"
      ]
    },
    {
      "cell_type": "code",
      "metadata": {
        "id": "K1vL1tglXkak",
        "colab": {
          "base_uri": "https://localhost:8080/"
        },
        "outputId": "2526ac6f-c0e9-4ffd-98a8-c2fc1a83678e"
      },
      "source": [
        "list_special_codes = df[df['StockCode'].str.contains('^[a-zA-Z]+', regex=True)]['StockCode'].unique()\n",
        "list_special_codes"
      ],
      "execution_count": null,
      "outputs": [
        {
          "output_type": "execute_result",
          "data": {
            "text/plain": [
              "array(['POST', 'PADS', 'M', 'DOT', 'C2', 'BANK CHARGES'], dtype=object)"
            ]
          },
          "metadata": {},
          "execution_count": 81
        }
      ]
    },
    {
      "cell_type": "code",
      "metadata": {
        "id": "pVjn0a3NXnF4",
        "colab": {
          "base_uri": "https://localhost:8080/"
        },
        "outputId": "0f5251f2-524c-4749-aae2-e6dac438baaf"
      },
      "source": [
        "for code in list_special_codes:\n",
        "    print(\"{:<15} -> {:<30}\".format(code, df[df['StockCode'] == code]['Description'].unique()[0]))"
      ],
      "execution_count": null,
      "outputs": [
        {
          "output_type": "stream",
          "name": "stdout",
          "text": [
            "POST            -> POSTAGE                       \n",
            "PADS            -> PADS TO MATCH ALL CUSHIONS    \n",
            "M               -> Manual                        \n",
            "DOT             -> DOTCOM POSTAGE                \n",
            "C2              -> CARRIAGE                      \n",
            "BANK CHARGES    -> Bank Charges                  \n"
          ]
        }
      ]
    },
    {
      "cell_type": "markdown",
      "metadata": {
        "id": "Z-8ZKS5NXt1A"
      },
      "source": [
        "###2.2.3 Basket Price"
      ]
    },
    {
      "cell_type": "markdown",
      "metadata": {
        "id": "Cifhtyrue2Vv"
      },
      "source": [
        "We create a new variable that indicates the total price for every purchase:"
      ]
    },
    {
      "cell_type": "code",
      "metadata": {
        "id": "hl37u854Xs0-",
        "colab": {
          "base_uri": "https://localhost:8080/",
          "height": 203
        },
        "outputId": "26861755-9912-4399-9afd-9002eb658227"
      },
      "source": [
        "df['TotalPrice'] = df['UnitPrice'] * df['Quantity']\n",
        "df.sort_values('CustomerID')[:5] # first 5 entries"
      ],
      "execution_count": null,
      "outputs": [
        {
          "output_type": "execute_result",
          "data": {
            "text/html": [
              "<div>\n",
              "<style scoped>\n",
              "    .dataframe tbody tr th:only-of-type {\n",
              "        vertical-align: middle;\n",
              "    }\n",
              "\n",
              "    .dataframe tbody tr th {\n",
              "        vertical-align: top;\n",
              "    }\n",
              "\n",
              "    .dataframe thead th {\n",
              "        text-align: right;\n",
              "    }\n",
              "</style>\n",
              "<table border=\"1\" class=\"dataframe\">\n",
              "  <thead>\n",
              "    <tr style=\"text-align: right;\">\n",
              "      <th></th>\n",
              "      <th>InvoiceNo</th>\n",
              "      <th>StockCode</th>\n",
              "      <th>Description</th>\n",
              "      <th>Quantity</th>\n",
              "      <th>InvoiceDate</th>\n",
              "      <th>UnitPrice</th>\n",
              "      <th>CustomerID</th>\n",
              "      <th>Country</th>\n",
              "      <th>TotalPrice</th>\n",
              "    </tr>\n",
              "  </thead>\n",
              "  <tbody>\n",
              "    <tr>\n",
              "      <th>61619</th>\n",
              "      <td>541431</td>\n",
              "      <td>23166</td>\n",
              "      <td>MEDIUM CERAMIC TOP STORAGE JAR</td>\n",
              "      <td>74215</td>\n",
              "      <td>1/18/2011 10:01</td>\n",
              "      <td>1.04</td>\n",
              "      <td>12346</td>\n",
              "      <td>United Kingdom</td>\n",
              "      <td>77183.60</td>\n",
              "    </tr>\n",
              "    <tr>\n",
              "      <th>428996</th>\n",
              "      <td>573511</td>\n",
              "      <td>23308</td>\n",
              "      <td>SET OF 60 VINTAGE LEAF CAKE CASES</td>\n",
              "      <td>24</td>\n",
              "      <td>10/31/2011 12:25</td>\n",
              "      <td>0.55</td>\n",
              "      <td>12347</td>\n",
              "      <td>Iceland</td>\n",
              "      <td>13.20</td>\n",
              "    </tr>\n",
              "    <tr>\n",
              "      <th>72269</th>\n",
              "      <td>542237</td>\n",
              "      <td>22134</td>\n",
              "      <td>MINI LADLE LOVE HEART RED</td>\n",
              "      <td>12</td>\n",
              "      <td>1/26/2011 14:30</td>\n",
              "      <td>0.42</td>\n",
              "      <td>12347</td>\n",
              "      <td>Iceland</td>\n",
              "      <td>5.04</td>\n",
              "    </tr>\n",
              "    <tr>\n",
              "      <th>286624</th>\n",
              "      <td>562032</td>\n",
              "      <td>22374</td>\n",
              "      <td>AIRLINE BAG VINTAGE JET SET RED</td>\n",
              "      <td>4</td>\n",
              "      <td>8/2/2011 8:48</td>\n",
              "      <td>4.25</td>\n",
              "      <td>12347</td>\n",
              "      <td>Iceland</td>\n",
              "      <td>17.00</td>\n",
              "    </tr>\n",
              "    <tr>\n",
              "      <th>286637</th>\n",
              "      <td>562032</td>\n",
              "      <td>22423</td>\n",
              "      <td>REGENCY CAKESTAND 3 TIER</td>\n",
              "      <td>3</td>\n",
              "      <td>8/2/2011 8:48</td>\n",
              "      <td>12.75</td>\n",
              "      <td>12347</td>\n",
              "      <td>Iceland</td>\n",
              "      <td>38.25</td>\n",
              "    </tr>\n",
              "  </tbody>\n",
              "</table>\n",
              "</div>"
            ],
            "text/plain": [
              "       InvoiceNo StockCode  ...         Country  TotalPrice\n",
              "61619     541431     23166  ...  United Kingdom    77183.60\n",
              "428996    573511     23308  ...         Iceland       13.20\n",
              "72269     542237     22134  ...         Iceland        5.04\n",
              "286624    562032     22374  ...         Iceland       17.00\n",
              "286637    562032     22423  ...         Iceland       38.25\n",
              "\n",
              "[5 rows x 9 columns]"
            ]
          },
          "metadata": {},
          "execution_count": 83
        }
      ]
    },
    {
      "cell_type": "markdown",
      "metadata": {
        "id": "qWEhW9xofWav"
      },
      "source": [
        "Each entry of the dataframe indicates prices for a single kind of product. Hence, orders are split on several lines. We collect all the purchases made during a single order to recover the total order price:"
      ]
    },
    {
      "cell_type": "code",
      "metadata": {
        "id": "YgLbwWcZX0xl",
        "colab": {
          "base_uri": "https://localhost:8080/",
          "height": 234
        },
        "outputId": "522fe61c-1583-44d6-8d15-ecefcd5a0242"
      },
      "source": [
        "df2 = df.groupby(by=['CustomerID', 'InvoiceNo'], as_index=False)['TotalPrice'].sum()\n",
        "basket_price = df2.rename(columns = {'TotalPrice':'Basket Price'})\n",
        "\n",
        "df['InvoiceDate_datetime'] = df['InvoiceDate'].astype('M') # we first convert to datetime and then to int (due to casting issues)\n",
        "df['InvoiceDate_int'] = df['InvoiceDate_datetime'].astype('int64')\n",
        "df2 = df.groupby(by=['CustomerID', 'InvoiceNo'], as_index=False)['InvoiceDate_int'].mean()\n",
        "\n",
        "df.drop('InvoiceDate_int', axis = 1, inplace = True)\n",
        "df.drop('InvoiceDate_datetime', axis = 1, inplace = True)\n",
        "basket_price.loc[:, 'InvoiceDate'] = pd.to_datetime(df2['InvoiceDate_int'])\n",
        "\n",
        "basket_price = basket_price[basket_price['Basket Price'] > 0]\n",
        "basket_price.sort_values('CustomerID')[:6]"
      ],
      "execution_count": null,
      "outputs": [
        {
          "output_type": "execute_result",
          "data": {
            "text/html": [
              "<div>\n",
              "<style scoped>\n",
              "    .dataframe tbody tr th:only-of-type {\n",
              "        vertical-align: middle;\n",
              "    }\n",
              "\n",
              "    .dataframe tbody tr th {\n",
              "        vertical-align: top;\n",
              "    }\n",
              "\n",
              "    .dataframe thead th {\n",
              "        text-align: right;\n",
              "    }\n",
              "</style>\n",
              "<table border=\"1\" class=\"dataframe\">\n",
              "  <thead>\n",
              "    <tr style=\"text-align: right;\">\n",
              "      <th></th>\n",
              "      <th>CustomerID</th>\n",
              "      <th>InvoiceNo</th>\n",
              "      <th>Basket Price</th>\n",
              "      <th>InvoiceDate</th>\n",
              "    </tr>\n",
              "  </thead>\n",
              "  <tbody>\n",
              "    <tr>\n",
              "      <th>0</th>\n",
              "      <td>12346</td>\n",
              "      <td>541431</td>\n",
              "      <td>77183.60</td>\n",
              "      <td>2011-01-18 10:01:00.000000000</td>\n",
              "    </tr>\n",
              "    <tr>\n",
              "      <th>1</th>\n",
              "      <td>12347</td>\n",
              "      <td>537626</td>\n",
              "      <td>711.79</td>\n",
              "      <td>2010-12-07 14:57:00.000001024</td>\n",
              "    </tr>\n",
              "    <tr>\n",
              "      <th>2</th>\n",
              "      <td>12347</td>\n",
              "      <td>542237</td>\n",
              "      <td>475.39</td>\n",
              "      <td>2011-01-26 14:29:59.999999744</td>\n",
              "    </tr>\n",
              "    <tr>\n",
              "      <th>3</th>\n",
              "      <td>12347</td>\n",
              "      <td>549222</td>\n",
              "      <td>636.25</td>\n",
              "      <td>2011-04-07 10:42:59.999999232</td>\n",
              "    </tr>\n",
              "    <tr>\n",
              "      <th>4</th>\n",
              "      <td>12347</td>\n",
              "      <td>556201</td>\n",
              "      <td>382.52</td>\n",
              "      <td>2011-06-09 13:01:00.000000256</td>\n",
              "    </tr>\n",
              "    <tr>\n",
              "      <th>5</th>\n",
              "      <td>12347</td>\n",
              "      <td>562032</td>\n",
              "      <td>584.91</td>\n",
              "      <td>2011-08-02 08:48:00.000000000</td>\n",
              "    </tr>\n",
              "  </tbody>\n",
              "</table>\n",
              "</div>"
            ],
            "text/plain": [
              "  CustomerID InvoiceNo  Basket Price                   InvoiceDate\n",
              "0      12346    541431      77183.60 2011-01-18 10:01:00.000000000\n",
              "1      12347    537626        711.79 2010-12-07 14:57:00.000001024\n",
              "2      12347    542237        475.39 2011-01-26 14:29:59.999999744\n",
              "3      12347    549222        636.25 2011-04-07 10:42:59.999999232\n",
              "4      12347    556201        382.52 2011-06-09 13:01:00.000000256\n",
              "5      12347    562032        584.91 2011-08-02 08:48:00.000000000"
            ]
          },
          "metadata": {},
          "execution_count": 84
        }
      ]
    },
    {
      "cell_type": "markdown",
      "metadata": {
        "id": "6EYfO83pk6_T"
      },
      "source": [
        "In order to have a global view of the type of order performed in this dataset, we determine how the purchases are divided according to total prices:"
      ]
    },
    {
      "cell_type": "code",
      "metadata": {
        "id": "goYWX_GpYA8q",
        "colab": {
          "base_uri": "https://localhost:8080/",
          "height": 427
        },
        "outputId": "30772518-abf4-4af8-b64a-0b11d6838828"
      },
      "source": [
        "price_range = [0, 50, 100, 200, 500, 1000, 5000, 50000]\n",
        "count_price = []\n",
        "for i, price in enumerate(price_range):\n",
        "    if i == 0: continue\n",
        "    val = basket_price[(basket_price['Basket Price'] < price) &\n",
        "                       (basket_price['Basket Price'] > price_range[i-1])]['Basket Price'].count()\n",
        "    count_price.append(val)\n",
        "        \n",
        "plt.rc('font', weight='bold')\n",
        "f, ax = plt.subplots(figsize=(11, 6))\n",
        "colors = ['yellowgreen', 'gold', 'wheat', 'c', 'violet', 'royalblue','firebrick']\n",
        "labels = [ '{}<.<{}'.format(price_range[i-1], s) for i,s in enumerate(price_range) if i != 0]\n",
        "sizes  = count_price\n",
        "explode = [0.0 if sizes[i] < 100 else 0.0 for i in range(len(sizes))]\n",
        "ax.pie(sizes, explode = explode, labels=labels, colors = colors,\n",
        "       autopct = lambda x:'{:1.0f}%'.format(x) if x > 1 else '',\n",
        "       shadow = False, startangle=0)\n",
        "ax.axis('equal')\n",
        "f.text(0.5, 1.01, \"Breakdown of order amounts\", ha='center', fontsize = 18);"
      ],
      "execution_count": null,
      "outputs": [
        {
          "output_type": "display_data",
          "data": {
            "image/png": "[encoded data removed]",
            "text/plain": [
              "<Figure size 792x432 with 1 Axes>"
            ]
          },
          "metadata": {}
        }
      ]
    },
    {
      "cell_type": "markdown",
      "metadata": {
        "id": "5Vw5y63JbPaR"
      },
      "source": [
        "#3. Insight on product categories"
      ]
    },
    {
      "cell_type": "markdown",
      "metadata": {
        "id": "qBs_Ia6zOQq_"
      },
      "source": [
        "\n",
        "\n",
        "\n",
        "> #### 3.1 Product description\n",
        "\n",
        "In this section words frequency will be counted from product description, this aims to find which are the most used words. \n",
        "While dealing with text data a few prerequisites are needed:\n",
        "1. Converting all words to lowecase\n",
        "2. Removes 's\n",
        "3. Remove punctuation and special characters\n",
        "4. Expand contractions like he's to he is\n",
        "\n",
        "\n",
        "\n",
        "\n",
        "\n",
        "\n",
        "\n"
      ]
    },
    {
      "cell_type": "code",
      "metadata": {
        "colab": {
          "base_uri": "https://localhost:8080/"
        },
        "id": "8ii6N7l5QDII",
        "outputId": "d0bb4eac-4334-4640-fa2f-c19280d11dcf"
      },
      "source": [
        "text_data = dfi[['Description']]\n",
        "text_data['Description']"
      ],
      "execution_count": null,
      "outputs": [
        {
          "output_type": "execute_result",
          "data": {
            "text/plain": [
              "0          WHITE HANGING HEART T-LIGHT HOLDER\n",
              "1                         WHITE METAL LANTERN\n",
              "2              CREAM CUPID HEARTS COAT HANGER\n",
              "3         KNITTED UNION FLAG HOT WATER BOTTLE\n",
              "4              RED WOOLLY HOTTIE WHITE HEART.\n",
              "                         ...                 \n",
              "541904            PACK OF 20 SPACEBOY NAPKINS\n",
              "541905           CHILDREN'S APRON DOLLY GIRL \n",
              "541906          CHILDRENS CUTLERY DOLLY GIRL \n",
              "541907        CHILDRENS CUTLERY CIRCUS PARADE\n",
              "541908          BAKING SET 9 PIECE RETROSPOT \n",
              "Name: Description, Length: 541909, dtype: object"
            ]
          },
          "metadata": {},
          "execution_count": 86
        }
      ]
    },
    {
      "cell_type": "code",
      "metadata": {
        "colab": {
          "base_uri": "https://localhost:8080/"
        },
        "id": "LSBwjqaQRpg3",
        "outputId": "4c7eaf6a-6656-4b17-f42f-97f2ccb334a8"
      },
      "source": [
        "import re\n",
        "\n",
        "import math\n",
        "import string\n",
        "from typing import Dict, List, Tuple\n",
        "from collections import Counter\n",
        "import nltk\n",
        "nltk.download('punkt')\n",
        "import numpy as np\n",
        "import pandas as pd\n",
        "from nltk.tokenize import word_tokenize\n",
        "\n",
        "from pandas.core.frame import DataFrame\n",
        "import matplotlib.pyplot as plt     \n",
        "from sklearn.feature_extraction.text import CountVectorizer\n",
        "contractions_dict = {\"ain't\": \"is not\", \"aren't\": \"are not\",\"can't\": \"cannot\", \"'cause\": \"because\", \"could've\": \"could have\", \"couldn't\": \"could not\",\n",
        "                           \"didn't\": \"did not\",  \"doesn't\": \"does not\", \"don't\": \"do not\", \"hadn't\": \"had not\", \"hasn't\": \"has not\", \"haven't\": \"have not\",\n",
        "                           \"he'd\": \"he would\",\"he'll\": \"he will\", \"he's\": \"he is\", \"how'd\": \"how did\", \"how'd'y\": \"how do you\", \"how'll\": \"how will\", \"how's\": \"how is\",\n",
        "                           \"I'd\": \"I would\", \"I'd've\": \"I would have\", \"I'll\": \"I will\", \"I'll've\": \"I will have\",\"I'm\": \"I am\", \"I've\": \"I have\", \"i'd\": \"i would\",\n",
        "                           \"i'd've\": \"i would have\", \"i'll\": \"i will\",  \"i'll've\": \"i will have\",\"i'm\": \"i am\", \"i've\": \"i have\", \"isn't\": \"is not\", \"it'd\": \"it would\",\n",
        "                           \"it'd've\": \"it would have\", \"it'll\": \"it will\", \"it'll've\": \"it will have\",\"it's\": \"it is\", \"let's\": \"let us\", \"ma'am\": \"madam\",\n",
        "                           \"mayn't\": \"may not\", \"might've\": \"might have\",\"mightn't\": \"might not\",\"mightn't've\": \"might not have\", \"must've\": \"must have\",\n",
        "                           \"mustn't\": \"must not\", \"mustn't've\": \"must not have\", \"needn't\": \"need not\", \"needn't've\": \"need not have\",\"o'clock\": \"of the clock\",\n",
        "                           \"oughtn't\": \"ought not\", \"oughtn't've\": \"ought not have\", \"shan't\": \"shall not\", \"sha'n't\": \"shall not\", \"shan't've\": \"shall not have\",\n",
        "                           \"she'd\": \"she would\", \"she'd've\": \"she would have\", \"she'll\": \"she will\", \"she'll've\": \"she will have\", \"she's\": \"she is\",\n",
        "                           \"should've\": \"should have\", \"shouldn't\": \"should not\", \"shouldn't've\": \"should not have\", \"so've\": \"so have\",\"so's\": \"so as\",\n",
        "                           \"this's\": \"this is\",\"that'd\": \"that would\", \"that'd've\": \"that would have\", \"that's\": \"that is\", \"there'd\": \"there would\",\n",
        "                           \"there'd've\": \"there would have\", \"there's\": \"there is\", \"here's\": \"here is\",\"they'd\": \"they would\", \"they'd've\": \"they would have\",\n",
        "                           \"they'll\": \"they will\", \"they'll've\": \"they will have\", \"they're\": \"they are\", \"they've\": \"they have\", \"to've\": \"to have\",\n",
        "                           \"wasn't\": \"was not\", \"we'd\": \"we would\", \"we'd've\": \"we would have\", \"we'll\": \"we will\", \"we'll've\": \"we will have\", \"we're\": \"we are\",\n",
        "                           \"we've\": \"we have\", \"weren't\": \"were not\", \"what'll\": \"what will\", \"what'll've\": \"what will have\", \"what're\": \"what are\",\n",
        "                           \"what's\": \"what is\", \"what've\": \"what have\", \"when's\": \"when is\", \"when've\": \"when have\", \"where'd\": \"where did\", \"where's\": \"where is\",\n",
        "                           \"where've\": \"where have\", \"who'll\": \"who will\", \"who'll've\": \"who will have\", \"who's\": \"who is\", \"who've\": \"who have\",\n",
        "                           \"why's\": \"why is\", \"why've\": \"why have\", \"will've\": \"will have\", \"won't\": \"will not\", \"won't've\": \"will not have\",\n",
        "                           \"would've\": \"would have\", \"wouldn't\": \"would not\", \"wouldn't've\": \"would not have\", \"y'all\": \"you all\",\n",
        "                           \"y'all'd\": \"you all would\",\"y'all'd've\": \"you all would have\",\"y'all're\": \"you all are\",\"y'all've\": \"you all have\",\n",
        "                           \"you'd\": \"you would\", \"you'd've\": \"you would have\", \"you'll\": \"you will\", \"you'll've\": \"you will have\",\n",
        "                           \"you're\": \"you are\", \"you've\": \"you have\"}\n",
        "\n",
        "description_data = dfi\n",
        "description_data = description_data.dropna()\n",
        "\n",
        "\n",
        "def _lower_text(text_data: pd.DataFrame) -> pd.DataFrame:\n",
        "    \"\"\"Convert text to lower case\"\"\"\n",
        "    text_data['Description'] = text_data['Description'].str.lower()\n",
        "    return text_data\n",
        "\n",
        "\n",
        "def _remove_text_paranthesis(text_data: pd.DataFrame) -> pd.DataFrame:\n",
        "    \"\"\"Removes the text inside paranthesis () and []\"\"\"\n",
        "    p = re.compile(r'\\([^)]*\\)')\n",
        "    text_data['Description'] = [p.sub('', x) for x in text_data['Description'].tolist()]\n",
        "    return text_data\n",
        "\n",
        "\n",
        "def _remove_s(text_data: pd.DataFrame) -> pd.DataFrame:\n",
        "    \"\"\"Removes 's\"\"\"\n",
        "    p = re.compile(r\"'s\\b\")\n",
        "    text_data['Description'] = [p.sub('', x) for x in text_data['Description'].tolist()]\n",
        "    return text_data\n",
        "\n",
        "\n",
        "def _remove_punctuation(s):\n",
        "    \"\"\"Remove punctuation and special characters \"\"\"\n",
        "    s = ''.join([i for i in s if i not in frozenset(string.punctuation)])\n",
        "    return s\n",
        "\n",
        "\n",
        "def _expand_contactions(text_data1):\n",
        "      \"\"\"Expand contractions like he's to he is \"\"\"\n",
        "      text_data1 =' '.join([contractions_dict[i] if i in contractions_dict else i for i in text_data1.split()])\n",
        "      return text_data1\n",
        "\n",
        "\n",
        "def cleaning_pipeline(text_data: pd.DataFrame) -> pd.DataFrame:\n",
        "    \"\"\"Pipeline for cleaning the dataset\"\"\"\n",
        "    text_data = _lower_text(text_data)\n",
        "    print(text_data['Description'])\n",
        "    text_data['Description'] = text_data['Description'].apply(_expand_contactions)\n",
        "    text_data = _remove_s(text_data)\n",
        "    text_data = _remove_text_paranthesis(text_data)\n",
        "    text_data['Description'] = text_data['Description'].apply(_remove_punctuation)\n",
        "    return text_data\n",
        "\n",
        "\n",
        "def clean_tokens(text_data: pd.DataFrame) -> pd.DataFrame:\n",
        "    \"\"\"Tokenieze the already clean text \"\"\"\n",
        "    clean_tokens = []\n",
        "    text_data = cleaning_pipeline(text_data)\n",
        "    for j in text_data['Description']:\n",
        "        for k in word_tokenize(j):\n",
        "            clean_tokens.append(k)\n",
        "    return clean_tokens\n",
        "\n",
        "\n",
        "def __top_words(corpus, n=None):\n",
        "    \"\"\"For the next function\"\"\"\n",
        "    vec = CountVectorizer().fit(corpus)\n",
        "    bag_of_words = vec.transform(corpus)\n",
        "    sum_words = bag_of_words.sum(axis=0) \n",
        "    words_freq = [(word, sum_words[0, idx]) for word, idx in vec.vocabulary_.items()]\n",
        "    words_freq =sorted(words_freq, key = lambda x: x[1], reverse=True)\n",
        "    return words_freq[:n]\n",
        "\n",
        "def __common_words_plot():\n",
        "    \"\"\"Plot the most common 20 words from the e-commerce description corpus \"\"\"\n",
        "    common_words = __top_words(clean_tokens(description_data), 20)\n",
        "    df1 = pd.DataFrame(common_words, columns = ['Description' , 'count'])\n",
        "    df1.groupby('Description').sum()['count'].sort_values(ascending=False).plot(\n",
        "                                                                            kind='bar',\n",
        "                                                                            y='Count',\n",
        "                                                                    colormap='Purples_r',\n",
        "                            title='Top 20 words from the e-commerce description corpus')\n",
        "    plt.savefig('commmon_words_clean.png')                           \n",
        "    plt.show()\n",
        "\n",
        "\n",
        "\n",
        "__common_words_plot()\n",
        "\n"
      ],
      "execution_count": null,
      "outputs": [
        {
          "output_type": "stream",
          "name": "stdout",
          "text": [
            "[nltk_data] Downloading package punkt to /root/nltk_data...\n",
            "[nltk_data]   Package punkt is already up-to-date!\n"
          ]
        },
        {
          "output_type": "stream",
          "name": "stderr",
          "text": [
            "/usr/local/lib/python3.7/dist-packages/ipykernel_launcher.py:46: SettingWithCopyWarning: \n",
            "A value is trying to be set on a copy of a slice from a DataFrame.\n",
            "Try using .loc[row_indexer,col_indexer] = value instead\n",
            "\n",
            "See the caveats in the documentation: https://pandas.pydata.org/pandas-docs/stable/user_guide/indexing.html#returning-a-view-versus-a-copy\n"
          ]
        },
        {
          "output_type": "stream",
          "name": "stdout",
          "text": [
            "0          white hanging heart t-light holder\n",
            "1                         white metal lantern\n",
            "2              cream cupid hearts coat hanger\n",
            "3         knitted union flag hot water bottle\n",
            "4              red woolly hottie white heart.\n",
            "                         ...                 \n",
            "541904            pack of 20 spaceboy napkins\n",
            "541905           children's apron dolly girl \n",
            "541906          childrens cutlery dolly girl \n",
            "541907        childrens cutlery circus parade\n",
            "541908          baking set 9 piece retrospot \n",
            "Name: Description, Length: 406829, dtype: object\n"
          ]
        },
        {
          "output_type": "stream",
          "name": "stderr",
          "text": [
            "/usr/local/lib/python3.7/dist-packages/ipykernel_launcher.py:80: SettingWithCopyWarning: \n",
            "A value is trying to be set on a copy of a slice from a DataFrame.\n",
            "Try using .loc[row_indexer,col_indexer] = value instead\n",
            "\n",
            "See the caveats in the documentation: https://pandas.pydata.org/pandas-docs/stable/user_guide/indexing.html#returning-a-view-versus-a-copy\n",
            "/usr/local/lib/python3.7/dist-packages/ipykernel_launcher.py:60: SettingWithCopyWarning: \n",
            "A value is trying to be set on a copy of a slice from a DataFrame.\n",
            "Try using .loc[row_indexer,col_indexer] = value instead\n",
            "\n",
            "See the caveats in the documentation: https://pandas.pydata.org/pandas-docs/stable/user_guide/indexing.html#returning-a-view-versus-a-copy\n",
            "/usr/local/lib/python3.7/dist-packages/ipykernel_launcher.py:53: SettingWithCopyWarning: \n",
            "A value is trying to be set on a copy of a slice from a DataFrame.\n",
            "Try using .loc[row_indexer,col_indexer] = value instead\n",
            "\n",
            "See the caveats in the documentation: https://pandas.pydata.org/pandas-docs/stable/user_guide/indexing.html#returning-a-view-versus-a-copy\n",
            "/usr/local/lib/python3.7/dist-packages/ipykernel_launcher.py:83: SettingWithCopyWarning: \n",
            "A value is trying to be set on a copy of a slice from a DataFrame.\n",
            "Try using .loc[row_indexer,col_indexer] = value instead\n",
            "\n",
            "See the caveats in the documentation: https://pandas.pydata.org/pandas-docs/stable/user_guide/indexing.html#returning-a-view-versus-a-copy\n"
          ]
        },
        {
          "output_type": "display_data",
          "data": {
            "image/png": "[encoded data removed]",
            "text/plain": [
              "<Figure size 432x288 with 1 Axes>"
            ]
          },
          "metadata": {
            "needs_background": "light"
          }
        }
      ]
    },
    {
      "cell_type": "markdown",
      "metadata": {
        "id": "7tIcCn9wcQCD"
      },
      "source": [
        "#### 3.2 Defining product categories"
      ]
    },
    {
      "cell_type": "markdown",
      "metadata": {
        "id": "gbVyE7awZxU8"
      },
      "source": [
        "An easy attept to make an attepmpt to cattegorize the products would be by looking at the stock codes to see if the similarity between codes leads to a similarity bewteen categories of products. <br> For example, bread starts with code 101 and folowd by other code (eg. 101222) and Croissant also starts 101 and other specific code (eg. 101402). For both products starting 101 we can say that bakery products would be a more general category for both product.\n",
        "\n",
        "<br> <br>In the following examples we will try to see if the described aproach is applicable on our data"
      ]
    },
    {
      "cell_type": "code",
      "metadata": {
        "id": "uTNUaIhJcPtS",
        "colab": {
          "base_uri": "https://localhost:8080/"
        },
        "outputId": "f3f11345-36b4-49b1-eb44-894843d0d6bf"
      },
      "source": [
        "unique_stock_code = df.StockCode.unique()\n",
        "len(unique_stock_code)"
      ],
      "execution_count": null,
      "outputs": [
        {
          "output_type": "execute_result",
          "data": {
            "text/plain": [
              "3665"
            ]
          },
          "metadata": {},
          "execution_count": 88
        }
      ]
    },
    {
      "cell_type": "markdown",
      "metadata": {
        "id": "wAcosi8KZ0xg"
      },
      "source": [
        "We have 3665 diferent products based on StockCode"
      ]
    },
    {
      "cell_type": "markdown",
      "metadata": {
        "id": "4baci_oqZ3eu"
      },
      "source": [
        "For the data to be more vissible on a scatterplot, a counter for each stock code of the number of times it was bought will be added to the dataframe."
      ]
    },
    {
      "cell_type": "code",
      "metadata": {
        "id": "gmfEx0hqfSaB"
      },
      "source": [
        "count_for_each_code = df['StockCode'].value_counts().to_frame()"
      ],
      "execution_count": null,
      "outputs": []
    },
    {
      "cell_type": "code",
      "metadata": {
        "id": "LXAHPaBAn96y"
      },
      "source": [
        "def return_description_from_stockcode(code, aDataFrame):\n",
        "  return aDataFrame.loc[aDataFrame['StockCode'] == str(code), 'Description'].values[0]\n",
        "  "
      ],
      "execution_count": null,
      "outputs": []
    },
    {
      "cell_type": "code",
      "metadata": {
        "id": "O_WV5wA5tZBp"
      },
      "source": [
        "for i in count_for_each_code.index:\n",
        "  count_for_each_code.at[i, 'Description'] = return_description_from_stockcode(i, df)"
      ],
      "execution_count": null,
      "outputs": []
    },
    {
      "cell_type": "code",
      "metadata": {
        "id": "uiGkrP-ltyqt"
      },
      "source": [
        "count_for_each_code_labeled = count_for_each_code"
      ],
      "execution_count": null,
      "outputs": []
    },
    {
      "cell_type": "code",
      "metadata": {
        "id": "6atQi3jF-n3G"
      },
      "source": [
        "count_for_each_code_labeled = count_for_each_code_labeled.reset_index(inplace = False)"
      ],
      "execution_count": null,
      "outputs": []
    },
    {
      "cell_type": "markdown",
      "metadata": {
        "id": "imvBr3s5o1Wu"
      },
      "source": [
        "In order to be able to represent the stock code on a graph because some stockcodes contain letters some other encoding need to be used. For the ones which contains letters, each letter will be transformed into ascii representation of digits and after added to the stock code number."
      ]
    },
    {
      "cell_type": "code",
      "metadata": {
        "id": "dkMM7K2AEeRu"
      },
      "source": [
        "def convertLettersToAsci(text):\n",
        "    text = str(text)\n",
        "    new_list = ''\n",
        "    \n",
        "    for i in range(len(text)):\n",
        "        if (text[i].isalpha()):\n",
        "            new_list = new_list + (str(ord(text[i])))\n",
        "        else:\n",
        "            new_list = new_list + (str(text[i]))\n",
        "\n",
        "    ret = 0\n",
        "    try:\n",
        "      ret = int(new_list)\n",
        "    except:\n",
        "      print(new_list)\n",
        "    #new_list.replace(\" \",\"\")\n",
        "    return ret"
      ],
      "execution_count": null,
      "outputs": []
    },
    {
      "cell_type": "code",
      "metadata": {
        "id": "yQmcGW6mBKxo",
        "colab": {
          "base_uri": "https://localhost:8080/",
          "height": 706
        },
        "outputId": "a5640653-2455-437e-c596-0a070674d4ae"
      },
      "source": [
        "count_for_each_code_labeled = count_for_each_code_labeled.rename(columns ={'index':\"StockCode\", \"StockCode\":'Counter'} , inplace = False)\n",
        "count_for_each_code_relabeled = count_for_each_code_labeled\n",
        "count_for_each_code_relabeled['StockCode'] = count_for_each_code_relabeled['StockCode'].map(convertLettersToAsci)\n",
        "count_for_each_code_relabeled"
      ],
      "execution_count": null,
      "outputs": [
        {
          "output_type": "stream",
          "name": "stdout",
          "text": [
            "66657875 67726582716983\n"
          ]
        },
        {
          "output_type": "execute_result",
          "data": {
            "text/html": [
              "<div>\n",
              "<style scoped>\n",
              "    .dataframe tbody tr th:only-of-type {\n",
              "        vertical-align: middle;\n",
              "    }\n",
              "\n",
              "    .dataframe tbody tr th {\n",
              "        vertical-align: top;\n",
              "    }\n",
              "\n",
              "    .dataframe thead th {\n",
              "        text-align: right;\n",
              "    }\n",
              "</style>\n",
              "<table border=\"1\" class=\"dataframe\">\n",
              "  <thead>\n",
              "    <tr style=\"text-align: right;\">\n",
              "      <th></th>\n",
              "      <th>StockCode</th>\n",
              "      <th>Counter</th>\n",
              "      <th>Description</th>\n",
              "    </tr>\n",
              "  </thead>\n",
              "  <tbody>\n",
              "    <tr>\n",
              "      <th>0</th>\n",
              "      <td>8512365</td>\n",
              "      <td>2023</td>\n",
              "      <td>WHITE HANGING HEART T-LIGHT HOLDER</td>\n",
              "    </tr>\n",
              "    <tr>\n",
              "      <th>1</th>\n",
              "      <td>22423</td>\n",
              "      <td>1714</td>\n",
              "      <td>REGENCY CAKESTAND 3 TIER</td>\n",
              "    </tr>\n",
              "    <tr>\n",
              "      <th>2</th>\n",
              "      <td>8509966</td>\n",
              "      <td>1615</td>\n",
              "      <td>JUMBO BAG RED RETROSPOT</td>\n",
              "    </tr>\n",
              "    <tr>\n",
              "      <th>3</th>\n",
              "      <td>84879</td>\n",
              "      <td>1395</td>\n",
              "      <td>ASSORTED COLOUR BIRD ORNAMENT</td>\n",
              "    </tr>\n",
              "    <tr>\n",
              "      <th>4</th>\n",
              "      <td>47566</td>\n",
              "      <td>1390</td>\n",
              "      <td>PARTY BUNTING</td>\n",
              "    </tr>\n",
              "    <tr>\n",
              "      <th>...</th>\n",
              "      <td>...</td>\n",
              "      <td>...</td>\n",
              "      <td>...</td>\n",
              "    </tr>\n",
              "    <tr>\n",
              "      <th>3660</th>\n",
              "      <td>8470567</td>\n",
              "      <td>1</td>\n",
              "      <td>PINK FLOCK PHOTO FRAME</td>\n",
              "    </tr>\n",
              "    <tr>\n",
              "      <th>3661</th>\n",
              "      <td>9003670</td>\n",
              "      <td>1</td>\n",
              "      <td>FLOWER GLASS GARLD NECKL36\"TURQUOIS</td>\n",
              "    </tr>\n",
              "    <tr>\n",
              "      <th>3662</th>\n",
              "      <td>22323</td>\n",
              "      <td>1</td>\n",
              "      <td>PINK POLKADOT KIDS BAG</td>\n",
              "    </tr>\n",
              "    <tr>\n",
              "      <th>3663</th>\n",
              "      <td>90131</td>\n",
              "      <td>1</td>\n",
              "      <td>PINK/AMETHYST/GOLD NECKLACE</td>\n",
              "    </tr>\n",
              "    <tr>\n",
              "      <th>3664</th>\n",
              "      <td>90041</td>\n",
              "      <td>1</td>\n",
              "      <td>PEARL AND CHERRY QUARTZ BRACLET</td>\n",
              "    </tr>\n",
              "  </tbody>\n",
              "</table>\n",
              "<p>3665 rows × 3 columns</p>\n",
              "</div>"
            ],
            "text/plain": [
              "      StockCode  Counter                          Description\n",
              "0       8512365     2023   WHITE HANGING HEART T-LIGHT HOLDER\n",
              "1         22423     1714             REGENCY CAKESTAND 3 TIER\n",
              "2       8509966     1615              JUMBO BAG RED RETROSPOT\n",
              "3         84879     1395        ASSORTED COLOUR BIRD ORNAMENT\n",
              "4         47566     1390                        PARTY BUNTING\n",
              "...         ...      ...                                  ...\n",
              "3660    8470567        1              PINK FLOCK PHOTO FRAME \n",
              "3661    9003670        1  FLOWER GLASS GARLD NECKL36\"TURQUOIS\n",
              "3662      22323        1               PINK POLKADOT KIDS BAG\n",
              "3663      90131        1          PINK/AMETHYST/GOLD NECKLACE\n",
              "3664      90041        1      PEARL AND CHERRY QUARTZ BRACLET\n",
              "\n",
              "[3665 rows x 3 columns]"
            ]
          },
          "metadata": {},
          "execution_count": 95
        }
      ]
    },
    {
      "cell_type": "code",
      "metadata": {
        "id": "WUoj4mGbEC6C",
        "colab": {
          "base_uri": "https://localhost:8080/"
        },
        "outputId": "a70b7eb3-4ba4-4619-8050-b918c6c8be54"
      },
      "source": [
        "tmp_unique_stock_code = count_for_each_code_relabeled.StockCode.unique()\n",
        "len(tmp_unique_stock_code)"
      ],
      "execution_count": null,
      "outputs": [
        {
          "output_type": "execute_result",
          "data": {
            "text/plain": [
              "3665"
            ]
          },
          "metadata": {},
          "execution_count": 96
        }
      ]
    },
    {
      "cell_type": "code",
      "metadata": {
        "id": "73I3rgBIJFQW"
      },
      "source": [
        "count_for_each_code_relabeled['StockCode'] = pd.to_numeric(count_for_each_code_relabeled['StockCode'])"
      ],
      "execution_count": null,
      "outputs": []
    },
    {
      "cell_type": "markdown",
      "metadata": {
        "id": "aJarP1Mnp7Ng"
      },
      "source": [
        "We plot the codes. (the counter is stil used just for visual purpose)"
      ]
    },
    {
      "cell_type": "code",
      "metadata": {
        "id": "fgOkfgPQMsEp",
        "colab": {
          "base_uri": "https://localhost:8080/"
        },
        "outputId": "a44258e8-0c6a-46e1-9a2d-eac8b270a790"
      },
      "source": [
        "count_for_each_code_relabeled.plot.scatter(x='StockCode', y='Counter')"
      ],
      "execution_count": null,
      "outputs": [
        {
          "output_type": "execute_result",
          "data": {
            "text/plain": [
              "<matplotlib.axes._subplots.AxesSubplot at 0x7f6dca596dd0>"
            ]
          },
          "metadata": {},
          "execution_count": 98
        },
        {
          "output_type": "display_data",
          "data": {
            "image/png": "[encoded data removed]",
            "text/plain": [
              "<Figure size 432x288 with 1 Axes>"
            ]
          },
          "metadata": {
            "needs_background": "light"
          }
        }
      ]
    },
    {
      "cell_type": "code",
      "metadata": {
        "id": "nOXNMV0wN_I3",
        "colab": {
          "base_uri": "https://localhost:8080/"
        },
        "outputId": "1f6621c3-bd96-4d7c-9fb1-93cda005b2c3"
      },
      "source": [
        "count_for_each_code_relabeled.sort_values(by=['StockCode'], ascending=False)"
      ],
      "execution_count": null,
      "outputs": [
        {
          "output_type": "execute_result",
          "data": {
            "text/html": [
              "<div>\n",
              "<style scoped>\n",
              "    .dataframe tbody tr th:only-of-type {\n",
              "        vertical-align: middle;\n",
              "    }\n",
              "\n",
              "    .dataframe tbody tr th {\n",
              "        vertical-align: top;\n",
              "    }\n",
              "\n",
              "    .dataframe thead th {\n",
              "        text-align: right;\n",
              "    }\n",
              "</style>\n",
              "<table border=\"1\" class=\"dataframe\">\n",
              "  <thead>\n",
              "    <tr style=\"text-align: right;\">\n",
              "      <th></th>\n",
              "      <th>StockCode</th>\n",
              "      <th>Counter</th>\n",
              "      <th>Description</th>\n",
              "    </tr>\n",
              "  </thead>\n",
              "  <tbody>\n",
              "    <tr>\n",
              "      <th>340</th>\n",
              "      <td>150566676</td>\n",
              "      <td>291</td>\n",
              "      <td>EDWARDIAN PARASOL BLACK</td>\n",
              "    </tr>\n",
              "    <tr>\n",
              "      <th>7</th>\n",
              "      <td>80798384</td>\n",
              "      <td>1099</td>\n",
              "      <td>POSTAGE</td>\n",
              "    </tr>\n",
              "    <tr>\n",
              "      <th>3213</th>\n",
              "      <td>80656883</td>\n",
              "      <td>4</td>\n",
              "      <td>PADS TO MATCH ALL CUSHIONS</td>\n",
              "    </tr>\n",
              "    <tr>\n",
              "      <th>3542</th>\n",
              "      <td>9021490</td>\n",
              "      <td>1</td>\n",
              "      <td>LETTER \"Z\" BLING KEY RING</td>\n",
              "    </tr>\n",
              "    <tr>\n",
              "      <th>3342</th>\n",
              "      <td>9021489</td>\n",
              "      <td>3</td>\n",
              "      <td>LETTER \"Y\" BLING KEY RING</td>\n",
              "    </tr>\n",
              "    <tr>\n",
              "      <th>...</th>\n",
              "      <td>...</td>\n",
              "      <td>...</td>\n",
              "      <td>...</td>\n",
              "    </tr>\n",
              "    <tr>\n",
              "      <th>2456</th>\n",
              "      <td>10080</td>\n",
              "      <td>21</td>\n",
              "      <td>GROOVY CACTUS INFLATABLE</td>\n",
              "    </tr>\n",
              "    <tr>\n",
              "      <th>1810</th>\n",
              "      <td>10002</td>\n",
              "      <td>49</td>\n",
              "      <td>INFLATABLE POLITICAL GLOBE</td>\n",
              "    </tr>\n",
              "    <tr>\n",
              "      <th>925</th>\n",
              "      <td>672</td>\n",
              "      <td>133</td>\n",
              "      <td>CARRIAGE</td>\n",
              "    </tr>\n",
              "    <tr>\n",
              "      <th>352</th>\n",
              "      <td>77</td>\n",
              "      <td>285</td>\n",
              "      <td>Manual</td>\n",
              "    </tr>\n",
              "    <tr>\n",
              "      <th>2766</th>\n",
              "      <td>0</td>\n",
              "      <td>12</td>\n",
              "      <td>Bank Charges</td>\n",
              "    </tr>\n",
              "  </tbody>\n",
              "</table>\n",
              "<p>3665 rows × 3 columns</p>\n",
              "</div>"
            ],
            "text/plain": [
              "      StockCode  Counter                  Description\n",
              "340   150566676      291      EDWARDIAN PARASOL BLACK\n",
              "7      80798384     1099                      POSTAGE\n",
              "3213   80656883        4   PADS TO MATCH ALL CUSHIONS\n",
              "3542    9021490        1    LETTER \"Z\" BLING KEY RING\n",
              "3342    9021489        3    LETTER \"Y\" BLING KEY RING\n",
              "...         ...      ...                          ...\n",
              "2456      10080       21     GROOVY CACTUS INFLATABLE\n",
              "1810      10002       49  INFLATABLE POLITICAL GLOBE \n",
              "925         672      133                     CARRIAGE\n",
              "352          77      285                       Manual\n",
              "2766          0       12                 Bank Charges\n",
              "\n",
              "[3665 rows x 3 columns]"
            ]
          },
          "metadata": {},
          "execution_count": 99
        }
      ]
    },
    {
      "cell_type": "markdown",
      "metadata": {
        "id": "HB9dhZJmp0Vv"
      },
      "source": [
        "Some outliers are eliminated"
      ]
    },
    {
      "cell_type": "code",
      "metadata": {
        "id": "5HeK90gjRewS"
      },
      "source": [
        "count_for_each_code_relabeled = count_for_each_code_relabeled[count_for_each_code_relabeled.StockCode != 150566676\t]\n",
        "count_for_each_code_relabeled = count_for_each_code_relabeled[count_for_each_code_relabeled.StockCode != 80798384\t]\n",
        "count_for_each_code_relabeled = count_for_each_code_relabeled[count_for_each_code_relabeled.StockCode != 80656883\t]"
      ],
      "execution_count": null,
      "outputs": []
    },
    {
      "cell_type": "code",
      "metadata": {
        "id": "thTal6pkR4-N",
        "colab": {
          "base_uri": "https://localhost:8080/",
          "height": 296
        },
        "outputId": "a68ea701-2879-4fb3-ad3f-0f5392547d09"
      },
      "source": [
        "count_for_each_code_relabeled.plot.scatter(x='StockCode', y='Counter')"
      ],
      "execution_count": null,
      "outputs": [
        {
          "output_type": "execute_result",
          "data": {
            "text/plain": [
              "<matplotlib.axes._subplots.AxesSubplot at 0x7f6dca50a910>"
            ]
          },
          "metadata": {},
          "execution_count": 101
        },
        {
          "output_type": "display_data",
          "data": {
            "image/png": "[encoded data removed]",
            "text/plain": [
              "<Figure size 432x288 with 1 Axes>"
            ]
          },
          "metadata": {
            "needs_background": "light"
          }
        }
      ]
    },
    {
      "cell_type": "markdown",
      "metadata": {
        "id": "q-XO782WqQOF"
      },
      "source": [
        "In the scatterplot above it can be seen that there could be visually identified at least 4 clusters. <br>\n",
        "Below we will try to do a \"zoom\" on each clusters to see if we can identify some cathegories by following the stock code and the actual description."
      ]
    },
    {
      "cell_type": "code",
      "metadata": {
        "id": "GY5YiVT8Jk1L"
      },
      "source": [
        "block1 = count_for_each_code_relabeled[ (count_for_each_code_relabeled.StockCode >= 0) & (count_for_each_code_relabeled.StockCode < 20000)]\n",
        "block2 = count_for_each_code_relabeled[ (count_for_each_code_relabeled.StockCode >= 20000) & (count_for_each_code_relabeled.StockCode < 30000)]\n",
        "block3 = count_for_each_code_relabeled[ (count_for_each_code_relabeled.StockCode >= 30000) & (count_for_each_code_relabeled.StockCode < 60000)]\n",
        "block4 = count_for_each_code_relabeled[ (count_for_each_code_relabeled.StockCode >= 60000) & (count_for_each_code_relabeled.StockCode < 80000)]\n",
        "block5 = count_for_each_code_relabeled[ (count_for_each_code_relabeled.StockCode >= 80000) & (count_for_each_code_relabeled.StockCode < 100000)]\n",
        "block6 = count_for_each_code_relabeled[ (count_for_each_code_relabeled.StockCode >= 100000) ]\n"
      ],
      "execution_count": null,
      "outputs": []
    },
    {
      "cell_type": "code",
      "metadata": {
        "colab": {
          "base_uri": "https://localhost:8080/",
          "height": 296
        },
        "id": "zmrIf9juYEhl",
        "outputId": "3e718b59-bc68-48e6-bbfc-f0627c319c58"
      },
      "source": [
        "block1.plot.scatter(x='StockCode', y='Counter')"
      ],
      "execution_count": null,
      "outputs": [
        {
          "output_type": "execute_result",
          "data": {
            "text/plain": [
              "<matplotlib.axes._subplots.AxesSubplot at 0x7f6dcca1a0d0>"
            ]
          },
          "metadata": {},
          "execution_count": 103
        },
        {
          "output_type": "display_data",
          "data": {
            "image/png": "[encoded data removed]",
            "text/plain": [
              "<Figure size 432x288 with 1 Axes>"
            ]
          },
          "metadata": {
            "needs_background": "light"
          }
        }
      ]
    },
    {
      "cell_type": "markdown",
      "metadata": {
        "id": "cDRO8852q4d7"
      },
      "source": [
        "We can see a lot of things in this first cluster that could fit into a office category, but there are still objects that did not fill the pattern."
      ]
    },
    {
      "cell_type": "code",
      "metadata": {
        "colab": {
          "base_uri": "https://localhost:8080/",
          "height": 819
        },
        "id": "iAeStKKwZOF3",
        "outputId": "761508ec-739a-49c1-e070-351c7ea00426"
      },
      "source": [
        "block1[:25].sort_values(by=['StockCode'], ascending=True)"
      ],
      "execution_count": null,
      "outputs": [
        {
          "output_type": "execute_result",
          "data": {
            "text/html": [
              "<div>\n",
              "<style scoped>\n",
              "    .dataframe tbody tr th:only-of-type {\n",
              "        vertical-align: middle;\n",
              "    }\n",
              "\n",
              "    .dataframe tbody tr th {\n",
              "        vertical-align: top;\n",
              "    }\n",
              "\n",
              "    .dataframe thead th {\n",
              "        text-align: right;\n",
              "    }\n",
              "</style>\n",
              "<table border=\"1\" class=\"dataframe\">\n",
              "  <thead>\n",
              "    <tr style=\"text-align: right;\">\n",
              "      <th></th>\n",
              "      <th>StockCode</th>\n",
              "      <th>Counter</th>\n",
              "      <th>Description</th>\n",
              "    </tr>\n",
              "  </thead>\n",
              "  <tbody>\n",
              "    <tr>\n",
              "      <th>352</th>\n",
              "      <td>77</td>\n",
              "      <td>285</td>\n",
              "      <td>Manual</td>\n",
              "    </tr>\n",
              "    <tr>\n",
              "      <th>925</th>\n",
              "      <td>672</td>\n",
              "      <td>133</td>\n",
              "      <td>CARRIAGE</td>\n",
              "    </tr>\n",
              "    <tr>\n",
              "      <th>1810</th>\n",
              "      <td>10002</td>\n",
              "      <td>49</td>\n",
              "      <td>INFLATABLE POLITICAL GLOBE</td>\n",
              "    </tr>\n",
              "    <tr>\n",
              "      <th>1609</th>\n",
              "      <td>10125</td>\n",
              "      <td>63</td>\n",
              "      <td>MINI FUNKY DESIGN TAPES</td>\n",
              "    </tr>\n",
              "    <tr>\n",
              "      <th>1003</th>\n",
              "      <td>10133</td>\n",
              "      <td>122</td>\n",
              "      <td>COLOURING PENCILS BROWN TUBE</td>\n",
              "    </tr>\n",
              "    <tr>\n",
              "      <th>1029</th>\n",
              "      <td>10135</td>\n",
              "      <td>119</td>\n",
              "      <td>COLOURING PENCILS BROWN TUBE</td>\n",
              "    </tr>\n",
              "    <tr>\n",
              "      <th>1588</th>\n",
              "      <td>11001</td>\n",
              "      <td>64</td>\n",
              "      <td>ASSTD DESIGN RACING CAR PEN</td>\n",
              "    </tr>\n",
              "    <tr>\n",
              "      <th>1277</th>\n",
              "      <td>15034</td>\n",
              "      <td>91</td>\n",
              "      <td>PAPER POCKET TRAVELING FAN</td>\n",
              "    </tr>\n",
              "    <tr>\n",
              "      <th>278</th>\n",
              "      <td>15036</td>\n",
              "      <td>325</td>\n",
              "      <td>ASSORTED COLOURS SILK FAN</td>\n",
              "    </tr>\n",
              "    <tr>\n",
              "      <th>1511</th>\n",
              "      <td>15039</td>\n",
              "      <td>70</td>\n",
              "      <td>SANDALWOOD FAN</td>\n",
              "    </tr>\n",
              "    <tr>\n",
              "      <th>1507</th>\n",
              "      <td>16008</td>\n",
              "      <td>70</td>\n",
              "      <td>SMALL FOLDING SCISSOR(POINTED EDGE)</td>\n",
              "    </tr>\n",
              "    <tr>\n",
              "      <th>1861</th>\n",
              "      <td>16011</td>\n",
              "      <td>46</td>\n",
              "      <td>ANIMAL STICKERS</td>\n",
              "    </tr>\n",
              "    <tr>\n",
              "      <th>1727</th>\n",
              "      <td>16014</td>\n",
              "      <td>54</td>\n",
              "      <td>SMALL CHINESE STYLE SCISSOR</td>\n",
              "    </tr>\n",
              "    <tr>\n",
              "      <th>1585</th>\n",
              "      <td>16016</td>\n",
              "      <td>65</td>\n",
              "      <td>LARGE CHINESE STYLE SCISSOR</td>\n",
              "    </tr>\n",
              "    <tr>\n",
              "      <th>1528</th>\n",
              "      <td>16045</td>\n",
              "      <td>69</td>\n",
              "      <td>POPART WOODEN PENCILS ASST</td>\n",
              "    </tr>\n",
              "    <tr>\n",
              "      <th>1831</th>\n",
              "      <td>16048</td>\n",
              "      <td>48</td>\n",
              "      <td>TEATIME ROUND PENCIL SHARPENER</td>\n",
              "    </tr>\n",
              "    <tr>\n",
              "      <th>1800</th>\n",
              "      <td>16218</td>\n",
              "      <td>50</td>\n",
              "      <td>CARTOON  PENCIL SHARPENERS</td>\n",
              "    </tr>\n",
              "    <tr>\n",
              "      <th>1847</th>\n",
              "      <td>16219</td>\n",
              "      <td>47</td>\n",
              "      <td>HOUSE SHAPE PENCIL SHARPENER</td>\n",
              "    </tr>\n",
              "    <tr>\n",
              "      <th>1457</th>\n",
              "      <td>16225</td>\n",
              "      <td>75</td>\n",
              "      <td>RATTLE SNAKE EGGS</td>\n",
              "    </tr>\n",
              "    <tr>\n",
              "      <th>1385</th>\n",
              "      <td>16235</td>\n",
              "      <td>80</td>\n",
              "      <td>RECYCLED PENCIL WITH RABBIT ERASER</td>\n",
              "    </tr>\n",
              "    <tr>\n",
              "      <th>1486</th>\n",
              "      <td>16236</td>\n",
              "      <td>73</td>\n",
              "      <td>KITTY PENCIL ERASERS</td>\n",
              "    </tr>\n",
              "    <tr>\n",
              "      <th>729</th>\n",
              "      <td>16237</td>\n",
              "      <td>166</td>\n",
              "      <td>SLEEPING CAT ERASERS</td>\n",
              "    </tr>\n",
              "    <tr>\n",
              "      <th>1418</th>\n",
              "      <td>16238</td>\n",
              "      <td>78</td>\n",
              "      <td>PARTY TIME PENCIL ERASERS</td>\n",
              "    </tr>\n",
              "    <tr>\n",
              "      <th>554</th>\n",
              "      <td>17003</td>\n",
              "      <td>208</td>\n",
              "      <td>BROCADE RING PURSE</td>\n",
              "    </tr>\n",
              "    <tr>\n",
              "      <th>1779</th>\n",
              "      <td>17021</td>\n",
              "      <td>51</td>\n",
              "      <td>NAMASTE SWAGAT INCENSE</td>\n",
              "    </tr>\n",
              "  </tbody>\n",
              "</table>\n",
              "</div>"
            ],
            "text/plain": [
              "      StockCode  Counter                          Description\n",
              "352          77      285                               Manual\n",
              "925         672      133                             CARRIAGE\n",
              "1810      10002       49          INFLATABLE POLITICAL GLOBE \n",
              "1609      10125       63              MINI FUNKY DESIGN TAPES\n",
              "1003      10133      122         COLOURING PENCILS BROWN TUBE\n",
              "1029      10135      119         COLOURING PENCILS BROWN TUBE\n",
              "1588      11001       64          ASSTD DESIGN RACING CAR PEN\n",
              "1277      15034       91          PAPER POCKET TRAVELING FAN \n",
              "278       15036      325            ASSORTED COLOURS SILK FAN\n",
              "1511      15039       70                       SANDALWOOD FAN\n",
              "1507      16008       70  SMALL FOLDING SCISSOR(POINTED EDGE)\n",
              "1861      16011       46                      ANIMAL STICKERS\n",
              "1727      16014       54          SMALL CHINESE STYLE SCISSOR\n",
              "1585      16016       65          LARGE CHINESE STYLE SCISSOR\n",
              "1528      16045       69           POPART WOODEN PENCILS ASST\n",
              "1831      16048       48      TEATIME ROUND PENCIL SHARPENER \n",
              "1800      16218       50           CARTOON  PENCIL SHARPENERS\n",
              "1847      16219       47         HOUSE SHAPE PENCIL SHARPENER\n",
              "1457      16225       75                    RATTLE SNAKE EGGS\n",
              "1385      16235       80   RECYCLED PENCIL WITH RABBIT ERASER\n",
              "1486      16236       73                 KITTY PENCIL ERASERS\n",
              "729       16237      166                 SLEEPING CAT ERASERS\n",
              "1418      16238       78            PARTY TIME PENCIL ERASERS\n",
              "554       17003      208                  BROCADE RING PURSE \n",
              "1779      17021       51               NAMASTE SWAGAT INCENSE"
            ]
          },
          "metadata": {},
          "execution_count": 104
        }
      ]
    },
    {
      "cell_type": "code",
      "metadata": {
        "colab": {
          "base_uri": "https://localhost:8080/",
          "height": 296
        },
        "id": "Rmiy-0xwYIb_",
        "outputId": "d98d3f34-f0d9-42a7-d278-33e38f063e13"
      },
      "source": [
        "block2.plot.scatter(x='StockCode', y='Counter')"
      ],
      "execution_count": null,
      "outputs": [
        {
          "output_type": "execute_result",
          "data": {
            "text/plain": [
              "<matplotlib.axes._subplots.AxesSubplot at 0x7f6dcb46f290>"
            ]
          },
          "metadata": {},
          "execution_count": 105
        },
        {
          "output_type": "display_data",
          "data": {
            "image/png": "[encoded data removed]",
            "text/plain": [
              "<Figure size 432x288 with 1 Axes>"
            ]
          },
          "metadata": {
            "needs_background": "light"
          }
        }
      ]
    },
    {
      "cell_type": "markdown",
      "metadata": {
        "id": "o0AjWmV2rqww"
      },
      "source": [
        "Same here, very close data by stock code, but very far by descripion: <br> 1\t22423\t1714\tREGENCY CAKESTAND 3 TIER <br> and <br> 19\t22457\t972\tNATURAL SLATE HEART CHALKBOARD"
      ]
    },
    {
      "cell_type": "code",
      "metadata": {
        "colab": {
          "base_uri": "https://localhost:8080/",
          "height": 819
        },
        "id": "eMSkaBOMa5M6",
        "outputId": "15e5fe4e-e45f-4e3e-cf67-1f4332076b2c"
      },
      "source": [
        "block2[:25].sort_values(by=['StockCode'], ascending=True)"
      ],
      "execution_count": null,
      "outputs": [
        {
          "output_type": "execute_result",
          "data": {
            "text/html": [
              "<div>\n",
              "<style scoped>\n",
              "    .dataframe tbody tr th:only-of-type {\n",
              "        vertical-align: middle;\n",
              "    }\n",
              "\n",
              "    .dataframe tbody tr th {\n",
              "        vertical-align: top;\n",
              "    }\n",
              "\n",
              "    .dataframe thead th {\n",
              "        text-align: right;\n",
              "    }\n",
              "</style>\n",
              "<table border=\"1\" class=\"dataframe\">\n",
              "  <thead>\n",
              "    <tr style=\"text-align: right;\">\n",
              "      <th></th>\n",
              "      <th>StockCode</th>\n",
              "      <th>Counter</th>\n",
              "      <th>Description</th>\n",
              "    </tr>\n",
              "  </thead>\n",
              "  <tbody>\n",
              "    <tr>\n",
              "      <th>5</th>\n",
              "      <td>20725</td>\n",
              "      <td>1304</td>\n",
              "      <td>LUNCH BAG RED RETROSPOT</td>\n",
              "    </tr>\n",
              "    <tr>\n",
              "      <th>9</th>\n",
              "      <td>20727</td>\n",
              "      <td>1078</td>\n",
              "      <td>LUNCH BAG  BLACK SKULL.</td>\n",
              "    </tr>\n",
              "    <tr>\n",
              "      <th>18</th>\n",
              "      <td>20728</td>\n",
              "      <td>977</td>\n",
              "      <td>LUNCH BAG CARS BLUE</td>\n",
              "    </tr>\n",
              "    <tr>\n",
              "      <th>21</th>\n",
              "      <td>21034</td>\n",
              "      <td>897</td>\n",
              "      <td>REX CASH+CARRY JUMBO SHOPPER</td>\n",
              "    </tr>\n",
              "    <tr>\n",
              "      <th>12</th>\n",
              "      <td>21212</td>\n",
              "      <td>1050</td>\n",
              "      <td>PACK OF 72 RETROSPOT CAKE CASES</td>\n",
              "    </tr>\n",
              "    <tr>\n",
              "      <th>15</th>\n",
              "      <td>22086</td>\n",
              "      <td>1003</td>\n",
              "      <td>PAPER CHAIN KIT 50'S CHRISTMAS</td>\n",
              "    </tr>\n",
              "    <tr>\n",
              "      <th>29</th>\n",
              "      <td>22138</td>\n",
              "      <td>858</td>\n",
              "      <td>BAKING SET 9 PIECE RETROSPOT</td>\n",
              "    </tr>\n",
              "    <tr>\n",
              "      <th>11</th>\n",
              "      <td>22197</td>\n",
              "      <td>1060</td>\n",
              "      <td>SMALL POPCORN HOLDER</td>\n",
              "    </tr>\n",
              "    <tr>\n",
              "      <th>16</th>\n",
              "      <td>22382</td>\n",
              "      <td>993</td>\n",
              "      <td>LUNCH BAG SPACEBOY DESIGN</td>\n",
              "    </tr>\n",
              "    <tr>\n",
              "      <th>10</th>\n",
              "      <td>22383</td>\n",
              "      <td>1063</td>\n",
              "      <td>LUNCH BAG SUKI DESIGN</td>\n",
              "    </tr>\n",
              "    <tr>\n",
              "      <th>20</th>\n",
              "      <td>22384</td>\n",
              "      <td>941</td>\n",
              "      <td>LUNCH BAG PINK POLKADOT</td>\n",
              "    </tr>\n",
              "    <tr>\n",
              "      <th>23</th>\n",
              "      <td>22386</td>\n",
              "      <td>884</td>\n",
              "      <td>JUMBO BAG PINK POLKADOT</td>\n",
              "    </tr>\n",
              "    <tr>\n",
              "      <th>1</th>\n",
              "      <td>22423</td>\n",
              "      <td>1714</td>\n",
              "      <td>REGENCY CAKESTAND 3 TIER</td>\n",
              "    </tr>\n",
              "    <tr>\n",
              "      <th>19</th>\n",
              "      <td>22457</td>\n",
              "      <td>972</td>\n",
              "      <td>NATURAL SLATE HEART CHALKBOARD</td>\n",
              "    </tr>\n",
              "    <tr>\n",
              "      <th>17</th>\n",
              "      <td>22469</td>\n",
              "      <td>979</td>\n",
              "      <td>HEART OF WICKER SMALL</td>\n",
              "    </tr>\n",
              "    <tr>\n",
              "      <th>30</th>\n",
              "      <td>22666</td>\n",
              "      <td>836</td>\n",
              "      <td>RECIPE BOX PANTRY YELLOW DESIGN</td>\n",
              "    </tr>\n",
              "    <tr>\n",
              "      <th>6</th>\n",
              "      <td>22720</td>\n",
              "      <td>1152</td>\n",
              "      <td>SET OF 3 CAKE TINS PANTRY DESIGN</td>\n",
              "    </tr>\n",
              "    <tr>\n",
              "      <th>22</th>\n",
              "      <td>22727</td>\n",
              "      <td>886</td>\n",
              "      <td>ALARM CLOCK BAKELIKE RED</td>\n",
              "    </tr>\n",
              "    <tr>\n",
              "      <th>26</th>\n",
              "      <td>22960</td>\n",
              "      <td>880</td>\n",
              "      <td>JAM MAKING SET WITH JARS</td>\n",
              "    </tr>\n",
              "    <tr>\n",
              "      <th>28</th>\n",
              "      <td>22961</td>\n",
              "      <td>870</td>\n",
              "      <td>JAM MAKING SET PRINTED</td>\n",
              "    </tr>\n",
              "    <tr>\n",
              "      <th>25</th>\n",
              "      <td>22993</td>\n",
              "      <td>881</td>\n",
              "      <td>SET OF 4 PANTRY JELLY MOULDS</td>\n",
              "    </tr>\n",
              "    <tr>\n",
              "      <th>8</th>\n",
              "      <td>23203</td>\n",
              "      <td>1091</td>\n",
              "      <td>JUMBO BAG VINTAGE DOILY</td>\n",
              "    </tr>\n",
              "    <tr>\n",
              "      <th>27</th>\n",
              "      <td>23206</td>\n",
              "      <td>878</td>\n",
              "      <td>LUNCH BAG APPLE DESIGN</td>\n",
              "    </tr>\n",
              "    <tr>\n",
              "      <th>14</th>\n",
              "      <td>23209</td>\n",
              "      <td>1020</td>\n",
              "      <td>LUNCH BAG DOILEY PATTERN</td>\n",
              "    </tr>\n",
              "    <tr>\n",
              "      <th>13</th>\n",
              "      <td>23298</td>\n",
              "      <td>1021</td>\n",
              "      <td>SPOTTY BUNTING</td>\n",
              "    </tr>\n",
              "  </tbody>\n",
              "</table>\n",
              "</div>"
            ],
            "text/plain": [
              "    StockCode  Counter                        Description\n",
              "5       20725     1304            LUNCH BAG RED RETROSPOT\n",
              "9       20727     1078            LUNCH BAG  BLACK SKULL.\n",
              "18      20728      977                LUNCH BAG CARS BLUE\n",
              "21      21034      897       REX CASH+CARRY JUMBO SHOPPER\n",
              "12      21212     1050    PACK OF 72 RETROSPOT CAKE CASES\n",
              "15      22086     1003    PAPER CHAIN KIT 50'S CHRISTMAS \n",
              "29      22138      858      BAKING SET 9 PIECE RETROSPOT \n",
              "11      22197     1060               SMALL POPCORN HOLDER\n",
              "16      22382      993         LUNCH BAG SPACEBOY DESIGN \n",
              "10      22383     1063             LUNCH BAG SUKI DESIGN \n",
              "20      22384      941            LUNCH BAG PINK POLKADOT\n",
              "23      22386      884            JUMBO BAG PINK POLKADOT\n",
              "1       22423     1714           REGENCY CAKESTAND 3 TIER\n",
              "19      22457      972    NATURAL SLATE HEART CHALKBOARD \n",
              "17      22469      979              HEART OF WICKER SMALL\n",
              "30      22666      836    RECIPE BOX PANTRY YELLOW DESIGN\n",
              "6       22720     1152  SET OF 3 CAKE TINS PANTRY DESIGN \n",
              "22      22727      886          ALARM CLOCK BAKELIKE RED \n",
              "26      22960      880           JAM MAKING SET WITH JARS\n",
              "28      22961      870             JAM MAKING SET PRINTED\n",
              "25      22993      881       SET OF 4 PANTRY JELLY MOULDS\n",
              "8       23203     1091           JUMBO BAG VINTAGE DOILY \n",
              "27      23206      878             LUNCH BAG APPLE DESIGN\n",
              "14      23209     1020          LUNCH BAG DOILEY PATTERN \n",
              "13      23298     1021                     SPOTTY BUNTING"
            ]
          },
          "metadata": {},
          "execution_count": 106
        }
      ]
    },
    {
      "cell_type": "code",
      "metadata": {
        "colab": {
          "base_uri": "https://localhost:8080/",
          "height": 296
        },
        "id": "Ukq-faRWYc0o",
        "outputId": "24d1cf38-e317-4b0d-ba4e-e09dba9f9172"
      },
      "source": [
        "block3.plot.scatter(x='StockCode', y='Counter')"
      ],
      "execution_count": null,
      "outputs": [
        {
          "output_type": "execute_result",
          "data": {
            "text/plain": [
              "<matplotlib.axes._subplots.AxesSubplot at 0x7f6dc9df0850>"
            ]
          },
          "metadata": {},
          "execution_count": 107
        },
        {
          "output_type": "display_data",
          "data": {
            "image/png": "[encoded data removed]",
            "text/plain": [
              "<Figure size 432x288 with 1 Axes>"
            ]
          },
          "metadata": {
            "needs_background": "light"
          }
        }
      ]
    },
    {
      "cell_type": "code",
      "metadata": {
        "colab": {
          "base_uri": "https://localhost:8080/",
          "height": 1000
        },
        "id": "OaWEmBeybF4K",
        "outputId": "fb29f4d9-4198-4277-cfb5-b463b8232405"
      },
      "source": [
        "block3[:50].sort_values(by=['StockCode'], ascending=True)"
      ],
      "execution_count": null,
      "outputs": [
        {
          "output_type": "execute_result",
          "data": {
            "text/html": [
              "<div>\n",
              "<style scoped>\n",
              "    .dataframe tbody tr th:only-of-type {\n",
              "        vertical-align: middle;\n",
              "    }\n",
              "\n",
              "    .dataframe tbody tr th {\n",
              "        vertical-align: top;\n",
              "    }\n",
              "\n",
              "    .dataframe thead th {\n",
              "        text-align: right;\n",
              "    }\n",
              "</style>\n",
              "<table border=\"1\" class=\"dataframe\">\n",
              "  <thead>\n",
              "    <tr style=\"text-align: right;\">\n",
              "      <th></th>\n",
              "      <th>StockCode</th>\n",
              "      <th>Counter</th>\n",
              "      <th>Description</th>\n",
              "    </tr>\n",
              "  </thead>\n",
              "  <tbody>\n",
              "    <tr>\n",
              "      <th>2220</th>\n",
              "      <td>35241</td>\n",
              "      <td>30</td>\n",
              "      <td>ENAMEL BLUE RIM BISCUIT BIN</td>\n",
              "    </tr>\n",
              "    <tr>\n",
              "      <th>1862</th>\n",
              "      <td>35646</td>\n",
              "      <td>46</td>\n",
              "      <td>VINTAGE BEAD PINK EVENING BAG</td>\n",
              "    </tr>\n",
              "    <tr>\n",
              "      <th>1614</th>\n",
              "      <td>35648</td>\n",
              "      <td>63</td>\n",
              "      <td>VINTAGE BEAD PINK PURSE</td>\n",
              "    </tr>\n",
              "    <tr>\n",
              "      <th>2121</th>\n",
              "      <td>35651</td>\n",
              "      <td>34</td>\n",
              "      <td>VINTAGE BEAD PINK SCARF</td>\n",
              "    </tr>\n",
              "    <tr>\n",
              "      <th>1946</th>\n",
              "      <td>35923</td>\n",
              "      <td>42</td>\n",
              "      <td>CANDY HEART HANGING DECORATION</td>\n",
              "    </tr>\n",
              "    <tr>\n",
              "      <th>2146</th>\n",
              "      <td>35924</td>\n",
              "      <td>33</td>\n",
              "      <td>HANGING FAIRY CAKE DECORATION</td>\n",
              "    </tr>\n",
              "    <tr>\n",
              "      <th>1309</th>\n",
              "      <td>35953</td>\n",
              "      <td>88</td>\n",
              "      <td>FOLKART STAR CHRISTMAS DECORATIONS</td>\n",
              "    </tr>\n",
              "    <tr>\n",
              "      <th>2133</th>\n",
              "      <td>35954</td>\n",
              "      <td>33</td>\n",
              "      <td>SMALL FOLKART STAR CHRISTMAS DEC</td>\n",
              "    </tr>\n",
              "    <tr>\n",
              "      <th>777</th>\n",
              "      <td>35961</td>\n",
              "      <td>157</td>\n",
              "      <td>FOLKART ZINC HEART CHRISTMAS DEC</td>\n",
              "    </tr>\n",
              "    <tr>\n",
              "      <th>2017</th>\n",
              "      <td>35964</td>\n",
              "      <td>38</td>\n",
              "      <td>FOLKART CLIP ON STARS</td>\n",
              "    </tr>\n",
              "    <tr>\n",
              "      <th>2258</th>\n",
              "      <td>35965</td>\n",
              "      <td>28</td>\n",
              "      <td>FOLKART HEART NAPKIN RINGS</td>\n",
              "    </tr>\n",
              "    <tr>\n",
              "      <th>2230</th>\n",
              "      <td>35967</td>\n",
              "      <td>29</td>\n",
              "      <td>FOLK ART METAL STAR T-LIGHT HOLDER</td>\n",
              "    </tr>\n",
              "    <tr>\n",
              "      <th>2544</th>\n",
              "      <td>35968</td>\n",
              "      <td>18</td>\n",
              "      <td>FOLK ART METAL HEART T-LIGHT HOLDER</td>\n",
              "    </tr>\n",
              "    <tr>\n",
              "      <th>243</th>\n",
              "      <td>35970</td>\n",
              "      <td>344</td>\n",
              "      <td>ZINC FOLKART SLEIGH BELLS</td>\n",
              "    </tr>\n",
              "    <tr>\n",
              "      <th>1703</th>\n",
              "      <td>35971</td>\n",
              "      <td>56</td>\n",
              "      <td>ROSE FOLKART HEART DECORATIONS</td>\n",
              "    </tr>\n",
              "    <tr>\n",
              "      <th>1844</th>\n",
              "      <td>37327</td>\n",
              "      <td>47</td>\n",
              "      <td>ASSTD MULTICOLOUR CIRCLES MUG</td>\n",
              "    </tr>\n",
              "    <tr>\n",
              "      <th>1590</th>\n",
              "      <td>37340</td>\n",
              "      <td>64</td>\n",
              "      <td>MULTICOLOUR SPRING FLOWER MUG</td>\n",
              "    </tr>\n",
              "    <tr>\n",
              "      <th>1598</th>\n",
              "      <td>37342</td>\n",
              "      <td>64</td>\n",
              "      <td>POLKADOT COFFEE CUP &amp; SAUCER PINK</td>\n",
              "    </tr>\n",
              "    <tr>\n",
              "      <th>1040</th>\n",
              "      <td>37370</td>\n",
              "      <td>116</td>\n",
              "      <td>RETRO COFFEE MUGS ASSORTED</td>\n",
              "    </tr>\n",
              "    <tr>\n",
              "      <th>1380</th>\n",
              "      <td>37413</td>\n",
              "      <td>81</td>\n",
              "      <td>ICON MUG REVOLUTIONARY</td>\n",
              "    </tr>\n",
              "    <tr>\n",
              "      <th>791</th>\n",
              "      <td>37446</td>\n",
              "      <td>153</td>\n",
              "      <td>MINI CAKE STAND WITH HANGING CAKES</td>\n",
              "    </tr>\n",
              "    <tr>\n",
              "      <th>1443</th>\n",
              "      <td>37447</td>\n",
              "      <td>76</td>\n",
              "      <td>CERAMIC CAKE DESIGN SPOTTED PLATE</td>\n",
              "    </tr>\n",
              "    <tr>\n",
              "      <th>770</th>\n",
              "      <td>37448</td>\n",
              "      <td>157</td>\n",
              "      <td>CERAMIC CAKE DESIGN SPOTTED MUG</td>\n",
              "    </tr>\n",
              "    <tr>\n",
              "      <th>793</th>\n",
              "      <td>37449</td>\n",
              "      <td>152</td>\n",
              "      <td>CERAMIC CAKE STAND + HANGING CAKES</td>\n",
              "    </tr>\n",
              "    <tr>\n",
              "      <th>1181</th>\n",
              "      <td>37450</td>\n",
              "      <td>100</td>\n",
              "      <td>CERAMIC CAKE BOWL + HANGING CAKES</td>\n",
              "    </tr>\n",
              "    <tr>\n",
              "      <th>2236</th>\n",
              "      <td>37475</td>\n",
              "      <td>29</td>\n",
              "      <td>SET/4 COLOURFUL MIXING BOWLS</td>\n",
              "    </tr>\n",
              "    <tr>\n",
              "      <th>1357</th>\n",
              "      <td>37495</td>\n",
              "      <td>84</td>\n",
              "      <td>FAIRY CAKE BIRTHDAY CANDLE SET</td>\n",
              "    </tr>\n",
              "    <tr>\n",
              "      <th>1397</th>\n",
              "      <td>37500</td>\n",
              "      <td>80</td>\n",
              "      <td>TEA TIME TEAPOT IN GIFT BOX</td>\n",
              "    </tr>\n",
              "    <tr>\n",
              "      <th>2241</th>\n",
              "      <td>37501</td>\n",
              "      <td>29</td>\n",
              "      <td>TEA TIME TEA SET IN GIFT BOX</td>\n",
              "    </tr>\n",
              "    <tr>\n",
              "      <th>2108</th>\n",
              "      <td>40001</td>\n",
              "      <td>35</td>\n",
              "      <td>WHITE BAMBOO RIBS LAMPSHADE</td>\n",
              "    </tr>\n",
              "    <tr>\n",
              "      <th>1468</th>\n",
              "      <td>40016</td>\n",
              "      <td>75</td>\n",
              "      <td>CHINESE DRAGON PAPER LANTERNS</td>\n",
              "    </tr>\n",
              "    <tr>\n",
              "      <th>2493</th>\n",
              "      <td>44234</td>\n",
              "      <td>20</td>\n",
              "      <td>ASSORTED CIRCULAR MOBILE</td>\n",
              "    </tr>\n",
              "    <tr>\n",
              "      <th>2553</th>\n",
              "      <td>46118</td>\n",
              "      <td>18</td>\n",
              "      <td>FUNKY MONKEY CUSHION COVER</td>\n",
              "    </tr>\n",
              "    <tr>\n",
              "      <th>1656</th>\n",
              "      <td>47421</td>\n",
              "      <td>60</td>\n",
              "      <td>ASSORTED COLOUR LIZARD SUCTION HOOK</td>\n",
              "    </tr>\n",
              "    <tr>\n",
              "      <th>1881</th>\n",
              "      <td>47422</td>\n",
              "      <td>45</td>\n",
              "      <td>ASSORTED MONKEY SUCTION CUP HOOK</td>\n",
              "    </tr>\n",
              "    <tr>\n",
              "      <th>2350</th>\n",
              "      <td>47471</td>\n",
              "      <td>24</td>\n",
              "      <td>RAINBOW PEGS PHOTO CLIP STRING</td>\n",
              "    </tr>\n",
              "    <tr>\n",
              "      <th>1766</th>\n",
              "      <td>47480</td>\n",
              "      <td>52</td>\n",
              "      <td>HANGING PHOTO CLIP ROPE LADDER</td>\n",
              "    </tr>\n",
              "    <tr>\n",
              "      <th>2530</th>\n",
              "      <td>47481</td>\n",
              "      <td>19</td>\n",
              "      <td>50CM METAL STRING WITH  7 CLIPS</td>\n",
              "    </tr>\n",
              "    <tr>\n",
              "      <th>4</th>\n",
              "      <td>47566</td>\n",
              "      <td>1390</td>\n",
              "      <td>PARTY BUNTING</td>\n",
              "    </tr>\n",
              "    <tr>\n",
              "      <th>1441</th>\n",
              "      <td>47580</td>\n",
              "      <td>76</td>\n",
              "      <td>TEA TIME DES TEA COSY</td>\n",
              "    </tr>\n",
              "    <tr>\n",
              "      <th>689</th>\n",
              "      <td>48111</td>\n",
              "      <td>175</td>\n",
              "      <td>DOORMAT 3 SMILEY CATS</td>\n",
              "    </tr>\n",
              "    <tr>\n",
              "      <th>870</th>\n",
              "      <td>48116</td>\n",
              "      <td>141</td>\n",
              "      <td>DOORMAT MULTICOLOUR STRIPE</td>\n",
              "    </tr>\n",
              "    <tr>\n",
              "      <th>649</th>\n",
              "      <td>48129</td>\n",
              "      <td>183</td>\n",
              "      <td>DOORMAT TOPIARY</td>\n",
              "    </tr>\n",
              "    <tr>\n",
              "      <th>113</th>\n",
              "      <td>48138</td>\n",
              "      <td>518</td>\n",
              "      <td>DOORMAT UNION FLAG</td>\n",
              "    </tr>\n",
              "    <tr>\n",
              "      <th>231</th>\n",
              "      <td>48184</td>\n",
              "      <td>356</td>\n",
              "      <td>DOORMAT ENGLISH ROSE</td>\n",
              "    </tr>\n",
              "    <tr>\n",
              "      <th>455</th>\n",
              "      <td>48185</td>\n",
              "      <td>242</td>\n",
              "      <td>DOORMAT FAIRY CAKE</td>\n",
              "    </tr>\n",
              "    <tr>\n",
              "      <th>103</th>\n",
              "      <td>48187</td>\n",
              "      <td>533</td>\n",
              "      <td>DOORMAT NEW ENGLAND</td>\n",
              "    </tr>\n",
              "    <tr>\n",
              "      <th>430</th>\n",
              "      <td>48188</td>\n",
              "      <td>252</td>\n",
              "      <td>DOORMAT WELCOME PUPPIES</td>\n",
              "    </tr>\n",
              "    <tr>\n",
              "      <th>133</th>\n",
              "      <td>48194</td>\n",
              "      <td>481</td>\n",
              "      <td>DOORMAT HEARTS</td>\n",
              "    </tr>\n",
              "    <tr>\n",
              "      <th>2529</th>\n",
              "      <td>51008</td>\n",
              "      <td>19</td>\n",
              "      <td>AFGHAN SLIPPER SOCK PAIR</td>\n",
              "    </tr>\n",
              "  </tbody>\n",
              "</table>\n",
              "</div>"
            ],
            "text/plain": [
              "      StockCode  Counter                          Description\n",
              "2220      35241       30          ENAMEL BLUE RIM BISCUIT BIN\n",
              "1862      35646       46        VINTAGE BEAD PINK EVENING BAG\n",
              "1614      35648       63             VINTAGE BEAD PINK PURSE \n",
              "2121      35651       34             VINTAGE BEAD PINK SCARF \n",
              "1946      35923       42       CANDY HEART HANGING DECORATION\n",
              "2146      35924       33        HANGING FAIRY CAKE DECORATION\n",
              "1309      35953       88   FOLKART STAR CHRISTMAS DECORATIONS\n",
              "2133      35954       33     SMALL FOLKART STAR CHRISTMAS DEC\n",
              "777       35961      157     FOLKART ZINC HEART CHRISTMAS DEC\n",
              "2017      35964       38                FOLKART CLIP ON STARS\n",
              "2258      35965       28           FOLKART HEART NAPKIN RINGS\n",
              "2230      35967       29   FOLK ART METAL STAR T-LIGHT HOLDER\n",
              "2544      35968       18  FOLK ART METAL HEART T-LIGHT HOLDER\n",
              "243       35970      344            ZINC FOLKART SLEIGH BELLS\n",
              "1703      35971       56       ROSE FOLKART HEART DECORATIONS\n",
              "1844      37327       47        ASSTD MULTICOLOUR CIRCLES MUG\n",
              "1590      37340       64        MULTICOLOUR SPRING FLOWER MUG\n",
              "1598      37342       64    POLKADOT COFFEE CUP & SAUCER PINK\n",
              "1040      37370      116           RETRO COFFEE MUGS ASSORTED\n",
              "1380      37413       81               ICON MUG REVOLUTIONARY\n",
              "791       37446      153   MINI CAKE STAND WITH HANGING CAKES\n",
              "1443      37447       76    CERAMIC CAKE DESIGN SPOTTED PLATE\n",
              "770       37448      157      CERAMIC CAKE DESIGN SPOTTED MUG\n",
              "793       37449      152   CERAMIC CAKE STAND + HANGING CAKES\n",
              "1181      37450      100    CERAMIC CAKE BOWL + HANGING CAKES\n",
              "2236      37475       29         SET/4 COLOURFUL MIXING BOWLS\n",
              "1357      37495       84       FAIRY CAKE BIRTHDAY CANDLE SET\n",
              "1397      37500       80          TEA TIME TEAPOT IN GIFT BOX\n",
              "2241      37501       29         TEA TIME TEA SET IN GIFT BOX\n",
              "2108      40001       35          WHITE BAMBOO RIBS LAMPSHADE\n",
              "1468      40016       75        CHINESE DRAGON PAPER LANTERNS\n",
              "2493      44234       20             ASSORTED CIRCULAR MOBILE\n",
              "2553      46118       18           FUNKY MONKEY CUSHION COVER\n",
              "1656      47421       60  ASSORTED COLOUR LIZARD SUCTION HOOK\n",
              "1881      47422       45     ASSORTED MONKEY SUCTION CUP HOOK\n",
              "2350      47471       24       RAINBOW PEGS PHOTO CLIP STRING\n",
              "1766      47480       52       HANGING PHOTO CLIP ROPE LADDER\n",
              "2530      47481       19      50CM METAL STRING WITH  7 CLIPS\n",
              "4         47566     1390                        PARTY BUNTING\n",
              "1441      47580       76                TEA TIME DES TEA COSY\n",
              "689       48111      175                DOORMAT 3 SMILEY CATS\n",
              "870       48116      141           DOORMAT MULTICOLOUR STRIPE\n",
              "649       48129      183                      DOORMAT TOPIARY\n",
              "113       48138      518                   DOORMAT UNION FLAG\n",
              "231       48184      356                DOORMAT ENGLISH ROSE \n",
              "455       48185      242                   DOORMAT FAIRY CAKE\n",
              "103       48187      533                  DOORMAT NEW ENGLAND\n",
              "430       48188      252              DOORMAT WELCOME PUPPIES\n",
              "133       48194      481                       DOORMAT HEARTS\n",
              "2529      51008       19             AFGHAN SLIPPER SOCK PAIR"
            ]
          },
          "metadata": {},
          "execution_count": 108
        }
      ]
    },
    {
      "cell_type": "code",
      "metadata": {
        "colab": {
          "base_uri": "https://localhost:8080/",
          "height": 296
        },
        "id": "L6sZRecpYgJP",
        "outputId": "d4f34fb4-bfff-4cbb-fb0e-8782c713753c"
      },
      "source": [
        "block4.plot.scatter(x='StockCode', y='Counter')"
      ],
      "execution_count": null,
      "outputs": [
        {
          "output_type": "execute_result",
          "data": {
            "text/plain": [
              "<matplotlib.axes._subplots.AxesSubplot at 0x7f6dca4d51d0>"
            ]
          },
          "metadata": {},
          "execution_count": 109
        },
        {
          "output_type": "display_data",
          "data": {
            "image/png": "[encoded data removed]",
            "text/plain": [
              "<Figure size 432x288 with 1 Axes>"
            ]
          },
          "metadata": {
            "needs_background": "light"
          }
        }
      ]
    },
    {
      "cell_type": "code",
      "metadata": {
        "colab": {
          "base_uri": "https://localhost:8080/",
          "height": 819
        },
        "id": "nx8rwB81b2dM",
        "outputId": "05d07beb-da4f-424c-95a7-da3fca42873c"
      },
      "source": [
        "block4[:25].sort_values(by=['StockCode'], ascending=True)"
      ],
      "execution_count": null,
      "outputs": [
        {
          "output_type": "execute_result",
          "data": {
            "text/html": [
              "<div>\n",
              "<style scoped>\n",
              "    .dataframe tbody tr th:only-of-type {\n",
              "        vertical-align: middle;\n",
              "    }\n",
              "\n",
              "    .dataframe tbody tr th {\n",
              "        vertical-align: top;\n",
              "    }\n",
              "\n",
              "    .dataframe thead th {\n",
              "        text-align: right;\n",
              "    }\n",
              "</style>\n",
              "<table border=\"1\" class=\"dataframe\">\n",
              "  <thead>\n",
              "    <tr style=\"text-align: right;\">\n",
              "      <th></th>\n",
              "      <th>StockCode</th>\n",
              "      <th>Counter</th>\n",
              "      <th>Description</th>\n",
              "    </tr>\n",
              "  </thead>\n",
              "  <tbody>\n",
              "    <tr>\n",
              "      <th>1667</th>\n",
              "      <td>62018</td>\n",
              "      <td>59</td>\n",
              "      <td>SOMBRERO</td>\n",
              "    </tr>\n",
              "    <tr>\n",
              "      <th>1390</th>\n",
              "      <td>70006</td>\n",
              "      <td>80</td>\n",
              "      <td>LOVE HEART POCKET WARMER</td>\n",
              "    </tr>\n",
              "    <tr>\n",
              "      <th>1736</th>\n",
              "      <td>70007</td>\n",
              "      <td>54</td>\n",
              "      <td>HI TEC ALPINE HAND WARMER</td>\n",
              "    </tr>\n",
              "    <tr>\n",
              "      <th>1821</th>\n",
              "      <td>71038</td>\n",
              "      <td>48</td>\n",
              "      <td>WHITE HANGING BEADS CANDLE HOLDER</td>\n",
              "    </tr>\n",
              "    <tr>\n",
              "      <th>417</th>\n",
              "      <td>71053</td>\n",
              "      <td>257</td>\n",
              "      <td>WHITE METAL LANTERN</td>\n",
              "    </tr>\n",
              "    <tr>\n",
              "      <th>2163</th>\n",
              "      <td>71270</td>\n",
              "      <td>32</td>\n",
              "      <td>PHOTO CLIP LINE</td>\n",
              "    </tr>\n",
              "    <tr>\n",
              "      <th>2252</th>\n",
              "      <td>71279</td>\n",
              "      <td>28</td>\n",
              "      <td>PINK GLASS CANDLEHOLDER</td>\n",
              "    </tr>\n",
              "    <tr>\n",
              "      <th>203</th>\n",
              "      <td>71459</td>\n",
              "      <td>380</td>\n",
              "      <td>HANGING JAM JAR T-LIGHT HOLDER</td>\n",
              "    </tr>\n",
              "    <tr>\n",
              "      <th>389</th>\n",
              "      <td>71477</td>\n",
              "      <td>266</td>\n",
              "      <td>COLOUR GLASS. STAR T-LIGHT HOLDER</td>\n",
              "    </tr>\n",
              "    <tr>\n",
              "      <th>1876</th>\n",
              "      <td>72122</td>\n",
              "      <td>45</td>\n",
              "      <td>COFFEE SCENT PILLAR CANDLE</td>\n",
              "    </tr>\n",
              "    <tr>\n",
              "      <th>2207</th>\n",
              "      <td>72127</td>\n",
              "      <td>30</td>\n",
              "      <td>COLUMBIAN CANDLE ROUND</td>\n",
              "    </tr>\n",
              "    <tr>\n",
              "      <th>2137</th>\n",
              "      <td>72128</td>\n",
              "      <td>33</td>\n",
              "      <td>COLUMBIAN CANDLE ROUND</td>\n",
              "    </tr>\n",
              "    <tr>\n",
              "      <th>2317</th>\n",
              "      <td>72130</td>\n",
              "      <td>25</td>\n",
              "      <td>COLUMBIAN CANDLE ROUND</td>\n",
              "    </tr>\n",
              "    <tr>\n",
              "      <th>1566</th>\n",
              "      <td>72232</td>\n",
              "      <td>66</td>\n",
              "      <td>FENG SHUI PILLAR CANDLE</td>\n",
              "    </tr>\n",
              "    <tr>\n",
              "      <th>2055</th>\n",
              "      <td>72586</td>\n",
              "      <td>37</td>\n",
              "      <td>SET OF 6 HALLOWEEN GHOST T-LIGHTS</td>\n",
              "    </tr>\n",
              "    <tr>\n",
              "      <th>1917</th>\n",
              "      <td>72598</td>\n",
              "      <td>43</td>\n",
              "      <td>SET/12 TAPER CANDLES</td>\n",
              "    </tr>\n",
              "    <tr>\n",
              "      <th>436</th>\n",
              "      <td>72741</td>\n",
              "      <td>250</td>\n",
              "      <td>GRAND CHOCOLATECANDLE</td>\n",
              "    </tr>\n",
              "    <tr>\n",
              "      <th>2197</th>\n",
              "      <td>72816</td>\n",
              "      <td>31</td>\n",
              "      <td>SET/3 CHRISTMAS DECOUPAGE CANDLES</td>\n",
              "    </tr>\n",
              "    <tr>\n",
              "      <th>1206</th>\n",
              "      <td>72817</td>\n",
              "      <td>96</td>\n",
              "      <td>SET OF 2 CHRISTMAS DECOUPAGE CANDLE</td>\n",
              "    </tr>\n",
              "    <tr>\n",
              "      <th>1587</th>\n",
              "      <td>72818</td>\n",
              "      <td>65</td>\n",
              "      <td>CHRISTMAS DECOUPAGE CANDLE</td>\n",
              "    </tr>\n",
              "    <tr>\n",
              "      <th>2216</th>\n",
              "      <td>72819</td>\n",
              "      <td>30</td>\n",
              "      <td>CUPID DESIGN SCENTED CANDLES</td>\n",
              "    </tr>\n",
              "    <tr>\n",
              "      <th>1228</th>\n",
              "      <td>79000</td>\n",
              "      <td>95</td>\n",
              "      <td>MOROCCAN TEA GLASS</td>\n",
              "    </tr>\n",
              "    <tr>\n",
              "      <th>1768</th>\n",
              "      <td>79160</td>\n",
              "      <td>51</td>\n",
              "      <td>HEART SHAPE WIRELESS DOORBELL</td>\n",
              "    </tr>\n",
              "    <tr>\n",
              "      <th>2136</th>\n",
              "      <td>79163</td>\n",
              "      <td>33</td>\n",
              "      <td>BLACK CHAMPAGNE GLASS</td>\n",
              "    </tr>\n",
              "    <tr>\n",
              "      <th>110</th>\n",
              "      <td>79321</td>\n",
              "      <td>521</td>\n",
              "      <td>CHILLI LIGHTS</td>\n",
              "    </tr>\n",
              "  </tbody>\n",
              "</table>\n",
              "</div>"
            ],
            "text/plain": [
              "      StockCode  Counter                          Description\n",
              "1667      62018       59                            SOMBRERO \n",
              "1390      70006       80             LOVE HEART POCKET WARMER\n",
              "1736      70007       54            HI TEC ALPINE HAND WARMER\n",
              "1821      71038       48    WHITE HANGING BEADS CANDLE HOLDER\n",
              "417       71053      257                  WHITE METAL LANTERN\n",
              "2163      71270       32                      PHOTO CLIP LINE\n",
              "2252      71279       28              PINK GLASS CANDLEHOLDER\n",
              "203       71459      380       HANGING JAM JAR T-LIGHT HOLDER\n",
              "389       71477      266    COLOUR GLASS. STAR T-LIGHT HOLDER\n",
              "1876      72122       45           COFFEE SCENT PILLAR CANDLE\n",
              "2207      72127       30              COLUMBIAN CANDLE ROUND \n",
              "2137      72128       33               COLUMBIAN CANDLE ROUND\n",
              "2317      72130       25               COLUMBIAN CANDLE ROUND\n",
              "1566      72232       66              FENG SHUI PILLAR CANDLE\n",
              "2055      72586       37    SET OF 6 HALLOWEEN GHOST T-LIGHTS\n",
              "1917      72598       43                 SET/12 TAPER CANDLES\n",
              "436       72741      250                GRAND CHOCOLATECANDLE\n",
              "2197      72816       31    SET/3 CHRISTMAS DECOUPAGE CANDLES\n",
              "1206      72817       96  SET OF 2 CHRISTMAS DECOUPAGE CANDLE\n",
              "1587      72818       65           CHRISTMAS DECOUPAGE CANDLE\n",
              "2216      72819       30         CUPID DESIGN SCENTED CANDLES\n",
              "1228      79000       95                   MOROCCAN TEA GLASS\n",
              "1768      79160       51        HEART SHAPE WIRELESS DOORBELL\n",
              "2136      79163       33                BLACK CHAMPAGNE GLASS\n",
              "110       79321      521                        CHILLI LIGHTS"
            ]
          },
          "metadata": {},
          "execution_count": 110
        }
      ]
    },
    {
      "cell_type": "code",
      "metadata": {
        "colab": {
          "base_uri": "https://localhost:8080/",
          "height": 296
        },
        "id": "NDkXjFFgYi7n",
        "outputId": "9743542f-c95d-473e-c43d-027a5f2785ba"
      },
      "source": [
        "block5.plot.scatter(x='StockCode', y='Counter')"
      ],
      "execution_count": null,
      "outputs": [
        {
          "output_type": "execute_result",
          "data": {
            "text/plain": [
              "<matplotlib.axes._subplots.AxesSubplot at 0x7f6dc9dd7690>"
            ]
          },
          "metadata": {},
          "execution_count": 111
        },
        {
          "output_type": "display_data",
          "data": {
            "image/png": "[encoded data removed]",
            "text/plain": [
              "<Figure size 432x288 with 1 Axes>"
            ]
          },
          "metadata": {
            "needs_background": "light"
          }
        }
      ]
    },
    {
      "cell_type": "code",
      "metadata": {
        "colab": {
          "base_uri": "https://localhost:8080/",
          "height": 819
        },
        "id": "FjdncFzvcr-K",
        "outputId": "8736eb17-c2ed-4961-d82d-b17235a0e3e6"
      },
      "source": [
        "block5[:25].sort_values(by=['StockCode'], ascending=True)"
      ],
      "execution_count": null,
      "outputs": [
        {
          "output_type": "execute_result",
          "data": {
            "text/html": [
              "<div>\n",
              "<style scoped>\n",
              "    .dataframe tbody tr th:only-of-type {\n",
              "        vertical-align: middle;\n",
              "    }\n",
              "\n",
              "    .dataframe tbody tr th {\n",
              "        vertical-align: top;\n",
              "    }\n",
              "\n",
              "    .dataframe thead th {\n",
              "        text-align: right;\n",
              "    }\n",
              "</style>\n",
              "<table border=\"1\" class=\"dataframe\">\n",
              "  <thead>\n",
              "    <tr style=\"text-align: right;\">\n",
              "      <th></th>\n",
              "      <th>StockCode</th>\n",
              "      <th>Counter</th>\n",
              "      <th>Description</th>\n",
              "    </tr>\n",
              "  </thead>\n",
              "  <tbody>\n",
              "    <tr>\n",
              "      <th>24</th>\n",
              "      <td>82482</td>\n",
              "      <td>882</td>\n",
              "      <td>WOODEN PICTURE FRAME WHITE FINISH</td>\n",
              "    </tr>\n",
              "    <tr>\n",
              "      <th>119</th>\n",
              "      <td>82483</td>\n",
              "      <td>512</td>\n",
              "      <td>WOOD 2 DRAWER CABINET WHITE FINISH</td>\n",
              "    </tr>\n",
              "    <tr>\n",
              "      <th>78</th>\n",
              "      <td>82484</td>\n",
              "      <td>604</td>\n",
              "      <td>WOOD BLACK BOARD ANT WHITE FINISH</td>\n",
              "    </tr>\n",
              "    <tr>\n",
              "      <th>94</th>\n",
              "      <td>82486</td>\n",
              "      <td>562</td>\n",
              "      <td>3 DRAWER ANTIQUE WHITE WOOD CABINET</td>\n",
              "    </tr>\n",
              "    <tr>\n",
              "      <th>195</th>\n",
              "      <td>82580</td>\n",
              "      <td>386</td>\n",
              "      <td>BATHROOM METAL SIGN</td>\n",
              "    </tr>\n",
              "    <tr>\n",
              "      <th>209</th>\n",
              "      <td>82582</td>\n",
              "      <td>376</td>\n",
              "      <td>AREA PATROLLED METAL SIGN</td>\n",
              "    </tr>\n",
              "    <tr>\n",
              "      <th>189</th>\n",
              "      <td>82583</td>\n",
              "      <td>392</td>\n",
              "      <td>HOT BATHS METAL SIGN</td>\n",
              "    </tr>\n",
              "    <tr>\n",
              "      <th>167</th>\n",
              "      <td>82600</td>\n",
              "      <td>422</td>\n",
              "      <td>NO SINGING METAL SIGN</td>\n",
              "    </tr>\n",
              "    <tr>\n",
              "      <th>139</th>\n",
              "      <td>84077</td>\n",
              "      <td>472</td>\n",
              "      <td>WORLD WAR 2 GLIDERS ASSTD DESIGNS</td>\n",
              "    </tr>\n",
              "    <tr>\n",
              "      <th>285</th>\n",
              "      <td>84347</td>\n",
              "      <td>320</td>\n",
              "      <td>ROTATING SILVER ANGELS T-LIGHT HLDR</td>\n",
              "    </tr>\n",
              "    <tr>\n",
              "      <th>170</th>\n",
              "      <td>84375</td>\n",
              "      <td>419</td>\n",
              "      <td>SET OF 20 KIDS COOKIE CUTTERS</td>\n",
              "    </tr>\n",
              "    <tr>\n",
              "      <th>106</th>\n",
              "      <td>84378</td>\n",
              "      <td>528</td>\n",
              "      <td>SET OF 3 HEART COOKIE CUTTERS</td>\n",
              "    </tr>\n",
              "    <tr>\n",
              "      <th>122</th>\n",
              "      <td>84380</td>\n",
              "      <td>503</td>\n",
              "      <td>SET OF 3 BUTTERFLY COOKIE CUTTERS</td>\n",
              "    </tr>\n",
              "    <tr>\n",
              "      <th>212</th>\n",
              "      <td>84692</td>\n",
              "      <td>370</td>\n",
              "      <td>BOX OF 24 COCKTAIL PARASOLS</td>\n",
              "    </tr>\n",
              "    <tr>\n",
              "      <th>105</th>\n",
              "      <td>84755</td>\n",
              "      <td>530</td>\n",
              "      <td>COLOUR GLASS T-LIGHT HOLDER HANGING</td>\n",
              "    </tr>\n",
              "    <tr>\n",
              "      <th>130</th>\n",
              "      <td>84836</td>\n",
              "      <td>486</td>\n",
              "      <td>ZINC METAL HEART DECORATION</td>\n",
              "    </tr>\n",
              "    <tr>\n",
              "      <th>3</th>\n",
              "      <td>84879</td>\n",
              "      <td>1395</td>\n",
              "      <td>ASSORTED COLOUR BIRD ORNAMENT</td>\n",
              "    </tr>\n",
              "    <tr>\n",
              "      <th>298</th>\n",
              "      <td>84945</td>\n",
              "      <td>311</td>\n",
              "      <td>MULTI COLOUR SILVER T-LIGHT HOLDER</td>\n",
              "    </tr>\n",
              "    <tr>\n",
              "      <th>60</th>\n",
              "      <td>84946</td>\n",
              "      <td>682</td>\n",
              "      <td>ANTIQUE SILVER T-LIGHT GLASS</td>\n",
              "    </tr>\n",
              "    <tr>\n",
              "      <th>90</th>\n",
              "      <td>84978</td>\n",
              "      <td>577</td>\n",
              "      <td>HANGING HEART JAR T-LIGHT HOLDER</td>\n",
              "    </tr>\n",
              "    <tr>\n",
              "      <th>62</th>\n",
              "      <td>84991</td>\n",
              "      <td>672</td>\n",
              "      <td>60 TEATIME FAIRY CAKE CASES</td>\n",
              "    </tr>\n",
              "    <tr>\n",
              "      <th>118</th>\n",
              "      <td>84992</td>\n",
              "      <td>515</td>\n",
              "      <td>72 SWEETHEART FAIRY CAKE CASES</td>\n",
              "    </tr>\n",
              "    <tr>\n",
              "      <th>153</th>\n",
              "      <td>85066</td>\n",
              "      <td>450</td>\n",
              "      <td>CREAM SWEETHEART MINI CHEST</td>\n",
              "    </tr>\n",
              "    <tr>\n",
              "      <th>214</th>\n",
              "      <td>85150</td>\n",
              "      <td>368</td>\n",
              "      <td>LADIES &amp; GENTLEMEN METAL SIGN</td>\n",
              "    </tr>\n",
              "    <tr>\n",
              "      <th>83</th>\n",
              "      <td>85152</td>\n",
              "      <td>592</td>\n",
              "      <td>HAND OVER THE CHOCOLATE   SIGN</td>\n",
              "    </tr>\n",
              "  </tbody>\n",
              "</table>\n",
              "</div>"
            ],
            "text/plain": [
              "     StockCode  Counter                          Description\n",
              "24       82482      882    WOODEN PICTURE FRAME WHITE FINISH\n",
              "119      82483      512   WOOD 2 DRAWER CABINET WHITE FINISH\n",
              "78       82484      604    WOOD BLACK BOARD ANT WHITE FINISH\n",
              "94       82486      562  3 DRAWER ANTIQUE WHITE WOOD CABINET\n",
              "195      82580      386                  BATHROOM METAL SIGN\n",
              "209      82582      376            AREA PATROLLED METAL SIGN\n",
              "189      82583      392                 HOT BATHS METAL SIGN\n",
              "167      82600      422                NO SINGING METAL SIGN\n",
              "139      84077      472    WORLD WAR 2 GLIDERS ASSTD DESIGNS\n",
              "285      84347      320  ROTATING SILVER ANGELS T-LIGHT HLDR\n",
              "170      84375      419        SET OF 20 KIDS COOKIE CUTTERS\n",
              "106      84378      528        SET OF 3 HEART COOKIE CUTTERS\n",
              "122      84380      503    SET OF 3 BUTTERFLY COOKIE CUTTERS\n",
              "212      84692      370          BOX OF 24 COCKTAIL PARASOLS\n",
              "105      84755      530  COLOUR GLASS T-LIGHT HOLDER HANGING\n",
              "130      84836      486          ZINC METAL HEART DECORATION\n",
              "3        84879     1395        ASSORTED COLOUR BIRD ORNAMENT\n",
              "298      84945      311   MULTI COLOUR SILVER T-LIGHT HOLDER\n",
              "60       84946      682         ANTIQUE SILVER T-LIGHT GLASS\n",
              "90       84978      577     HANGING HEART JAR T-LIGHT HOLDER\n",
              "62       84991      672          60 TEATIME FAIRY CAKE CASES\n",
              "118      84992      515       72 SWEETHEART FAIRY CAKE CASES\n",
              "153      85066      450          CREAM SWEETHEART MINI CHEST\n",
              "214      85150      368        LADIES & GENTLEMEN METAL SIGN\n",
              "83       85152      592      HAND OVER THE CHOCOLATE   SIGN "
            ]
          },
          "metadata": {},
          "execution_count": 112
        }
      ]
    },
    {
      "cell_type": "code",
      "metadata": {
        "colab": {
          "base_uri": "https://localhost:8080/",
          "height": 296
        },
        "id": "iZc5T8gXY38H",
        "outputId": "a0483fb8-8ebb-4aed-b267-26212f367ca0"
      },
      "source": [
        "block6.plot.scatter(x='StockCode', y='Counter')"
      ],
      "execution_count": null,
      "outputs": [
        {
          "output_type": "execute_result",
          "data": {
            "text/plain": [
              "<matplotlib.axes._subplots.AxesSubplot at 0x7f6dcb28d7d0>"
            ]
          },
          "metadata": {},
          "execution_count": 113
        },
        {
          "output_type": "display_data",
          "data": {
            "image/png": "[encoded data removed]",
            "text/plain": [
              "<Figure size 432x288 with 1 Axes>"
            ]
          },
          "metadata": {
            "needs_background": "light"
          }
        }
      ]
    },
    {
      "cell_type": "code",
      "metadata": {
        "colab": {
          "base_uri": "https://localhost:8080/",
          "height": 819
        },
        "id": "XO-VUkBkc4R1",
        "outputId": "c511c402-e977-4340-f8af-3cd7b8086d22"
      },
      "source": [
        "block6[:25].sort_values(by=['StockCode'], ascending=True)"
      ],
      "execution_count": null,
      "outputs": [
        {
          "output_type": "execute_result",
          "data": {
            "text/html": [
              "<div>\n",
              "<style scoped>\n",
              "    .dataframe tbody tr th:only-of-type {\n",
              "        vertical-align: middle;\n",
              "    }\n",
              "\n",
              "    .dataframe tbody tr th {\n",
              "        vertical-align: top;\n",
              "    }\n",
              "\n",
              "    .dataframe thead th {\n",
              "        text-align: right;\n",
              "    }\n",
              "</style>\n",
              "<table border=\"1\" class=\"dataframe\">\n",
              "  <thead>\n",
              "    <tr style=\"text-align: right;\">\n",
              "      <th></th>\n",
              "      <th>StockCode</th>\n",
              "      <th>Counter</th>\n",
              "      <th>Description</th>\n",
              "    </tr>\n",
              "  </thead>\n",
              "  <tbody>\n",
              "    <tr>\n",
              "      <th>202</th>\n",
              "      <td>1505678</td>\n",
              "      <td>380</td>\n",
              "      <td>EDWARDIAN PARASOL NATURAL</td>\n",
              "    </tr>\n",
              "    <tr>\n",
              "      <th>442</th>\n",
              "      <td>1616180</td>\n",
              "      <td>248</td>\n",
              "      <td>WRAP ENGLISH ROSE</td>\n",
              "    </tr>\n",
              "    <tr>\n",
              "      <th>294</th>\n",
              "      <td>4756666</td>\n",
              "      <td>314</td>\n",
              "      <td>TEA TIME PARTY BUNTING</td>\n",
              "    </tr>\n",
              "    <tr>\n",
              "      <th>234</th>\n",
              "      <td>4759065</td>\n",
              "      <td>355</td>\n",
              "      <td>BLUE HAPPY BIRTHDAY BUNTING</td>\n",
              "    </tr>\n",
              "    <tr>\n",
              "      <th>224</th>\n",
              "      <td>4759066</td>\n",
              "      <td>360</td>\n",
              "      <td>PINK HAPPY BIRTHDAY BUNTING</td>\n",
              "    </tr>\n",
              "    <tr>\n",
              "      <th>183</th>\n",
              "      <td>4759168</td>\n",
              "      <td>397</td>\n",
              "      <td>PINK FAIRY CAKE CHILDRENS APRON</td>\n",
              "    </tr>\n",
              "    <tr>\n",
              "      <th>35</th>\n",
              "      <td>8249476</td>\n",
              "      <td>816</td>\n",
              "      <td>WOODEN FRAME ANTIQUE WHITE</td>\n",
              "    </tr>\n",
              "    <tr>\n",
              "      <th>279</th>\n",
              "      <td>8402969</td>\n",
              "      <td>323</td>\n",
              "      <td>RED WOOLLY HOTTIE WHITE HEART.</td>\n",
              "    </tr>\n",
              "    <tr>\n",
              "      <th>281</th>\n",
              "      <td>8402971</td>\n",
              "      <td>323</td>\n",
              "      <td>KNITTED UNION FLAG HOT WATER BOTTLE</td>\n",
              "    </tr>\n",
              "    <tr>\n",
              "      <th>366</th>\n",
              "      <td>8403069</td>\n",
              "      <td>279</td>\n",
              "      <td>ENGLISH ROSE HOT WATER BOTTLE</td>\n",
              "    </tr>\n",
              "    <tr>\n",
              "      <th>215</th>\n",
              "      <td>8459666</td>\n",
              "      <td>368</td>\n",
              "      <td>SMALL DOLLY MIX DESIGN ORANGE BOWL</td>\n",
              "    </tr>\n",
              "    <tr>\n",
              "      <th>326</th>\n",
              "      <td>8459670</td>\n",
              "      <td>297</td>\n",
              "      <td>SMALL MARSHMALLOWS PINK BOWL</td>\n",
              "    </tr>\n",
              "    <tr>\n",
              "      <th>255</th>\n",
              "      <td>8497076</td>\n",
              "      <td>337</td>\n",
              "      <td>SINGLE HEART ZINC T-LIGHT HOLDER</td>\n",
              "    </tr>\n",
              "    <tr>\n",
              "      <th>176</th>\n",
              "      <td>8497083</td>\n",
              "      <td>412</td>\n",
              "      <td>HANGING HEART ZINC T-LIGHT HOLDER</td>\n",
              "    </tr>\n",
              "    <tr>\n",
              "      <th>264</th>\n",
              "      <td>8499766</td>\n",
              "      <td>330</td>\n",
              "      <td>CHILDRENS CUTLERY RETROSPOT RED</td>\n",
              "    </tr>\n",
              "    <tr>\n",
              "      <th>307</th>\n",
              "      <td>8499767</td>\n",
              "      <td>308</td>\n",
              "      <td>CHILDRENS CUTLERY POLKADOT BLUE</td>\n",
              "    </tr>\n",
              "    <tr>\n",
              "      <th>166</th>\n",
              "      <td>8499768</td>\n",
              "      <td>427</td>\n",
              "      <td>PINK 3 PIECE POLKADOT CUTLERY SET</td>\n",
              "    </tr>\n",
              "    <tr>\n",
              "      <th>418</th>\n",
              "      <td>8501465</td>\n",
              "      <td>256</td>\n",
              "      <td>BLACK/BLUE POLKADOT UMBRELLA</td>\n",
              "    </tr>\n",
              "    <tr>\n",
              "      <th>317</th>\n",
              "      <td>8501466</td>\n",
              "      <td>303</td>\n",
              "      <td>RED RETROSPOT UMBRELLA</td>\n",
              "    </tr>\n",
              "    <tr>\n",
              "      <th>380</th>\n",
              "      <td>8504965</td>\n",
              "      <td>271</td>\n",
              "      <td>TRADITIONAL CHRISTMAS RIBBONS</td>\n",
              "    </tr>\n",
              "    <tr>\n",
              "      <th>248</th>\n",
              "      <td>8504969</td>\n",
              "      <td>341</td>\n",
              "      <td>SCANDINAVIAN REDS RIBBONS</td>\n",
              "    </tr>\n",
              "    <tr>\n",
              "      <th>2</th>\n",
              "      <td>8509966</td>\n",
              "      <td>1615</td>\n",
              "      <td>JUMBO BAG RED RETROSPOT</td>\n",
              "    </tr>\n",
              "    <tr>\n",
              "      <th>66</th>\n",
              "      <td>8509967</td>\n",
              "      <td>656</td>\n",
              "      <td>JUMBO  BAG BAROQUE BLACK WHITE</td>\n",
              "    </tr>\n",
              "    <tr>\n",
              "      <th>67</th>\n",
              "      <td>8509970</td>\n",
              "      <td>656</td>\n",
              "      <td>JUMBO BAG STRAWBERRY</td>\n",
              "    </tr>\n",
              "    <tr>\n",
              "      <th>0</th>\n",
              "      <td>8512365</td>\n",
              "      <td>2023</td>\n",
              "      <td>WHITE HANGING HEART T-LIGHT HOLDER</td>\n",
              "    </tr>\n",
              "  </tbody>\n",
              "</table>\n",
              "</div>"
            ],
            "text/plain": [
              "     StockCode  Counter                          Description\n",
              "202    1505678      380            EDWARDIAN PARASOL NATURAL\n",
              "442    1616180      248                   WRAP ENGLISH ROSE \n",
              "294    4756666      314               TEA TIME PARTY BUNTING\n",
              "234    4759065      355          BLUE HAPPY BIRTHDAY BUNTING\n",
              "224    4759066      360          PINK HAPPY BIRTHDAY BUNTING\n",
              "183    4759168      397      PINK FAIRY CAKE CHILDRENS APRON\n",
              "35     8249476      816          WOODEN FRAME ANTIQUE WHITE \n",
              "279    8402969      323       RED WOOLLY HOTTIE WHITE HEART.\n",
              "281    8402971      323  KNITTED UNION FLAG HOT WATER BOTTLE\n",
              "366    8403069      279        ENGLISH ROSE HOT WATER BOTTLE\n",
              "215    8459666      368   SMALL DOLLY MIX DESIGN ORANGE BOWL\n",
              "326    8459670      297         SMALL MARSHMALLOWS PINK BOWL\n",
              "255    8497076      337     SINGLE HEART ZINC T-LIGHT HOLDER\n",
              "176    8497083      412    HANGING HEART ZINC T-LIGHT HOLDER\n",
              "264    8499766      330     CHILDRENS CUTLERY RETROSPOT RED \n",
              "307    8499767      308      CHILDRENS CUTLERY POLKADOT BLUE\n",
              "166    8499768      427    PINK 3 PIECE POLKADOT CUTLERY SET\n",
              "418    8501465      256         BLACK/BLUE POLKADOT UMBRELLA\n",
              "317    8501466      303               RED RETROSPOT UMBRELLA\n",
              "380    8504965      271        TRADITIONAL CHRISTMAS RIBBONS\n",
              "248    8504969      341            SCANDINAVIAN REDS RIBBONS\n",
              "2      8509966     1615              JUMBO BAG RED RETROSPOT\n",
              "66     8509967      656       JUMBO  BAG BAROQUE BLACK WHITE\n",
              "67     8509970      656                 JUMBO BAG STRAWBERRY\n",
              "0      8512365     2023   WHITE HANGING HEART T-LIGHT HOLDER"
            ]
          },
          "metadata": {},
          "execution_count": 114
        }
      ]
    },
    {
      "cell_type": "markdown",
      "metadata": {
        "id": "Y_ENQvQns9-_"
      },
      "source": [
        "Also there could be seen that same type of products fit in more that one cluster: <br> 8459666\t368\tSMALL DOLLY MIX DESIGN ORANGE BOWL in Cluster 4 <br> \n",
        "<br> 37450\t100\tCERAMIC CAKE BOWL + HANGING CAKES 3 <br> \n"
      ]
    },
    {
      "cell_type": "markdown",
      "metadata": {
        "id": "0FPdi5epsR5O"
      },
      "source": [
        "The next attempt it would be too look at a way to cluster the product based on the text desctription."
      ]
    },
    {
      "cell_type": "markdown",
      "metadata": {
        "id": "vlkVOAE_bV9v"
      },
      "source": [
        "#4. Customer categories"
      ]
    },
    {
      "cell_type": "markdown",
      "metadata": {
        "id": "PNRM5GMPcUdh"
      },
      "source": [
        ""
      ]
    },
    {
      "cell_type": "code",
      "metadata": {
        "id": "fSE9RXDocUMZ"
      },
      "source": [
        ""
      ],
      "execution_count": null,
      "outputs": []
    },
    {
      "cell_type": "markdown",
      "metadata": {
        "id": "vjBpvBPgbeJ4"
      },
      "source": [
        "#5. Classifying customers"
      ]
    },
    {
      "cell_type": "markdown",
      "metadata": {
        "id": "D4_yrnQecV-6"
      },
      "source": [
        ""
      ]
    },
    {
      "cell_type": "code",
      "metadata": {
        "id": "w2jbFcjncVvn"
      },
      "source": [
        ""
      ],
      "execution_count": null,
      "outputs": []
    },
    {
      "cell_type": "markdown",
      "metadata": {
        "id": "iPCzeAECbqyY"
      },
      "source": [
        "#6. Testing the predictions"
      ]
    },
    {
      "cell_type": "markdown",
      "metadata": {
        "id": "8fzipODFcZ3K"
      },
      "source": [
        ""
      ]
    },
    {
      "cell_type": "code",
      "metadata": {
        "id": "pAZgKI9McZl1"
      },
      "source": [
        ""
      ],
      "execution_count": null,
      "outputs": []
    },
    {
      "cell_type": "markdown",
      "metadata": {
        "id": "so36Ok5obxEO"
      },
      "source": [
        "#7. Conclusions"
      ]
    },
    {
      "cell_type": "markdown",
      "metadata": {
        "id": "LBphg4-Ycc1I"
      },
      "source": [
        ""
      ]
    },
    {
      "cell_type": "code",
      "metadata": {
        "id": "gR4xpp3sccoV"
      },
      "source": [
        ""
      ],
      "execution_count": null,
      "outputs": []
    }
  ]
}